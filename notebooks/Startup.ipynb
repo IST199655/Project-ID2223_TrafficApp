{
 "cells": [
  {
   "cell_type": "markdown",
   "metadata": {},
   "source": [
    "# 1. Startup Application and Internal Memory "
   ]
  },
  {
   "cell_type": "code",
   "execution_count": 1,
   "metadata": {},
   "outputs": [
    {
     "name": "stderr",
     "output_type": "stream",
     "text": [
      "/Users/diogosilva/Documents/Scalable ML and DeepL/Project-ID2223_TrafficApp/.venv/lib/python3.12/site-packages/tqdm/auto.py:21: TqdmWarning: IProgress not found. Please update jupyter and ipywidgets. See https://ipywidgets.readthedocs.io/en/stable/user_install.html\n",
      "  from .autonotebook import tqdm as notebook_tqdm\n"
     ]
    }
   ],
   "source": [
    "import pickle\n",
    "import pandas as pd\n",
    "import hopsworks\n",
    "import os\n",
    "\n",
    "from keys import TOMTOM_API_KEY, TOMTOM_API_KEY2, TOMTOM_API_KEY3\n",
    "from functions.TomTomAPI import get_traffic_map, plot_traffic_map, get_grid_from_map, get_traffic_map_from_grid, get_grid_from_map_alt\n",
    "from functions.HolidaysnWeather import get_weather, is_holiday"
   ]
  },
  {
   "cell_type": "code",
   "execution_count": 2,
   "metadata": {},
   "outputs": [],
   "source": [
    "coordinates = 59.34318, 18.05141 # Stockholm near Odenplan\n",
    "radius = 1000\n",
    "zoom = 20\n",
    "\n",
    "TOMTOM_keys = [TOMTOM_API_KEY, TOMTOM_API_KEY2, TOMTOM_API_KEY3]"
   ]
  },
  {
   "cell_type": "markdown",
   "metadata": {},
   "source": [
    "### 1.1. Create GRID for extracting traffic data"
   ]
  },
  {
   "cell_type": "code",
   "execution_count": 3,
   "metadata": {},
   "outputs": [
    {
     "name": "stdout",
     "output_type": "stream",
     "text": [
      "Failed with key: 0\n",
      "Failed with key: 1\n",
      "eliminated: 7\n",
      "eliminated: 3\n",
      "{'error': 'Point too far from nearest existing segment.', 'httpStatusCode': 400, 'detailedError': {'code': 'INVALID_REQUEST', 'message': 'Point too far from nearest existing segment.'}}\n",
      "eliminated: 2\n",
      "eliminated: 2\n",
      "eliminated: 1\n",
      "{'error': 'Point too far from nearest existing segment.', 'httpStatusCode': 400, 'detailedError': {'code': 'INVALID_REQUEST', 'message': 'Point too far from nearest existing segment.'}}\n",
      "{'error': 'Point too far from nearest existing segment.', 'httpStatusCode': 400, 'detailedError': {'code': 'INVALID_REQUEST', 'message': 'Point too far from nearest existing segment.'}}\n",
      "{'error': 'Point too far from nearest existing segment.', 'httpStatusCode': 400, 'detailedError': {'code': 'INVALID_REQUEST', 'message': 'Point too far from nearest existing segment.'}}\n",
      "{'error': 'Point too far from nearest existing segment.', 'httpStatusCode': 400, 'detailedError': {'code': 'INVALID_REQUEST', 'message': 'Point too far from nearest existing segment.'}}\n",
      "eliminated: 2\n",
      "{'error': 'Point too far from nearest existing segment.', 'httpStatusCode': 400, 'detailedError': {'code': 'INVALID_REQUEST', 'message': 'Point too far from nearest existing segment.'}}\n",
      "eliminated: 2\n",
      "eliminated: 2\n",
      "eliminated: 1\n",
      "{'error': 'Point too far from nearest existing segment.', 'httpStatusCode': 400, 'detailedError': {'code': 'INVALID_REQUEST', 'message': 'Point too far from nearest existing segment.'}}\n",
      "{'error': 'Point too far from nearest existing segment.', 'httpStatusCode': 400, 'detailedError': {'code': 'INVALID_REQUEST', 'message': 'Point too far from nearest existing segment.'}}\n",
      "{'error': 'Point too far from nearest existing segment.', 'httpStatusCode': 400, 'detailedError': {'code': 'INVALID_REQUEST', 'message': 'Point too far from nearest existing segment.'}}\n",
      "{'error': 'Point too far from nearest existing segment.', 'httpStatusCode': 400, 'detailedError': {'code': 'INVALID_REQUEST', 'message': 'Point too far from nearest existing segment.'}}\n",
      "{'error': 'Point too far from nearest existing segment.', 'httpStatusCode': 400, 'detailedError': {'code': 'INVALID_REQUEST', 'message': 'Point too far from nearest existing segment.'}}\n",
      "{'error': 'Point too far from nearest existing segment.', 'httpStatusCode': 400, 'detailedError': {'code': 'INVALID_REQUEST', 'message': 'Point too far from nearest existing segment.'}}\n",
      "{'error': 'Point too far from nearest existing segment.', 'httpStatusCode': 400, 'detailedError': {'code': 'INVALID_REQUEST', 'message': 'Point too far from nearest existing segment.'}}\n",
      "eliminated: 1\n",
      "eliminated: 3\n",
      "eliminated: 3\n",
      "{'error': 'Point too far from nearest existing segment.', 'httpStatusCode': 400, 'detailedError': {'code': 'INVALID_REQUEST', 'message': 'Point too far from nearest existing segment.'}}\n",
      "eliminated: 2\n",
      "{'error': 'Point too far from nearest existing segment.', 'httpStatusCode': 400, 'detailedError': {'code': 'INVALID_REQUEST', 'message': 'Point too far from nearest existing segment.'}}\n",
      "{'error': 'Point too far from nearest existing segment.', 'httpStatusCode': 400, 'detailedError': {'code': 'INVALID_REQUEST', 'message': 'Point too far from nearest existing segment.'}}\n",
      "eliminated: 3\n",
      "eliminated: 1\n",
      "{'error': 'Point too far from nearest existing segment.', 'httpStatusCode': 400, 'detailedError': {'code': 'INVALID_REQUEST', 'message': 'Point too far from nearest existing segment.'}}\n",
      "{'error': 'Point too far from nearest existing segment.', 'httpStatusCode': 400, 'detailedError': {'code': 'INVALID_REQUEST', 'message': 'Point too far from nearest existing segment.'}}\n",
      "{'error': 'Point too far from nearest existing segment.', 'httpStatusCode': 400, 'detailedError': {'code': 'INVALID_REQUEST', 'message': 'Point too far from nearest existing segment.'}}\n",
      "{'error': 'Point too far from nearest existing segment.', 'httpStatusCode': 400, 'detailedError': {'code': 'INVALID_REQUEST', 'message': 'Point too far from nearest existing segment.'}}\n",
      "{'error': 'Point too far from nearest existing segment.', 'httpStatusCode': 400, 'detailedError': {'code': 'INVALID_REQUEST', 'message': 'Point too far from nearest existing segment.'}}\n",
      "{'error': 'Point too far from nearest existing segment.', 'httpStatusCode': 400, 'detailedError': {'code': 'INVALID_REQUEST', 'message': 'Point too far from nearest existing segment.'}}\n",
      "eliminated: 2\n",
      "eliminated: 3\n",
      "{'error': 'Point too far from nearest existing segment.', 'httpStatusCode': 400, 'detailedError': {'code': 'INVALID_REQUEST', 'message': 'Point too far from nearest existing segment.'}}\n",
      "{'error': 'Point too far from nearest existing segment.', 'httpStatusCode': 400, 'detailedError': {'code': 'INVALID_REQUEST', 'message': 'Point too far from nearest existing segment.'}}\n",
      "{'error': 'Point too far from nearest existing segment.', 'httpStatusCode': 400, 'detailedError': {'code': 'INVALID_REQUEST', 'message': 'Point too far from nearest existing segment.'}}\n",
      "{'error': 'Point too far from nearest existing segment.', 'httpStatusCode': 400, 'detailedError': {'code': 'INVALID_REQUEST', 'message': 'Point too far from nearest existing segment.'}}\n",
      "{'error': 'Point too far from nearest existing segment.', 'httpStatusCode': 400, 'detailedError': {'code': 'INVALID_REQUEST', 'message': 'Point too far from nearest existing segment.'}}\n",
      "{'error': 'Point too far from nearest existing segment.', 'httpStatusCode': 400, 'detailedError': {'code': 'INVALID_REQUEST', 'message': 'Point too far from nearest existing segment.'}}\n",
      "{'error': 'Point too far from nearest existing segment.', 'httpStatusCode': 400, 'detailedError': {'code': 'INVALID_REQUEST', 'message': 'Point too far from nearest existing segment.'}}\n",
      "{'error': 'Point too far from nearest existing segment.', 'httpStatusCode': 400, 'detailedError': {'code': 'INVALID_REQUEST', 'message': 'Point too far from nearest existing segment.'}}\n",
      "{'error': 'Point too far from nearest existing segment.', 'httpStatusCode': 400, 'detailedError': {'code': 'INVALID_REQUEST', 'message': 'Point too far from nearest existing segment.'}}\n",
      "{'error': 'Point too far from nearest existing segment.', 'httpStatusCode': 400, 'detailedError': {'code': 'INVALID_REQUEST', 'message': 'Point too far from nearest existing segment.'}}\n",
      "{'error': 'Point too far from nearest existing segment.', 'httpStatusCode': 400, 'detailedError': {'code': 'INVALID_REQUEST', 'message': 'Point too far from nearest existing segment.'}}\n",
      "{'error': 'Point too far from nearest existing segment.', 'httpStatusCode': 400, 'detailedError': {'code': 'INVALID_REQUEST', 'message': 'Point too far from nearest existing segment.'}}\n",
      "{'error': 'Point too far from nearest existing segment.', 'httpStatusCode': 400, 'detailedError': {'code': 'INVALID_REQUEST', 'message': 'Point too far from nearest existing segment.'}}\n",
      "Failed with key: 2\n"
     ]
    }
   ],
   "source": [
    "success = False\n",
    "i = 0\n",
    "while i < len(TOMTOM_keys) and not success:\n",
    "    try:\n",
    "        traffic_map = get_traffic_map(TOMTOM_keys[i], coordinates, radius, zoom = zoom)\n",
    "        success = True\n",
    "    except:\n",
    "        print('Failed with key:', i)\n",
    "        i += 1"
   ]
  },
  {
   "cell_type": "code",
   "execution_count": 4,
   "metadata": {},
   "outputs": [
    {
     "ename": "NameError",
     "evalue": "name 'traffic_map' is not defined",
     "output_type": "error",
     "traceback": [
      "\u001b[0;31m---------------------------------------------------------------------------\u001b[0m",
      "\u001b[0;31mNameError\u001b[0m                                 Traceback (most recent call last)",
      "Cell \u001b[0;32mIn[4], line 1\u001b[0m\n\u001b[0;32m----> 1\u001b[0m \u001b[38;5;28mprint\u001b[39m(\u001b[38;5;28mlen\u001b[39m(\u001b[43mtraffic_map\u001b[49m))\n\u001b[1;32m      2\u001b[0m traffic_map \u001b[38;5;241m=\u001b[39m \u001b[38;5;28mset\u001b[39m([\u001b[38;5;28mstr\u001b[39m(s) \u001b[38;5;28;01mfor\u001b[39;00m s \u001b[38;5;129;01min\u001b[39;00m traffic_map])\n\u001b[1;32m      3\u001b[0m traffic_map \u001b[38;5;241m=\u001b[39m [\u001b[38;5;28meval\u001b[39m(s) \u001b[38;5;28;01mfor\u001b[39;00m s \u001b[38;5;129;01min\u001b[39;00m \u001b[38;5;28mlist\u001b[39m(traffic_map)]\n",
      "\u001b[0;31mNameError\u001b[0m: name 'traffic_map' is not defined"
     ]
    }
   ],
   "source": [
    "print(len(traffic_map))\n",
    "traffic_map = set([str(s) for s in traffic_map])\n",
    "traffic_map = [eval(s) for s in list(traffic_map)]\n",
    "print(len(traffic_map))\n",
    "\n",
    "plot_traffic_map(traffic_map)"
   ]
  },
  {
   "cell_type": "code",
   "execution_count": 7,
   "metadata": {},
   "outputs": [],
   "source": [
    "grid = get_grid_from_map_alt(traffic_map)\n",
    "\n",
    "with open('variables/grid.pickle', 'wb') as file:\n",
    "    # Serialize and write the variable to the file\n",
    "    pickle.dump(grid, file)"
   ]
  },
  {
   "cell_type": "markdown",
   "metadata": {},
   "source": [
    "### 1.2. Collect traffic data"
   ]
  },
  {
   "cell_type": "code",
   "execution_count": 5,
   "metadata": {},
   "outputs": [
    {
     "name": "stdout",
     "output_type": "stream",
     "text": [
      "Failed with key: 0\n",
      "Failed with key: 1\n",
      "Failed with key: 2\n"
     ]
    },
    {
     "ename": "NameError",
     "evalue": "name 'traffic_map2' is not defined",
     "output_type": "error",
     "traceback": [
      "\u001b[0;31m---------------------------------------------------------------------------\u001b[0m",
      "\u001b[0;31mNameError\u001b[0m                                 Traceback (most recent call last)",
      "Cell \u001b[0;32mIn[5], line 16\u001b[0m\n\u001b[1;32m     13\u001b[0m         \u001b[38;5;28mprint\u001b[39m(\u001b[38;5;124m'\u001b[39m\u001b[38;5;124mFailed with key:\u001b[39m\u001b[38;5;124m'\u001b[39m, i)\n\u001b[1;32m     14\u001b[0m         i \u001b[38;5;241m+\u001b[39m\u001b[38;5;241m=\u001b[39m \u001b[38;5;241m1\u001b[39m\n\u001b[0;32m---> 16\u001b[0m \u001b[38;5;28mprint\u001b[39m(\u001b[38;5;28mlen\u001b[39m(\u001b[43mtraffic_map2\u001b[49m))\n\u001b[1;32m     17\u001b[0m traffic_map2 \u001b[38;5;241m=\u001b[39m \u001b[38;5;28mset\u001b[39m([\u001b[38;5;28mstr\u001b[39m(s) \u001b[38;5;28;01mfor\u001b[39;00m s \u001b[38;5;129;01min\u001b[39;00m traffic_map2])\n\u001b[1;32m     18\u001b[0m traffic_map2 \u001b[38;5;241m=\u001b[39m [\u001b[38;5;28meval\u001b[39m(s) \u001b[38;5;28;01mfor\u001b[39;00m s \u001b[38;5;129;01min\u001b[39;00m \u001b[38;5;28mlist\u001b[39m(traffic_map2)]\n",
      "\u001b[0;31mNameError\u001b[0m: name 'traffic_map2' is not defined"
     ]
    }
   ],
   "source": [
    "# Getting grid variable from memory\n",
    "with open('variables/grid.pickle', 'rb') as file:\n",
    "    # Deserialize and retrieve grid from pickle file\n",
    "    grid = pickle.load(file)\n",
    "\n",
    "success = False\n",
    "i = 0\n",
    "while i < len(TOMTOM_keys) and not success:\n",
    "    try:\n",
    "        traffic_map2 = get_traffic_map_from_grid(TOMTOM_keys[i],grid, zoom = zoom)\n",
    "        success = True\n",
    "    except:\n",
    "        print('Failed with key:', i)\n",
    "        i += 1\n",
    "\n",
    "print(len(traffic_map2))\n",
    "traffic_map2 = set([str(s) for s in traffic_map2])\n",
    "traffic_map2 = [eval(s) for s in list(traffic_map2)]\n",
    "print(len(traffic_map2))\n",
    "\n",
    "plot_traffic_map(traffic_map2, name = 'figures/traffic_map2.png')"
   ]
  },
  {
   "cell_type": "code",
   "execution_count": 10,
   "metadata": {},
   "outputs": [
    {
     "name": "stdout",
     "output_type": "stream",
     "text": [
      "(298, 6)\n"
     ]
    },
    {
     "data": {
      "text/html": [
       "<div>\n",
       "<style scoped>\n",
       "    .dataframe tbody tr th:only-of-type {\n",
       "        vertical-align: middle;\n",
       "    }\n",
       "\n",
       "    .dataframe tbody tr th {\n",
       "        vertical-align: top;\n",
       "    }\n",
       "\n",
       "    .dataframe thead th {\n",
       "        text-align: right;\n",
       "    }\n",
       "</style>\n",
       "<table border=\"1\" class=\"dataframe\">\n",
       "  <thead>\n",
       "    <tr style=\"text-align: right;\">\n",
       "      <th></th>\n",
       "      <th></th>\n",
       "      <th></th>\n",
       "      <th>currentSpeed</th>\n",
       "      <th>freeFlowSpeed</th>\n",
       "      <th>currentTravelTime</th>\n",
       "      <th>freeFlowTravelTime</th>\n",
       "      <th>confidence</th>\n",
       "      <th>roadClosure</th>\n",
       "    </tr>\n",
       "    <tr>\n",
       "      <th>date</th>\n",
       "      <th>frc</th>\n",
       "      <th>coordinates</th>\n",
       "      <th></th>\n",
       "      <th></th>\n",
       "      <th></th>\n",
       "      <th></th>\n",
       "      <th></th>\n",
       "      <th></th>\n",
       "    </tr>\n",
       "  </thead>\n",
       "  <tbody>\n",
       "    <tr>\n",
       "      <th>2024-12-17 17:59:24.232795</th>\n",
       "      <th>FRC6</th>\n",
       "      <th>LINESTRING (18.05793996855101 59.34143098065234, 18.05909868284573 59.341724696125944, 18.059121481622356 59.34173003871513, 18.05925425096865 59.34176491511634, 18.05930655404444 59.34177431806154, 18.05943664118169 59.34180919441731, 18.060249350513402 59.34203046183523, 18.06045856281662 59.342088118493734, 18.06070532604602 59.34215650283951, 18.061634711469907 59.34241802895159, 18.06197669311939 59.34251325319043, 18.06213896676485 59.342554838916534, 18.062234185184877 59.342578986822524, 18.063048235621096 59.34278550414185, 18.06316088839975 59.34281499430229, 18.06333389088124 59.342859272234236, 18.063544444288965 59.34290081479742, 18.06366246148562 59.342928979942506, 18.06379388972738 59.342962530198676, 18.063952140059314 59.34300411537467, 18.064051381792893 59.343032280434116, 18.064154646839967 59.34306177038026, 18.06434642478456 59.3431127152704, 18.064406774487452 59.34312882785816, 18.06448053523536 59.34314626534505, 18.06474070950989 59.34321195501312, 18.064911029782365 59.34325623242748, 18.065395168509667 59.34340107387494, 18.065447471585458 59.3434158186911, 18.065676800456288 59.34347885805031, 18.065931610312788 59.34354591470465, 18.066151551452037 59.34360895382239, 18.066308460679437 59.34365049546854, 18.066489509788 59.34369878970523)</th>\n",
       "      <td>14</td>\n",
       "      <td>20</td>\n",
       "      <td>140</td>\n",
       "      <td>98</td>\n",
       "      <td>0.92</td>\n",
       "      <td>False</td>\n",
       "    </tr>\n",
       "  </tbody>\n",
       "</table>\n",
       "</div>"
      ],
      "text/plain": [
       "                                                                                    currentSpeed  \\\n",
       "date                       frc  coordinates                                                        \n",
       "2024-12-17 17:59:24.232795 FRC6 LINESTRING (18.05793996855101 59.34143098065234...            14   \n",
       "\n",
       "                                                                                    freeFlowSpeed  \\\n",
       "date                       frc  coordinates                                                         \n",
       "2024-12-17 17:59:24.232795 FRC6 LINESTRING (18.05793996855101 59.34143098065234...             20   \n",
       "\n",
       "                                                                                    currentTravelTime  \\\n",
       "date                       frc  coordinates                                                             \n",
       "2024-12-17 17:59:24.232795 FRC6 LINESTRING (18.05793996855101 59.34143098065234...                140   \n",
       "\n",
       "                                                                                    freeFlowTravelTime  \\\n",
       "date                       frc  coordinates                                                              \n",
       "2024-12-17 17:59:24.232795 FRC6 LINESTRING (18.05793996855101 59.34143098065234...                  98   \n",
       "\n",
       "                                                                                    confidence  \\\n",
       "date                       frc  coordinates                                                      \n",
       "2024-12-17 17:59:24.232795 FRC6 LINESTRING (18.05793996855101 59.34143098065234...        0.92   \n",
       "\n",
       "                                                                                    roadClosure  \n",
       "date                       frc  coordinates                                                      \n",
       "2024-12-17 17:59:24.232795 FRC6 LINESTRING (18.05793996855101 59.34143098065234...        False  "
      ]
     },
     "execution_count": 10,
     "metadata": {},
     "output_type": "execute_result"
    }
   ],
   "source": [
    "from shapely.geometry import LineString\n",
    "import datetime\n",
    "\n",
    "traffic_df = pd.DataFrame(traffic_map)\n",
    "traffic_df['coordinates'] = traffic_df['coordinates'].apply(lambda x: LineString([(point['longitude'], point['latitude']) for point in x['coordinate']]))\n",
    "traffic_df = traffic_df.drop_duplicates()\n",
    "\n",
    "today = datetime.datetime.now()\n",
    "dates = [today for i in range(traffic_df.shape[0])]\n",
    "multi_index = pd.MultiIndex.from_arrays(\n",
    "    [dates,traffic_df['frc'], traffic_df['coordinates']],  # Pass as a list of arrays\n",
    "    names=['date','frc', 'coordinates']  # Assign level names\n",
    ")\n",
    "traffic_df.index = multi_index\n",
    "\n",
    "traffic_df = traffic_df.drop(columns = ['@version','frc', 'coordinates'])\n",
    "\n",
    "print(traffic_df.shape)\n",
    "traffic_df.head(1)"
   ]
  },
  {
   "cell_type": "markdown",
   "metadata": {},
   "source": [
    "### 1.3. Collect weather data"
   ]
  },
  {
   "cell_type": "code",
   "execution_count": 11,
   "metadata": {},
   "outputs": [
    {
     "data": {
      "text/html": [
       "<div>\n",
       "<style scoped>\n",
       "    .dataframe tbody tr th:only-of-type {\n",
       "        vertical-align: middle;\n",
       "    }\n",
       "\n",
       "    .dataframe tbody tr th {\n",
       "        vertical-align: top;\n",
       "    }\n",
       "\n",
       "    .dataframe thead th {\n",
       "        text-align: right;\n",
       "    }\n",
       "</style>\n",
       "<table border=\"1\" class=\"dataframe\">\n",
       "  <thead>\n",
       "    <tr style=\"text-align: right;\">\n",
       "      <th></th>\n",
       "      <th>temperature_2m_max</th>\n",
       "      <th>temperature_2m_min</th>\n",
       "      <th>precipitation_sum</th>\n",
       "      <th>wind_speed_10m_max</th>\n",
       "      <th>wind_direction_10m_dominant</th>\n",
       "    </tr>\n",
       "  </thead>\n",
       "  <tbody>\n",
       "    <tr>\n",
       "      <th>2024-12-17</th>\n",
       "      <td>3.876</td>\n",
       "      <td>-0.274</td>\n",
       "      <td>0.0</td>\n",
       "      <td>33.48</td>\n",
       "      <td>279.474274</td>\n",
       "    </tr>\n",
       "  </tbody>\n",
       "</table>\n",
       "</div>"
      ],
      "text/plain": [
       "            temperature_2m_max  temperature_2m_min  precipitation_sum  \\\n",
       "2024-12-17               3.876              -0.274                0.0   \n",
       "\n",
       "            wind_speed_10m_max  wind_direction_10m_dominant  \n",
       "2024-12-17               33.48                   279.474274  "
      ]
     },
     "execution_count": 11,
     "metadata": {},
     "output_type": "execute_result"
    }
   ],
   "source": [
    "weather_df = get_weather(coordinates)\n",
    "weather_df"
   ]
  },
  {
   "cell_type": "markdown",
   "metadata": {},
   "source": [
    "### 1.4. Collect weather data"
   ]
  },
  {
   "cell_type": "code",
   "execution_count": 12,
   "metadata": {},
   "outputs": [
    {
     "data": {
      "text/html": [
       "<div>\n",
       "<style scoped>\n",
       "    .dataframe tbody tr th:only-of-type {\n",
       "        vertical-align: middle;\n",
       "    }\n",
       "\n",
       "    .dataframe tbody tr th {\n",
       "        vertical-align: top;\n",
       "    }\n",
       "\n",
       "    .dataframe thead th {\n",
       "        text-align: right;\n",
       "    }\n",
       "</style>\n",
       "<table border=\"1\" class=\"dataframe\">\n",
       "  <thead>\n",
       "    <tr style=\"text-align: right;\">\n",
       "      <th></th>\n",
       "      <th>temperature_2m_max</th>\n",
       "      <th>temperature_2m_min</th>\n",
       "      <th>precipitation_sum</th>\n",
       "      <th>wind_speed_10m_max</th>\n",
       "      <th>wind_direction_10m_dominant</th>\n",
       "      <th>holiday_status</th>\n",
       "    </tr>\n",
       "  </thead>\n",
       "  <tbody>\n",
       "    <tr>\n",
       "      <th>2024-12-17</th>\n",
       "      <td>3.876</td>\n",
       "      <td>-0.274</td>\n",
       "      <td>0.0</td>\n",
       "      <td>33.48</td>\n",
       "      <td>279.474274</td>\n",
       "      <td>0</td>\n",
       "    </tr>\n",
       "  </tbody>\n",
       "</table>\n",
       "</div>"
      ],
      "text/plain": [
       "            temperature_2m_max  temperature_2m_min  precipitation_sum  \\\n",
       "2024-12-17               3.876              -0.274                0.0   \n",
       "\n",
       "            wind_speed_10m_max  wind_direction_10m_dominant  holiday_status  \n",
       "2024-12-17               33.48                   279.474274               0  "
      ]
     },
     "execution_count": 12,
     "metadata": {},
     "output_type": "execute_result"
    }
   ],
   "source": [
    "holiday_status = is_holiday()\n",
    "weather_df['holiday_status'] = holiday_status\n",
    "weather_df"
   ]
  },
  {
   "cell_type": "markdown",
   "metadata": {},
   "source": [
    "### 1.5. Joining data and uploading to Hopsworks"
   ]
  },
  {
   "cell_type": "code",
   "execution_count": 21,
   "metadata": {},
   "outputs": [
    {
     "name": "stdout",
     "output_type": "stream",
     "text": [
      "2024-12-17 17:22:32,709 INFO: Closing external client and cleaning up certificates.\n",
      "Connection closed.\n",
      "2024-12-17 17:22:32,723 INFO: Initializing external client\n",
      "2024-12-17 17:22:32,724 INFO: Base URL: https://c.app.hopsworks.ai:443\n",
      "2024-12-17 17:22:33,841 INFO: Python Engine initialized.\n",
      "\n",
      "Logged in to project, explore it here https://c.app.hopsworks.ai:443/p/1170583\n"
     ]
    }
   ],
   "source": [
    "# Get the API key from GitHub Secrets\n",
    "# HOPSWORKS_API_KEY = os.getenv('HOPSWORKS_API_KEY')\n",
    "with open('hopsworks-api-key.txt','r') as file:\n",
    "    os.environ[\"HOPSWORKS_API_KEY\"] = file.read().rstrip()\n",
    "\n",
    "# Get AQI API KEY from secrets of hopsworks\n",
    "proj = hopsworks.login(project = 'ID2223LAB1KTH', api_key_value=os.environ[\"HOPSWORKS_API_KEY\"])"
   ]
  },
  {
   "cell_type": "code",
   "execution_count": 22,
   "metadata": {},
   "outputs": [
    {
     "ename": "NameError",
     "evalue": "name 'traffic_df' is not defined",
     "output_type": "error",
     "traceback": [
      "\u001b[0;31m---------------------------------------------------------------------------\u001b[0m",
      "\u001b[0;31mNameError\u001b[0m                                 Traceback (most recent call last)",
      "Cell \u001b[0;32mIn[22], line 8\u001b[0m\n\u001b[1;32m      6\u001b[0m version \u001b[38;5;241m=\u001b[39m \u001b[38;5;241m1\u001b[39m\n\u001b[1;32m      7\u001b[0m fg \u001b[38;5;241m=\u001b[39m fs\u001b[38;5;241m.\u001b[39mget_or_create_feature_group(name\u001b[38;5;241m=\u001b[39mfeature_group_name, version\u001b[38;5;241m=\u001b[39mversion)\n\u001b[0;32m----> 8\u001b[0m fg\u001b[38;5;241m.\u001b[39minsert(\u001b[43mtraffic_df\u001b[49m)\n\u001b[1;32m     10\u001b[0m \u001b[38;5;66;03m# Define and insert the Air Quality Feature Group\u001b[39;00m\n\u001b[1;32m     11\u001b[0m feature_group_name \u001b[38;5;241m=\u001b[39m \u001b[38;5;124m\"\u001b[39m\u001b[38;5;124mstockholm_weather&holiday\u001b[39m\u001b[38;5;124m\"\u001b[39m\n",
      "\u001b[0;31mNameError\u001b[0m: name 'traffic_df' is not defined"
     ]
    }
   ],
   "source": [
    "# Initialize the feature store\n",
    "fs = proj.get_feature_store()\n",
    "\n",
    "# Define and insert the Forecast Weather Feature Group\n",
    "feature_group_name = \"stockholm_traffic\"\n",
    "version = 1\n",
    "fg = fs.get_or_create_feature_group(name=feature_group_name, version=version)\n",
    "fg.insert(traffic_df)\n",
    "\n",
    "# Define and insert the Air Quality Feature Group\n",
    "feature_group_name = \"stockholm_weather&holiday\"\n",
    "version = 1\n",
    "fg = fs.get_or_create_feature_group(name=feature_group_name, version=version)\n",
    "fg.insert(weather_df)"
   ]
  }
 ],
 "metadata": {
  "kernelspec": {
   "display_name": ".venv",
   "language": "python",
   "name": "python3"
  },
  "language_info": {
   "codemirror_mode": {
    "name": "ipython",
    "version": 3
   },
   "file_extension": ".py",
   "mimetype": "text/x-python",
   "name": "python",
   "nbconvert_exporter": "python",
   "pygments_lexer": "ipython3",
   "version": "3.12.2"
  }
 },
 "nbformat": 4,
 "nbformat_minor": 2
}

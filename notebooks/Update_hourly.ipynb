{
 "cells": [
  {
   "cell_type": "markdown",
   "metadata": {},
   "source": [
    "# 2. Update data daily"
   ]
  },
  {
   "cell_type": "code",
   "execution_count": null,
   "metadata": {},
   "outputs": [
    {
     "name": "stderr",
     "output_type": "stream",
     "text": [
      "/Users/diogosilva/Documents/Scalable ML and DeepL/Project-ID2223_TrafficApp/.venv/lib/python3.12/site-packages/tqdm/auto.py:21: TqdmWarning: IProgress not found. Please update jupyter and ipywidgets. See https://ipywidgets.readthedocs.io/en/stable/user_install.html\n",
      "  from .autonotebook import tqdm as notebook_tqdm\n"
     ]
    }
   ],
   "source": [
    "import pickle\n",
    "import pandas as pd\n",
    "import hopsworks\n",
    "import os\n",
    "\n",
    "# from keys import TOMTOM_API_KEY, TOMTOM_API_KEY2, TOMTOM_API_KEY3, CALENDAR_API_KEY\n",
    "TOMTOM_API_KEY = os.getenv('TOMTOM_API_KEY')\n",
    "TOMTOM_API_KEY2 = os.getenv('TOMTOM_API_KEY2')\n",
    "TOMTOM_API_KEY3 = os.getenv('TOMTOM_API_KEY3')\n",
    "CALENDAR_API_KEY = os.getenv('CALENDAR_API_KEY')\n",
    "\n",
    "from functions.TomTomAPI import get_traffic_map_from_grid\n",
    "from functions.HolidaysnWeather import get_weather, is_holiday"
   ]
  },
  {
   "cell_type": "code",
   "execution_count": 2,
   "metadata": {},
   "outputs": [],
   "source": [
    "coordinates = 59.34318, 18.05141 # Stockholm near Odenplan\n",
    "zoom = 20\n",
    "\n",
    "TOMTOM_keys = [TOMTOM_API_KEY, TOMTOM_API_KEY2, TOMTOM_API_KEY3]"
   ]
  },
  {
   "cell_type": "markdown",
   "metadata": {},
   "source": [
    "### 2.1. Collect traffic data"
   ]
  },
  {
   "cell_type": "code",
   "execution_count": 3,
   "metadata": {},
   "outputs": [],
   "source": [
    "# # Get the repository root path\n",
    "repo_root = os.getenv(\"GITHUB_WORKSPACE\", os.getcwd())\n",
    "\n",
    "# Construct the absolute path to grid.pickle\n",
    "pickle_path = os.path.join(repo_root, \"variables\", \"grid.pickle\")\n",
    "# pickle_path = 'variables/grid.pickle'\n",
    "\n",
    "# Getting grid variable from memory\n",
    "with open(pickle_path, 'rb') as file:\n",
    "    # Deserialize and retrieve grid from pickle file\n",
    "    grid = pickle.load(file)"
   ]
  },
  {
   "cell_type": "code",
   "execution_count": 4,
   "metadata": {},
   "outputs": [
    {
     "name": "stdout",
     "output_type": "stream",
     "text": [
      "Failed with key: 0\n",
      "num of requests: 303\n"
     ]
    }
   ],
   "source": [
    "# Collecting traffic flow from grid\n",
    "success = False\n",
    "i = 0\n",
    "while i < len(TOMTOM_keys) and not success:\n",
    "    try:\n",
    "        traffic_map = get_traffic_map_from_grid(TOMTOM_keys[i],grid, zoom = zoom)\n",
    "        success = True\n",
    "    except:\n",
    "        print('Failed with key:', i)\n",
    "        i += 1"
   ]
  },
  {
   "cell_type": "code",
   "execution_count": 5,
   "metadata": {},
   "outputs": [
    {
     "name": "stdout",
     "output_type": "stream",
     "text": [
      "(187, 10)\n"
     ]
    },
    {
     "data": {
      "text/html": [
       "<div>\n",
       "<style scoped>\n",
       "    .dataframe tbody tr th:only-of-type {\n",
       "        vertical-align: middle;\n",
       "    }\n",
       "\n",
       "    .dataframe tbody tr th {\n",
       "        vertical-align: top;\n",
       "    }\n",
       "\n",
       "    .dataframe thead th {\n",
       "        text-align: right;\n",
       "    }\n",
       "</style>\n",
       "<table border=\"1\" class=\"dataframe\">\n",
       "  <thead>\n",
       "    <tr style=\"text-align: right;\">\n",
       "      <th></th>\n",
       "      <th>frc</th>\n",
       "      <th>currentSpeed</th>\n",
       "      <th>freeFlowSpeed</th>\n",
       "      <th>currentTravelTime</th>\n",
       "      <th>freeFlowTravelTime</th>\n",
       "      <th>confidence</th>\n",
       "      <th>roadClosure</th>\n",
       "      <th>coordinates</th>\n",
       "      <th>relativeSpeed</th>\n",
       "      <th>date</th>\n",
       "    </tr>\n",
       "  </thead>\n",
       "  <tbody>\n",
       "    <tr>\n",
       "      <th>0</th>\n",
       "      <td>FRC7</td>\n",
       "      <td>12</td>\n",
       "      <td>12</td>\n",
       "      <td>28</td>\n",
       "      <td>28</td>\n",
       "      <td>1.0</td>\n",
       "      <td>False</td>\n",
       "      <td>LINESTRING (18.05720504328079 59.3492455882513...</td>\n",
       "      <td>0</td>\n",
       "      <td>2024-12-18 16:00:00</td>\n",
       "    </tr>\n",
       "    <tr>\n",
       "      <th>1</th>\n",
       "      <td>FRC1</td>\n",
       "      <td>26</td>\n",
       "      <td>37</td>\n",
       "      <td>44</td>\n",
       "      <td>31</td>\n",
       "      <td>1.0</td>\n",
       "      <td>False</td>\n",
       "      <td>LINESTRING (18.0666464190154 59.34681285368509...</td>\n",
       "      <td>-11</td>\n",
       "      <td>2024-12-18 16:00:00</td>\n",
       "    </tr>\n",
       "    <tr>\n",
       "      <th>2</th>\n",
       "      <td>FRC1</td>\n",
       "      <td>44</td>\n",
       "      <td>63</td>\n",
       "      <td>360</td>\n",
       "      <td>251</td>\n",
       "      <td>1.0</td>\n",
       "      <td>False</td>\n",
       "      <td>LINESTRING (18.047719411097432 59.335373216516...</td>\n",
       "      <td>-19</td>\n",
       "      <td>2024-12-18 16:00:00</td>\n",
       "    </tr>\n",
       "    <tr>\n",
       "      <th>3</th>\n",
       "      <td>FRC1</td>\n",
       "      <td>29</td>\n",
       "      <td>44</td>\n",
       "      <td>204</td>\n",
       "      <td>134</td>\n",
       "      <td>1.0</td>\n",
       "      <td>False</td>\n",
       "      <td>LINESTRING (18.055381141150207 59.351231764189...</td>\n",
       "      <td>-15</td>\n",
       "      <td>2024-12-18 16:00:00</td>\n",
       "    </tr>\n",
       "    <tr>\n",
       "      <th>4</th>\n",
       "      <td>FRC4</td>\n",
       "      <td>6</td>\n",
       "      <td>25</td>\n",
       "      <td>429</td>\n",
       "      <td>103</td>\n",
       "      <td>1.0</td>\n",
       "      <td>False</td>\n",
       "      <td>LINESTRING (18.060517571414948 59.338708520808...</td>\n",
       "      <td>-19</td>\n",
       "      <td>2024-12-18 16:00:00</td>\n",
       "    </tr>\n",
       "  </tbody>\n",
       "</table>\n",
       "</div>"
      ],
      "text/plain": [
       "    frc  currentSpeed  freeFlowSpeed  currentTravelTime  freeFlowTravelTime  \\\n",
       "0  FRC7            12             12                 28                  28   \n",
       "1  FRC1            26             37                 44                  31   \n",
       "2  FRC1            44             63                360                 251   \n",
       "3  FRC1            29             44                204                 134   \n",
       "4  FRC4             6             25                429                 103   \n",
       "\n",
       "   confidence  roadClosure                                        coordinates  \\\n",
       "0         1.0        False  LINESTRING (18.05720504328079 59.3492455882513...   \n",
       "1         1.0        False  LINESTRING (18.0666464190154 59.34681285368509...   \n",
       "2         1.0        False  LINESTRING (18.047719411097432 59.335373216516...   \n",
       "3         1.0        False  LINESTRING (18.055381141150207 59.351231764189...   \n",
       "4         1.0        False  LINESTRING (18.060517571414948 59.338708520808...   \n",
       "\n",
       "   relativeSpeed                date  \n",
       "0              0 2024-12-18 16:00:00  \n",
       "1            -11 2024-12-18 16:00:00  \n",
       "2            -19 2024-12-18 16:00:00  \n",
       "3            -15 2024-12-18 16:00:00  \n",
       "4            -19 2024-12-18 16:00:00  "
      ]
     },
     "execution_count": 5,
     "metadata": {},
     "output_type": "execute_result"
    }
   ],
   "source": [
    "from shapely.geometry import LineString\n",
    "import datetime\n",
    "\n",
    "traffic_df = pd.DataFrame(traffic_map)\n",
    "traffic_df['coordinates'] = traffic_df['coordinates'].apply(lambda x: LineString([(point['longitude'], point['latitude']) for point in x['coordinate']]))\n",
    "traffic_df = traffic_df.drop_duplicates()\n",
    "traffic_df['coordinates'] = traffic_df['coordinates'].apply(lambda x: str(x))\n",
    "\n",
    "traffic_df['relativeSpeed'] = traffic_df.apply(lambda x: x['currentSpeed'] - x['freeFlowSpeed'], axis = 1)\n",
    "\n",
    "today = datetime.datetime.now()\n",
    "today = today.replace(second=0, microsecond=0, minute=0, hour=today.hour) + datetime.timedelta(hours=today.minute//30)\n",
    "traffic_df['date']= [today for i in range(traffic_df.shape[0])]\n",
    "\n",
    "traffic_df = traffic_df.drop(columns = ['@version'])\n",
    "\n",
    "print(traffic_df.shape)\n",
    "traffic_df.head()"
   ]
  },
  {
   "cell_type": "markdown",
   "metadata": {},
   "source": [
    "### 2.2. Collect weather data"
   ]
  },
  {
   "cell_type": "code",
   "execution_count": 6,
   "metadata": {},
   "outputs": [
    {
     "data": {
      "text/html": [
       "<div>\n",
       "<style scoped>\n",
       "    .dataframe tbody tr th:only-of-type {\n",
       "        vertical-align: middle;\n",
       "    }\n",
       "\n",
       "    .dataframe tbody tr th {\n",
       "        vertical-align: top;\n",
       "    }\n",
       "\n",
       "    .dataframe thead th {\n",
       "        text-align: right;\n",
       "    }\n",
       "</style>\n",
       "<table border=\"1\" class=\"dataframe\">\n",
       "  <thead>\n",
       "    <tr style=\"text-align: right;\">\n",
       "      <th></th>\n",
       "      <th>date</th>\n",
       "      <th>temperature_2m_max</th>\n",
       "      <th>temperature_2m_min</th>\n",
       "      <th>precipitation_sum</th>\n",
       "      <th>wind_speed_10m_max</th>\n",
       "      <th>wind_direction_10m_dominant</th>\n",
       "    </tr>\n",
       "  </thead>\n",
       "  <tbody>\n",
       "    <tr>\n",
       "      <th>0</th>\n",
       "      <td>2024-12-18 16:00:00</td>\n",
       "      <td>5.826</td>\n",
       "      <td>-0.674</td>\n",
       "      <td>4.5</td>\n",
       "      <td>24.48</td>\n",
       "      <td>186.990036</td>\n",
       "    </tr>\n",
       "  </tbody>\n",
       "</table>\n",
       "</div>"
      ],
      "text/plain": [
       "                 date  temperature_2m_max  temperature_2m_min  \\\n",
       "0 2024-12-18 16:00:00               5.826              -0.674   \n",
       "\n",
       "   precipitation_sum  wind_speed_10m_max  wind_direction_10m_dominant  \n",
       "0                4.5               24.48                   186.990036  "
      ]
     },
     "execution_count": 6,
     "metadata": {},
     "output_type": "execute_result"
    }
   ],
   "source": [
    "weather_df = get_weather(coordinates)\n",
    "weather_df"
   ]
  },
  {
   "cell_type": "markdown",
   "metadata": {},
   "source": [
    "### 2.3. Collect weather data"
   ]
  },
  {
   "cell_type": "code",
   "execution_count": 7,
   "metadata": {},
   "outputs": [
    {
     "data": {
      "text/html": [
       "<div>\n",
       "<style scoped>\n",
       "    .dataframe tbody tr th:only-of-type {\n",
       "        vertical-align: middle;\n",
       "    }\n",
       "\n",
       "    .dataframe tbody tr th {\n",
       "        vertical-align: top;\n",
       "    }\n",
       "\n",
       "    .dataframe thead th {\n",
       "        text-align: right;\n",
       "    }\n",
       "</style>\n",
       "<table border=\"1\" class=\"dataframe\">\n",
       "  <thead>\n",
       "    <tr style=\"text-align: right;\">\n",
       "      <th></th>\n",
       "      <th>date</th>\n",
       "      <th>temperature_2m_max</th>\n",
       "      <th>temperature_2m_min</th>\n",
       "      <th>precipitation_sum</th>\n",
       "      <th>wind_speed_10m_max</th>\n",
       "      <th>wind_direction_10m_dominant</th>\n",
       "      <th>holiday_status</th>\n",
       "    </tr>\n",
       "  </thead>\n",
       "  <tbody>\n",
       "    <tr>\n",
       "      <th>0</th>\n",
       "      <td>2024-12-18 16:00:00</td>\n",
       "      <td>5.826</td>\n",
       "      <td>-0.674</td>\n",
       "      <td>4.5</td>\n",
       "      <td>24.48</td>\n",
       "      <td>186.990036</td>\n",
       "      <td>0</td>\n",
       "    </tr>\n",
       "  </tbody>\n",
       "</table>\n",
       "</div>"
      ],
      "text/plain": [
       "                 date  temperature_2m_max  temperature_2m_min  \\\n",
       "0 2024-12-18 16:00:00               5.826              -0.674   \n",
       "\n",
       "   precipitation_sum  wind_speed_10m_max  wind_direction_10m_dominant  \\\n",
       "0                4.5               24.48                   186.990036   \n",
       "\n",
       "   holiday_status  \n",
       "0               0  "
      ]
     },
     "execution_count": 7,
     "metadata": {},
     "output_type": "execute_result"
    }
   ],
   "source": [
    "# CALENDAR_API_KEY = os.getenv('CALENDAR_API_KEY')\n",
    "holiday_status = is_holiday(CALENDAR_API_KEY)\n",
    "weather_df['holiday_status'] = holiday_status\n",
    "weather_df"
   ]
  },
  {
   "cell_type": "markdown",
   "metadata": {},
   "source": [
    "### 2.4. Joining data and uploading to Hopsworks"
   ]
  },
  {
   "cell_type": "code",
   "execution_count": 10,
   "metadata": {},
   "outputs": [
    {
     "name": "stdout",
     "output_type": "stream",
     "text": [
      "2024-12-18 16:01:06,417 INFO: Closing external client and cleaning up certificates.\n",
      "Connection closed.\n",
      "2024-12-18 16:01:06,421 INFO: Initializing external client\n",
      "2024-12-18 16:01:06,423 INFO: Base URL: https://c.app.hopsworks.ai:443\n",
      "2024-12-18 16:01:07,604 INFO: Python Engine initialized.\n",
      "\n",
      "Logged in to project, explore it here https://c.app.hopsworks.ai:443/p/1170583\n"
     ]
    }
   ],
   "source": [
    "# Get the API key from GitHub Secrets\n",
    "os.environ[\"HOPSWORKS_API_KEY\"] = os.getenv('HOPSWORKS_API_KEY')\n",
    "# with open('hopsworks-api-key.txt','r') as file:\n",
    "#     os.environ[\"HOPSWORKS_API_KEY\"] = file.read().rstrip()\n",
    "\n",
    "# Get AQI API KEY from secrets of hopsworks\n",
    "proj = hopsworks.login(project=\"ID2223LAB1KTH\", api_key_value=os.environ[\"HOPSWORKS_API_KEY\"])"
   ]
  },
  {
   "cell_type": "code",
   "execution_count": 11,
   "metadata": {},
   "outputs": [
    {
     "name": "stderr",
     "output_type": "stream",
     "text": [
      "FeatureGroupWarning: The ingested dataframe contains upper case letters in feature names: `['currentSpeed', 'freeFlowSpeed', 'currentTravelTime', 'freeFlowTravelTime', 'roadClosure', 'relativeSpeed']`. Feature names are sanitized to lower case in the feature store.\n",
      "Uploading Dataframe: 100.00% |██████████| Rows 187/187 | Elapsed Time: 00:00 | Remaining Time: 00:00\n"
     ]
    },
    {
     "name": "stdout",
     "output_type": "stream",
     "text": [
      "Launching job: stockholm_traffic_1_offline_fg_materialization\n",
      "Job started successfully, you can follow the progress at \n",
      "https://c.app.hopsworks.ai:443/p/1170583/jobs/named/stockholm_traffic_1_offline_fg_materialization/executions\n"
     ]
    },
    {
     "name": "stderr",
     "output_type": "stream",
     "text": [
      "Uploading Dataframe: 100.00% |██████████| Rows 1/1 | Elapsed Time: 00:01 | Remaining Time: 00:00\n"
     ]
    },
    {
     "name": "stdout",
     "output_type": "stream",
     "text": [
      "Launching job: stockholm_weather_holiday_1_offline_fg_materialization\n",
      "Job started successfully, you can follow the progress at \n",
      "https://c.app.hopsworks.ai:443/p/1170583/jobs/named/stockholm_weather_holiday_1_offline_fg_materialization/executions\n"
     ]
    },
    {
     "data": {
      "text/plain": [
       "(Job('stockholm_weather_holiday_1_offline_fg_materialization', 'SPARK'), None)"
      ]
     },
     "execution_count": 11,
     "metadata": {},
     "output_type": "execute_result"
    }
   ],
   "source": [
    "# Initialize the feature store\n",
    "fs = proj.get_feature_store()\n",
    "\n",
    "# Define and insert the Forecast Weather Feature Group\n",
    "feature_group_name = \"stockholm_traffic\"\n",
    "version = 1\n",
    "fg = fs.get_feature_group(name=feature_group_name, version=version)\n",
    "fg.insert(traffic_df)\n",
    "\n",
    "# Define and insert the Air Quality Feature Group\n",
    "feature_group_name = \"stockholm_weather_holiday\"\n",
    "version = 1\n",
    "fg = fs.get_feature_group(name=feature_group_name, version=version)\n",
    "fg.insert(weather_df)"
   ]
  }
 ],
 "metadata": {
  "kernelspec": {
   "display_name": ".venv",
   "language": "python",
   "name": "python3"
  },
  "language_info": {
   "codemirror_mode": {
    "name": "ipython",
    "version": 3
   },
   "file_extension": ".py",
   "mimetype": "text/x-python",
   "name": "python",
   "nbconvert_exporter": "python",
   "pygments_lexer": "ipython3",
   "version": "3.12.2"
  }
 },
 "nbformat": 4,
 "nbformat_minor": 2
}

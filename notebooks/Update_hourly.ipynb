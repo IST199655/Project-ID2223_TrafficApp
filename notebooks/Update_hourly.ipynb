{
 "cells": [
  {
   "cell_type": "markdown",
   "metadata": {},
   "source": [
    "# 2. Update data daily"
   ]
  },
  {
   "cell_type": "code",
   "execution_count": 6,
   "metadata": {},
   "outputs": [],
   "source": [
    "import pickle\n",
    "import pandas as pd\n",
    "import hopsworks\n",
    "import os\n",
    "\n",
    "from functions.TomTomAPI import get_traffic_map_from_grid\n",
    "from functions.HolidaysnWeather import get_weather, is_holiday"
   ]
  },
  {
   "cell_type": "code",
   "execution_count": 7,
   "metadata": {},
   "outputs": [],
   "source": [
    "coordinates = 59.34318, 18.05141 # Stockholm near Odenplan\n",
    "zoom = 20\n",
    "\n",
    "# Get the API key from GitHub Secrets\n",
    "HOPSWORKS_API_KEY = os.getenv('HOPSWORKS_API_KEY')\n",
    "\n",
    "# Get AQI API KEY from secrets of hopsworks\n",
    "proj = hopsworks.login(project=\"ScalableMLandDeepLcourse\")\n",
    "conn = hopsworks.connection(host=\"c.app.hopsworks.ai\", project=proj, api_key_value=os.environ.get('HOPSWORKS_API_KEY'))\n",
    "secrets = conn.get_secrets_api()\n",
    "\n",
    "TOMTOM_API_KEY = secrets.get_secret(\"TOMTOM_API_KEY\").value\n",
    "TOMTOM_API_KEY2 = secrets.get_secret(\"TOMTOM_API_KEY2\").value\n",
    "TOMTOM_API_KEY3 = secrets.get_secret(\"TOMTOM_API_KEY3\").value\n",
    "CALENDAR_API_KEY = secrets.get_secret(\"CALENDAR_API_KEY\").value\n",
    "\n",
    "TOMTOM_keys = [TOMTOM_API_KEY, TOMTOM_API_KEY2, TOMTOM_API_KEY3]"
   ]
  },
  {
   "cell_type": "markdown",
   "metadata": {},
   "source": [
    "### 2.1. Collect traffic data"
   ]
  },
  {
   "cell_type": "code",
   "execution_count": 8,
   "metadata": {},
   "outputs": [],
   "source": [
    "pickle_path = 'notebooks/variables/grid.pickle'\n",
    "\n",
    "# Getting grid variable from memory\n",
    "with open(pickle_path, 'rb') as file:\n",
    "    # Deserialize and retrieve grid from pickle file\n",
    "    grid = pickle.load(file)"
   ]
  },
  {
   "cell_type": "code",
   "execution_count": 9,
   "metadata": {},
   "outputs": [
    {
     "name": "stdout",
     "output_type": "stream",
     "text": [
      "Failed with key: 0\n",
      "Failed with key: 1\n",
      "num of requests: 288\n"
     ]
    }
   ],
   "source": [
    "# Collecting traffic flow from grid\n",
    "success = False\n",
    "i = 0\n",
    "while i < len(TOMTOM_keys) and not success:\n",
    "    try:\n",
    "        traffic_map = get_traffic_map_from_grid(TOMTOM_keys[i],grid, zoom = zoom)\n",
    "        success = True\n",
    "    except:\n",
    "        print('Failed with key:', i)\n",
    "        i += 1"
   ]
  },
  {
   "cell_type": "code",
   "execution_count": 10,
   "metadata": {},
   "outputs": [
    {
     "name": "stdout",
     "output_type": "stream",
     "text": [
      "(177, 10)\n"
     ]
    },
    {
     "data": {
      "text/html": [
       "<div>\n",
       "<style scoped>\n",
       "    .dataframe tbody tr th:only-of-type {\n",
       "        vertical-align: middle;\n",
       "    }\n",
       "\n",
       "    .dataframe tbody tr th {\n",
       "        vertical-align: top;\n",
       "    }\n",
       "\n",
       "    .dataframe thead th {\n",
       "        text-align: right;\n",
       "    }\n",
       "</style>\n",
       "<table border=\"1\" class=\"dataframe\">\n",
       "  <thead>\n",
       "    <tr style=\"text-align: right;\">\n",
       "      <th></th>\n",
       "      <th>frc</th>\n",
       "      <th>currentSpeed</th>\n",
       "      <th>freeFlowSpeed</th>\n",
       "      <th>currentTravelTime</th>\n",
       "      <th>freeFlowTravelTime</th>\n",
       "      <th>confidence</th>\n",
       "      <th>roadClosure</th>\n",
       "      <th>coordinates</th>\n",
       "      <th>relativeSpeed</th>\n",
       "      <th>date</th>\n",
       "    </tr>\n",
       "  </thead>\n",
       "  <tbody>\n",
       "    <tr>\n",
       "      <th>0</th>\n",
       "      <td>FRC4</td>\n",
       "      <td>11</td>\n",
       "      <td>11</td>\n",
       "      <td>28</td>\n",
       "      <td>28</td>\n",
       "      <td>1.00</td>\n",
       "      <td>False</td>\n",
       "      <td>LINESTRING (18.038114420612857 59.342615187279...</td>\n",
       "      <td>1.000000</td>\n",
       "      <td>2024-12-18 20:00:00</td>\n",
       "    </tr>\n",
       "    <tr>\n",
       "      <th>1</th>\n",
       "      <td>FRC4</td>\n",
       "      <td>12</td>\n",
       "      <td>19</td>\n",
       "      <td>62</td>\n",
       "      <td>39</td>\n",
       "      <td>1.00</td>\n",
       "      <td>False</td>\n",
       "      <td>LINESTRING (18.036612383564147 59.342538726056...</td>\n",
       "      <td>0.631579</td>\n",
       "      <td>2024-12-18 20:00:00</td>\n",
       "    </tr>\n",
       "    <tr>\n",
       "      <th>2</th>\n",
       "      <td>FRC4</td>\n",
       "      <td>26</td>\n",
       "      <td>26</td>\n",
       "      <td>99</td>\n",
       "      <td>99</td>\n",
       "      <td>1.00</td>\n",
       "      <td>False</td>\n",
       "      <td>LINESTRING (18.060517571414948 59.338708520808...</td>\n",
       "      <td>1.000000</td>\n",
       "      <td>2024-12-18 20:00:00</td>\n",
       "    </tr>\n",
       "    <tr>\n",
       "      <th>3</th>\n",
       "      <td>FRC7</td>\n",
       "      <td>19</td>\n",
       "      <td>19</td>\n",
       "      <td>75</td>\n",
       "      <td>75</td>\n",
       "      <td>1.00</td>\n",
       "      <td>False</td>\n",
       "      <td>LINESTRING (18.0545509974599 59.34064910896488...</td>\n",
       "      <td>1.000000</td>\n",
       "      <td>2024-12-18 20:00:00</td>\n",
       "    </tr>\n",
       "    <tr>\n",
       "      <th>4</th>\n",
       "      <td>FRC4</td>\n",
       "      <td>13</td>\n",
       "      <td>21</td>\n",
       "      <td>153</td>\n",
       "      <td>95</td>\n",
       "      <td>0.99</td>\n",
       "      <td>False</td>\n",
       "      <td>LINESTRING (18.038586489399563 59.342495815378...</td>\n",
       "      <td>0.619048</td>\n",
       "      <td>2024-12-18 20:00:00</td>\n",
       "    </tr>\n",
       "  </tbody>\n",
       "</table>\n",
       "</div>"
      ],
      "text/plain": [
       "    frc  currentSpeed  freeFlowSpeed  currentTravelTime  freeFlowTravelTime  \\\n",
       "0  FRC4            11             11                 28                  28   \n",
       "1  FRC4            12             19                 62                  39   \n",
       "2  FRC4            26             26                 99                  99   \n",
       "3  FRC7            19             19                 75                  75   \n",
       "4  FRC4            13             21                153                  95   \n",
       "\n",
       "   confidence  roadClosure                                        coordinates  \\\n",
       "0        1.00        False  LINESTRING (18.038114420612857 59.342615187279...   \n",
       "1        1.00        False  LINESTRING (18.036612383564147 59.342538726056...   \n",
       "2        1.00        False  LINESTRING (18.060517571414948 59.338708520808...   \n",
       "3        1.00        False  LINESTRING (18.0545509974599 59.34064910896488...   \n",
       "4        0.99        False  LINESTRING (18.038586489399563 59.342495815378...   \n",
       "\n",
       "   relativeSpeed                date  \n",
       "0       1.000000 2024-12-18 20:00:00  \n",
       "1       0.631579 2024-12-18 20:00:00  \n",
       "2       1.000000 2024-12-18 20:00:00  \n",
       "3       1.000000 2024-12-18 20:00:00  \n",
       "4       0.619048 2024-12-18 20:00:00  "
      ]
     },
     "execution_count": 10,
     "metadata": {},
     "output_type": "execute_result"
    }
   ],
   "source": [
    "from shapely.geometry import LineString\n",
    "import datetime\n",
    "\n",
    "traffic_df = pd.DataFrame(traffic_map)\n",
    "traffic_df['coordinates'] = traffic_df['coordinates'].apply(lambda x: LineString([(point['longitude'], point['latitude']) for point in x['coordinate']]))\n",
    "traffic_df = traffic_df.drop_duplicates()\n",
    "traffic_df['coordinates'] = traffic_df['coordinates'].apply(lambda x: str(x))\n",
    "\n",
    "traffic_df['relativeSpeed'] = traffic_df.apply(lambda x: x['currentSpeed'] / x['freeFlowSpeed'], axis = 1)\n",
    "\n",
    "today = datetime.datetime.now()\n",
    "today = today.replace(second=0, microsecond=0, minute=0, hour=today.hour) + datetime.timedelta(hours=today.minute//30)\n",
    "traffic_df['date']= [today for i in range(traffic_df.shape[0])]\n",
    "\n",
    "traffic_df = traffic_df.drop(columns = ['@version'])"
   ]
  },
  {
   "cell_type": "markdown",
   "metadata": {},
   "source": [
    "### 2.2. Collect weather data"
   ]
  },
  {
   "cell_type": "code",
   "execution_count": 11,
   "metadata": {},
   "outputs": [
    {
     "data": {
      "text/html": [
       "<div>\n",
       "<style scoped>\n",
       "    .dataframe tbody tr th:only-of-type {\n",
       "        vertical-align: middle;\n",
       "    }\n",
       "\n",
       "    .dataframe tbody tr th {\n",
       "        vertical-align: top;\n",
       "    }\n",
       "\n",
       "    .dataframe thead th {\n",
       "        text-align: right;\n",
       "    }\n",
       "</style>\n",
       "<table border=\"1\" class=\"dataframe\">\n",
       "  <thead>\n",
       "    <tr style=\"text-align: right;\">\n",
       "      <th></th>\n",
       "      <th>date</th>\n",
       "      <th>temperature_2m_max</th>\n",
       "      <th>temperature_2m_min</th>\n",
       "      <th>precipitation_sum</th>\n",
       "      <th>wind_speed_10m_max</th>\n",
       "      <th>wind_direction_10m_dominant</th>\n",
       "    </tr>\n",
       "  </thead>\n",
       "  <tbody>\n",
       "    <tr>\n",
       "      <th>0</th>\n",
       "      <td>2024-12-18 20:00:00</td>\n",
       "      <td>6.126</td>\n",
       "      <td>-0.674</td>\n",
       "      <td>3.6</td>\n",
       "      <td>24.48</td>\n",
       "      <td>188.53627</td>\n",
       "    </tr>\n",
       "  </tbody>\n",
       "</table>\n",
       "</div>"
      ],
      "text/plain": [
       "                 date  temperature_2m_max  temperature_2m_min  \\\n",
       "0 2024-12-18 20:00:00               6.126              -0.674   \n",
       "\n",
       "   precipitation_sum  wind_speed_10m_max  wind_direction_10m_dominant  \n",
       "0                3.6               24.48                    188.53627  "
      ]
     },
     "execution_count": 11,
     "metadata": {},
     "output_type": "execute_result"
    }
   ],
   "source": [
    "weather_df = get_weather(coordinates)"
   ]
  },
  {
   "cell_type": "markdown",
   "metadata": {},
   "source": [
    "### 2.3. Collect weather data"
   ]
  },
  {
   "cell_type": "code",
   "execution_count": 12,
   "metadata": {},
   "outputs": [
    {
     "data": {
      "text/html": [
       "<div>\n",
       "<style scoped>\n",
       "    .dataframe tbody tr th:only-of-type {\n",
       "        vertical-align: middle;\n",
       "    }\n",
       "\n",
       "    .dataframe tbody tr th {\n",
       "        vertical-align: top;\n",
       "    }\n",
       "\n",
       "    .dataframe thead th {\n",
       "        text-align: right;\n",
       "    }\n",
       "</style>\n",
       "<table border=\"1\" class=\"dataframe\">\n",
       "  <thead>\n",
       "    <tr style=\"text-align: right;\">\n",
       "      <th></th>\n",
       "      <th>date</th>\n",
       "      <th>temperature_2m_max</th>\n",
       "      <th>temperature_2m_min</th>\n",
       "      <th>precipitation_sum</th>\n",
       "      <th>wind_speed_10m_max</th>\n",
       "      <th>wind_direction_10m_dominant</th>\n",
       "      <th>holiday_status</th>\n",
       "    </tr>\n",
       "  </thead>\n",
       "  <tbody>\n",
       "    <tr>\n",
       "      <th>0</th>\n",
       "      <td>2024-12-18 20:00:00</td>\n",
       "      <td>6.126</td>\n",
       "      <td>-0.674</td>\n",
       "      <td>3.6</td>\n",
       "      <td>24.48</td>\n",
       "      <td>188.53627</td>\n",
       "      <td>0</td>\n",
       "    </tr>\n",
       "  </tbody>\n",
       "</table>\n",
       "</div>"
      ],
      "text/plain": [
       "                 date  temperature_2m_max  temperature_2m_min  \\\n",
       "0 2024-12-18 20:00:00               6.126              -0.674   \n",
       "\n",
       "   precipitation_sum  wind_speed_10m_max  wind_direction_10m_dominant  \\\n",
       "0                3.6               24.48                    188.53627   \n",
       "\n",
       "   holiday_status  \n",
       "0               0  "
      ]
     },
     "execution_count": 12,
     "metadata": {},
     "output_type": "execute_result"
    }
   ],
   "source": [
    "# CALENDAR_API_KEY = os.getenv('CALENDAR_API_KEY')\n",
    "holiday_status = is_holiday(CALENDAR_API_KEY)\n",
    "weather_df['holiday_status'] = holiday_status"
   ]
  },
  {
   "cell_type": "markdown",
   "metadata": {},
   "source": [
    "### 2.4. Joining data and uploading to Hopsworks"
   ]
  },
  {
   "cell_type": "code",
   "execution_count": 16,
   "metadata": {},
   "outputs": [
    {
     "name": "stderr",
     "output_type": "stream",
     "text": [
      "Uploading Dataframe: 100.00% |██████████| Rows 177/177 | Elapsed Time: 00:01 | Remaining Time: 00:00\n"
     ]
    },
    {
     "name": "stdout",
     "output_type": "stream",
     "text": [
      "2024-12-18 20:10:38,020 WARNING: UserWarning: Materialization job is already running, aborting new execution.Please wait for the current execution to finish before triggering a new one.You can check the status of the current execution using `fg.materialization_job.get_state()`.or `fg.materialization_job.get_final_state()` or check it out in the Hopsworks UI.at https://c.app.hopsworks.ai:443/p/1170582/jobs/named/stockholm_traffic_1_offline_fg_materialization.\n",
      "Use fg.materialization_job.run(args=-op offline_fg_materialization -path hdfs:///Projects/ScalableMLandDeepLcourse/Resources/jobs/stockholm_traffic_1_offline_fg_materialization/config_1734547087388) to trigger the materialization job again.\n",
      "\n"
     ]
    },
    {
     "name": "stderr",
     "output_type": "stream",
     "text": [
      "Uploading Dataframe: 100.00% |██████████| Rows 1/1 | Elapsed Time: 00:00 | Remaining Time: 00:00\n"
     ]
    },
    {
     "name": "stdout",
     "output_type": "stream",
     "text": [
      "2024-12-18 20:10:43,715 WARNING: UserWarning: Materialization job is already running, aborting new execution.Please wait for the current execution to finish before triggering a new one.You can check the status of the current execution using `fg.materialization_job.get_state()`.or `fg.materialization_job.get_final_state()` or check it out in the Hopsworks UI.at https://c.app.hopsworks.ai:443/p/1170582/jobs/named/stockholm_weather_holiday_1_offline_fg_materialization.\n",
      "Use fg.materialization_job.run(args=-op offline_fg_materialization -path hdfs:///Projects/ScalableMLandDeepLcourse/Resources/jobs/stockholm_weather_holiday_1_offline_fg_materialization/config_1734547182650) to trigger the materialization job again.\n",
      "\n"
     ]
    },
    {
     "data": {
      "text/plain": [
       "(Job('stockholm_weather_holiday_1_offline_fg_materialization', 'SPARK'), None)"
      ]
     },
     "execution_count": 16,
     "metadata": {},
     "output_type": "execute_result"
    }
   ],
   "source": [
    "# Initialize the feature store\n",
    "fs = proj.get_feature_store()\n",
    "\n",
    "# Define and insert the Forecast Weather Feature Group\n",
    "feature_group_name = \"stockholm_traffic\"\n",
    "version = 1\n",
    "fg = fs.get_feature_group(name=feature_group_name, version=version)\n",
    "fg.insert(traffic_df)\n",
    "\n",
    "# Define and insert the Air Quality Feature Group\n",
    "feature_group_name = \"stockholm_weather_holiday\"\n",
    "version = 1\n",
    "fg = fs.get_feature_group(name=feature_group_name, version=version)\n",
    "fg.insert(weather_df)"
   ]
  },
  {
   "cell_type": "code",
   "execution_count": null,
   "metadata": {},
   "outputs": [],
   "source": []
  }
 ],
 "metadata": {
  "kernelspec": {
   "display_name": "3.9.5",
   "language": "python",
   "name": "python3"
  },
  "language_info": {
   "codemirror_mode": {
    "name": "ipython",
    "version": 3
   },
   "file_extension": ".py",
   "mimetype": "text/x-python",
   "name": "python",
   "nbconvert_exporter": "python",
   "pygments_lexer": "ipython3",
   "version": "3.9.5"
  }
 },
 "nbformat": 4,
 "nbformat_minor": 2
}

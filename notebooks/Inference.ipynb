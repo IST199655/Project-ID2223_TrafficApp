{
 "cells": [
  {
   "cell_type": "markdown",
   "metadata": {},
   "source": [
    "### 0. Imports and Variable Setup"
   ]
  },
  {
   "cell_type": "code",
   "execution_count": 20,
   "metadata": {
    "execution": {
     "iopub.execute_input": "2024-11-20T10:11:34.576249Z",
     "iopub.status.busy": "2024-11-20T10:11:34.576018Z",
     "iopub.status.idle": "2024-11-20T10:11:37.842623Z",
     "shell.execute_reply": "2024-11-20T10:11:37.841804Z"
    }
   },
   "outputs": [],
   "source": [
    "\n",
    "import os\n",
    "import warnings\n",
    "import hopsworks\n",
    "import matplotlib.pyplot as plt\n",
    "import datetime\n",
    "import pandas as pd\n",
    "from joblib import dump, load\n",
    "from xgboost import XGBRegressor , plot_importance\n",
    "from sklearn.preprocessing import LabelEncoder\n",
    "from sklearn.model_selection import train_test_split\n",
    "from sklearn.tree import DecisionTreeRegressor  # For regression tasks\n",
    "from sklearn.metrics import mean_squared_error, accuracy_score, r2_score\n"
   ]
  },
  {
   "cell_type": "code",
   "execution_count": 21,
   "metadata": {
    "execution": {
     "iopub.execute_input": "2024-11-20T10:11:37.845302Z",
     "iopub.status.busy": "2024-11-20T10:11:37.844918Z",
     "iopub.status.idle": "2024-11-20T10:11:37.848371Z",
     "shell.execute_reply": "2024-11-20T10:11:37.847686Z"
    }
   },
   "outputs": [],
   "source": [
    "\n",
    "# Get the API key from GitHub Secrets\n",
    "HOPSWORKS_API_KEY = os.getenv('HOPSWORKS_API_KEY')\n",
    "\n",
    "# with open('hopsworks-api-key.txt', 'r') as file:\n",
    "#     os.environ[\"HOPSWORKS_API_KEY\"] = file.read().rstrip()"
   ]
  },
  {
   "cell_type": "code",
   "execution_count": 22,
   "metadata": {
    "execution": {
     "iopub.execute_input": "2024-11-20T10:11:37.850789Z",
     "iopub.status.busy": "2024-11-20T10:11:37.850386Z",
     "iopub.status.idle": "2024-11-20T10:11:38.632624Z",
     "shell.execute_reply": "2024-11-20T10:11:38.631918Z"
    }
   },
   "outputs": [
    {
     "name": "stdout",
     "output_type": "stream",
     "text": [
      "2024-12-29 15:28:41,406 INFO: Closing external client and cleaning up certificates.\n",
      "Connection closed.\n",
      "2024-12-29 15:28:41,416 INFO: Initializing external client\n",
      "2024-12-29 15:28:41,417 INFO: Base URL: https://c.app.hopsworks.ai:443\n",
      "2024-12-29 15:28:42,546 INFO: Python Engine initialized.\n",
      "\n",
      "Logged in to project, explore it here https://c.app.hopsworks.ai:443/p/1170582\n"
     ]
    }
   ],
   "source": [
    "# Connect to Hopsworks Project and Features Store\n",
    "project = hopsworks.login(project=\"ScalableMLandDeepLcourse\")\n",
    "fs = project.get_feature_store()"
   ]
  },
  {
   "cell_type": "code",
   "execution_count": 23,
   "metadata": {
    "execution": {
     "iopub.execute_input": "2024-11-20T10:11:38.634919Z",
     "iopub.status.busy": "2024-11-20T10:11:38.634696Z",
     "iopub.status.idle": "2024-11-20T10:11:38.638561Z",
     "shell.execute_reply": "2024-11-20T10:11:38.637964Z"
    }
   },
   "outputs": [],
   "source": [
    "# Creating a directory for the model artifacts if it doesn't exist\n",
    "model_dir = \"trafic_pred_model\"\n",
    "if not os.path.exists(model_dir):\n",
    "    os.mkdir(model_dir)\n",
    "images_dir = model_dir + \"/images\"\n",
    "if not os.path.exists(images_dir):\n",
    "    os.mkdir(images_dir)"
   ]
  },
  {
   "cell_type": "markdown",
   "metadata": {},
   "source": [
    "## 4. Batch Inference"
   ]
  },
  {
   "cell_type": "code",
   "execution_count": 25,
   "metadata": {
    "execution": {
     "iopub.execute_input": "2024-11-20T10:11:39.899312Z",
     "iopub.status.busy": "2024-11-20T10:11:39.898908Z",
     "iopub.status.idle": "2024-11-20T10:11:41.757368Z",
     "shell.execute_reply": "2024-11-20T10:11:41.756635Z"
    }
   },
   "outputs": [
    {
     "name": "stdout",
     "output_type": "stream",
     "text": [
      "Downloading model artifact (1 dirs, 1 files)... DONE\r"
     ]
    }
   ],
   "source": [
    "mr = project.get_model_registry()\n",
    "\n",
    "retrieved_model = mr.get_model(\n",
    "    name=\"trafic_pred_tree\",\n",
    "    version=1,\n",
    ")\n",
    "\n",
    "# Download the saved model artifacts to a local directory\n",
    "saved_model_dir = retrieved_model.download()"
   ]
  },
  {
   "cell_type": "code",
   "execution_count": 26,
   "metadata": {
    "execution": {
     "iopub.execute_input": "2024-11-20T10:11:41.759461Z",
     "iopub.status.busy": "2024-11-20T10:11:41.759250Z",
     "iopub.status.idle": "2024-11-20T10:11:41.898785Z",
     "shell.execute_reply": "2024-11-20T10:11:41.898034Z"
    }
   },
   "outputs": [],
   "source": [
    "# Assuming the downloaded directory contains 'model.pkl'\n",
    "model_file_path = os.path.join(saved_model_dir, \"decision_tree_model.joblib\")\n",
    "\n",
    "# Load the model\n",
    "trafic_pred_tree = load(model_file_path)"
   ]
  },
  {
   "cell_type": "code",
   "execution_count": 27,
   "metadata": {},
   "outputs": [
    {
     "data": {
      "text/plain": [
       "datetime.datetime(2024, 12, 29, 12, 0)"
      ]
     },
     "execution_count": 27,
     "metadata": {},
     "output_type": "execute_result"
    }
   ],
   "source": [
    "today = datetime.datetime.now() - datetime.timedelta(0)\n",
    "today = today.replace(minute=0, second=0, microsecond=0)\n",
    "today = today - datetime.timedelta(hours = 3)\n",
    "today"
   ]
  },
  {
   "cell_type": "code",
   "execution_count": 28,
   "metadata": {
    "execution": {
     "iopub.execute_input": "2024-11-20T10:11:41.901076Z",
     "iopub.status.busy": "2024-11-20T10:11:41.900846Z",
     "iopub.status.idle": "2024-11-20T10:11:43.483708Z",
     "shell.execute_reply": "2024-11-20T10:11:43.483096Z"
    }
   },
   "outputs": [
    {
     "name": "stdout",
     "output_type": "stream",
     "text": [
      "Finished: Reading data from Hopsworks, using Hopsworks Feature Query Service (1.10s) \n",
      "Finished: Reading data from Hopsworks, using Hopsworks Feature Query Service (0.55s) \n"
     ]
    }
   ],
   "source": [
    "trafic_fg = fs.get_feature_group(name='stockholm_traffic',version=1,)\n",
    "weather_fg = fs.get_feature_group(name=\"stockholm_weather_holiday\", version=1)\n",
    "\n",
    "trafic_df = trafic_fg.filter(trafic_fg.date == today).read()\n",
    "weather_df = weather_fg.filter(weather_fg.date == today).read()\n"
   ]
  },
  {
   "cell_type": "code",
   "execution_count": 29,
   "metadata": {},
   "outputs": [],
   "source": [
    "\n",
    "# Label Encoding\n",
    "label_encoder_FRC = LabelEncoder()\n",
    "\n",
    "trafic_df[\"FRC\"] = label_encoder_FRC.fit_transform(trafic_df[\"frc\"])\n",
    "\n",
    "# Supprimer l'ancienne colonne frc\n",
    "trafic_df = trafic_df.drop(columns=[\"frc\"])\n"
   ]
  },
  {
   "cell_type": "code",
   "execution_count": 30,
   "metadata": {},
   "outputs": [],
   "source": [
    "# Label Encoding\n",
    "label_encoder_coor = LabelEncoder()\n",
    "\n",
    "trafic_df[\"SEG\"] = label_encoder_coor.fit_transform(trafic_df[\"coordinates\"])\n",
    "\n",
    "# Supprimer l'ancienne colonne coordinates\n",
    "trafic_df = trafic_df.drop(columns=[\"coordinates\"])"
   ]
  },
  {
   "cell_type": "code",
   "execution_count": 31,
   "metadata": {},
   "outputs": [],
   "source": [
    "merged_df = pd.merge(trafic_df, weather_df, on=\"date\", how=\"inner\")"
   ]
  },
  {
   "cell_type": "code",
   "execution_count": 32,
   "metadata": {},
   "outputs": [],
   "source": [
    "merged_df['heure'] = pd.to_datetime(merged_df['date']).dt.hour"
   ]
  },
  {
   "cell_type": "code",
   "execution_count": 33,
   "metadata": {},
   "outputs": [],
   "source": [
    "merged_df = merged_df.drop(columns=[\"date\"],axis=1)"
   ]
  },
  {
   "cell_type": "code",
   "execution_count": 34,
   "metadata": {},
   "outputs": [
    {
     "data": {
      "text/html": [
       "<div>\n",
       "<style scoped>\n",
       "    .dataframe tbody tr th:only-of-type {\n",
       "        vertical-align: middle;\n",
       "    }\n",
       "\n",
       "    .dataframe tbody tr th {\n",
       "        vertical-align: top;\n",
       "    }\n",
       "\n",
       "    .dataframe thead th {\n",
       "        text-align: right;\n",
       "    }\n",
       "</style>\n",
       "<table border=\"1\" class=\"dataframe\">\n",
       "  <thead>\n",
       "    <tr style=\"text-align: right;\">\n",
       "      <th></th>\n",
       "      <th>currentspeed</th>\n",
       "      <th>freeflowspeed</th>\n",
       "      <th>currenttraveltime</th>\n",
       "      <th>freeflowtraveltime</th>\n",
       "      <th>confidence</th>\n",
       "      <th>roadclosure</th>\n",
       "      <th>relativespeed</th>\n",
       "      <th>FRC</th>\n",
       "      <th>SEG</th>\n",
       "      <th>temperature_2m_max</th>\n",
       "      <th>temperature_2m_min</th>\n",
       "      <th>precipitation_sum</th>\n",
       "      <th>wind_speed_10m_max</th>\n",
       "      <th>wind_direction_10m_dominant</th>\n",
       "      <th>holiday_status</th>\n",
       "      <th>heure</th>\n",
       "    </tr>\n",
       "  </thead>\n",
       "  <tbody>\n",
       "    <tr>\n",
       "      <th>0</th>\n",
       "      <td>14</td>\n",
       "      <td>20</td>\n",
       "      <td>6</td>\n",
       "      <td>4</td>\n",
       "      <td>0.93</td>\n",
       "      <td>False</td>\n",
       "      <td>0.700000</td>\n",
       "      <td>2</td>\n",
       "      <td>111</td>\n",
       "      <td>7.876</td>\n",
       "      <td>6.026</td>\n",
       "      <td>0.3</td>\n",
       "      <td>33.48</td>\n",
       "      <td>243.37944</td>\n",
       "      <td>0</td>\n",
       "      <td>13</td>\n",
       "    </tr>\n",
       "    <tr>\n",
       "      <th>1</th>\n",
       "      <td>15</td>\n",
       "      <td>21</td>\n",
       "      <td>133</td>\n",
       "      <td>95</td>\n",
       "      <td>0.99</td>\n",
       "      <td>False</td>\n",
       "      <td>0.714286</td>\n",
       "      <td>3</td>\n",
       "      <td>24</td>\n",
       "      <td>7.876</td>\n",
       "      <td>6.026</td>\n",
       "      <td>0.3</td>\n",
       "      <td>33.48</td>\n",
       "      <td>243.37944</td>\n",
       "      <td>0</td>\n",
       "      <td>13</td>\n",
       "    </tr>\n",
       "    <tr>\n",
       "      <th>2</th>\n",
       "      <td>27</td>\n",
       "      <td>27</td>\n",
       "      <td>69</td>\n",
       "      <td>69</td>\n",
       "      <td>1.00</td>\n",
       "      <td>False</td>\n",
       "      <td>1.000000</td>\n",
       "      <td>2</td>\n",
       "      <td>33</td>\n",
       "      <td>7.876</td>\n",
       "      <td>6.026</td>\n",
       "      <td>0.3</td>\n",
       "      <td>33.48</td>\n",
       "      <td>243.37944</td>\n",
       "      <td>0</td>\n",
       "      <td>13</td>\n",
       "    </tr>\n",
       "    <tr>\n",
       "      <th>3</th>\n",
       "      <td>23</td>\n",
       "      <td>23</td>\n",
       "      <td>21</td>\n",
       "      <td>21</td>\n",
       "      <td>1.00</td>\n",
       "      <td>False</td>\n",
       "      <td>1.000000</td>\n",
       "      <td>2</td>\n",
       "      <td>40</td>\n",
       "      <td>7.876</td>\n",
       "      <td>6.026</td>\n",
       "      <td>0.3</td>\n",
       "      <td>33.48</td>\n",
       "      <td>243.37944</td>\n",
       "      <td>0</td>\n",
       "      <td>13</td>\n",
       "    </tr>\n",
       "    <tr>\n",
       "      <th>4</th>\n",
       "      <td>11</td>\n",
       "      <td>13</td>\n",
       "      <td>26</td>\n",
       "      <td>22</td>\n",
       "      <td>1.00</td>\n",
       "      <td>False</td>\n",
       "      <td>0.846154</td>\n",
       "      <td>2</td>\n",
       "      <td>38</td>\n",
       "      <td>7.876</td>\n",
       "      <td>6.026</td>\n",
       "      <td>0.3</td>\n",
       "      <td>33.48</td>\n",
       "      <td>243.37944</td>\n",
       "      <td>0</td>\n",
       "      <td>13</td>\n",
       "    </tr>\n",
       "    <tr>\n",
       "      <th>...</th>\n",
       "      <td>...</td>\n",
       "      <td>...</td>\n",
       "      <td>...</td>\n",
       "      <td>...</td>\n",
       "      <td>...</td>\n",
       "      <td>...</td>\n",
       "      <td>...</td>\n",
       "      <td>...</td>\n",
       "      <td>...</td>\n",
       "      <td>...</td>\n",
       "      <td>...</td>\n",
       "      <td>...</td>\n",
       "      <td>...</td>\n",
       "      <td>...</td>\n",
       "      <td>...</td>\n",
       "      <td>...</td>\n",
       "    </tr>\n",
       "    <tr>\n",
       "      <th>161</th>\n",
       "      <td>23</td>\n",
       "      <td>23</td>\n",
       "      <td>23</td>\n",
       "      <td>23</td>\n",
       "      <td>1.00</td>\n",
       "      <td>False</td>\n",
       "      <td>1.000000</td>\n",
       "      <td>3</td>\n",
       "      <td>106</td>\n",
       "      <td>7.876</td>\n",
       "      <td>6.026</td>\n",
       "      <td>0.3</td>\n",
       "      <td>33.48</td>\n",
       "      <td>243.37944</td>\n",
       "      <td>0</td>\n",
       "      <td>13</td>\n",
       "    </tr>\n",
       "    <tr>\n",
       "      <th>162</th>\n",
       "      <td>21</td>\n",
       "      <td>21</td>\n",
       "      <td>25</td>\n",
       "      <td>25</td>\n",
       "      <td>1.00</td>\n",
       "      <td>False</td>\n",
       "      <td>1.000000</td>\n",
       "      <td>5</td>\n",
       "      <td>45</td>\n",
       "      <td>7.876</td>\n",
       "      <td>6.026</td>\n",
       "      <td>0.3</td>\n",
       "      <td>33.48</td>\n",
       "      <td>243.37944</td>\n",
       "      <td>0</td>\n",
       "      <td>13</td>\n",
       "    </tr>\n",
       "    <tr>\n",
       "      <th>163</th>\n",
       "      <td>19</td>\n",
       "      <td>19</td>\n",
       "      <td>22</td>\n",
       "      <td>22</td>\n",
       "      <td>1.00</td>\n",
       "      <td>False</td>\n",
       "      <td>1.000000</td>\n",
       "      <td>6</td>\n",
       "      <td>4</td>\n",
       "      <td>7.876</td>\n",
       "      <td>6.026</td>\n",
       "      <td>0.3</td>\n",
       "      <td>33.48</td>\n",
       "      <td>243.37944</td>\n",
       "      <td>0</td>\n",
       "      <td>13</td>\n",
       "    </tr>\n",
       "    <tr>\n",
       "      <th>164</th>\n",
       "      <td>17</td>\n",
       "      <td>28</td>\n",
       "      <td>120</td>\n",
       "      <td>73</td>\n",
       "      <td>0.99</td>\n",
       "      <td>False</td>\n",
       "      <td>0.607143</td>\n",
       "      <td>4</td>\n",
       "      <td>51</td>\n",
       "      <td>7.876</td>\n",
       "      <td>6.026</td>\n",
       "      <td>0.3</td>\n",
       "      <td>33.48</td>\n",
       "      <td>243.37944</td>\n",
       "      <td>0</td>\n",
       "      <td>13</td>\n",
       "    </tr>\n",
       "    <tr>\n",
       "      <th>165</th>\n",
       "      <td>23</td>\n",
       "      <td>23</td>\n",
       "      <td>114</td>\n",
       "      <td>114</td>\n",
       "      <td>1.00</td>\n",
       "      <td>False</td>\n",
       "      <td>1.000000</td>\n",
       "      <td>5</td>\n",
       "      <td>56</td>\n",
       "      <td>7.876</td>\n",
       "      <td>6.026</td>\n",
       "      <td>0.3</td>\n",
       "      <td>33.48</td>\n",
       "      <td>243.37944</td>\n",
       "      <td>0</td>\n",
       "      <td>13</td>\n",
       "    </tr>\n",
       "  </tbody>\n",
       "</table>\n",
       "<p>166 rows × 16 columns</p>\n",
       "</div>"
      ],
      "text/plain": [
       "     currentspeed  freeflowspeed  currenttraveltime  freeflowtraveltime  \\\n",
       "0              14             20                  6                   4   \n",
       "1              15             21                133                  95   \n",
       "2              27             27                 69                  69   \n",
       "3              23             23                 21                  21   \n",
       "4              11             13                 26                  22   \n",
       "..            ...            ...                ...                 ...   \n",
       "161            23             23                 23                  23   \n",
       "162            21             21                 25                  25   \n",
       "163            19             19                 22                  22   \n",
       "164            17             28                120                  73   \n",
       "165            23             23                114                 114   \n",
       "\n",
       "     confidence  roadclosure  relativespeed  FRC  SEG  temperature_2m_max  \\\n",
       "0          0.93        False       0.700000    2  111               7.876   \n",
       "1          0.99        False       0.714286    3   24               7.876   \n",
       "2          1.00        False       1.000000    2   33               7.876   \n",
       "3          1.00        False       1.000000    2   40               7.876   \n",
       "4          1.00        False       0.846154    2   38               7.876   \n",
       "..          ...          ...            ...  ...  ...                 ...   \n",
       "161        1.00        False       1.000000    3  106               7.876   \n",
       "162        1.00        False       1.000000    5   45               7.876   \n",
       "163        1.00        False       1.000000    6    4               7.876   \n",
       "164        0.99        False       0.607143    4   51               7.876   \n",
       "165        1.00        False       1.000000    5   56               7.876   \n",
       "\n",
       "     temperature_2m_min  precipitation_sum  wind_speed_10m_max  \\\n",
       "0                 6.026                0.3               33.48   \n",
       "1                 6.026                0.3               33.48   \n",
       "2                 6.026                0.3               33.48   \n",
       "3                 6.026                0.3               33.48   \n",
       "4                 6.026                0.3               33.48   \n",
       "..                  ...                ...                 ...   \n",
       "161               6.026                0.3               33.48   \n",
       "162               6.026                0.3               33.48   \n",
       "163               6.026                0.3               33.48   \n",
       "164               6.026                0.3               33.48   \n",
       "165               6.026                0.3               33.48   \n",
       "\n",
       "     wind_direction_10m_dominant  holiday_status  heure  \n",
       "0                      243.37944               0     13  \n",
       "1                      243.37944               0     13  \n",
       "2                      243.37944               0     13  \n",
       "3                      243.37944               0     13  \n",
       "4                      243.37944               0     13  \n",
       "..                           ...             ...    ...  \n",
       "161                    243.37944               0     13  \n",
       "162                    243.37944               0     13  \n",
       "163                    243.37944               0     13  \n",
       "164                    243.37944               0     13  \n",
       "165                    243.37944               0     13  \n",
       "\n",
       "[166 rows x 16 columns]"
      ]
     },
     "execution_count": 34,
     "metadata": {},
     "output_type": "execute_result"
    }
   ],
   "source": [
    "merged_df"
   ]
  },
  {
   "cell_type": "code",
   "execution_count": 35,
   "metadata": {
    "execution": {
     "iopub.execute_input": "2024-11-20T10:11:43.486010Z",
     "iopub.status.busy": "2024-11-20T10:11:43.485595Z",
     "iopub.status.idle": "2024-11-20T10:11:43.504653Z",
     "shell.execute_reply": "2024-11-20T10:11:43.504075Z"
    }
   },
   "outputs": [],
   "source": [
    "merged_df['predicted_rs'] = trafic_pred_tree.predict(merged_df)"
   ]
  },
  {
   "cell_type": "code",
   "execution_count": 36,
   "metadata": {},
   "outputs": [],
   "source": [
    "batch_df = merged_df[['SEG', 'predicted_rs']]"
   ]
  },
  {
   "cell_type": "code",
   "execution_count": 37,
   "metadata": {},
   "outputs": [
    {
     "data": {
      "text/html": [
       "<div>\n",
       "<style scoped>\n",
       "    .dataframe tbody tr th:only-of-type {\n",
       "        vertical-align: middle;\n",
       "    }\n",
       "\n",
       "    .dataframe tbody tr th {\n",
       "        vertical-align: top;\n",
       "    }\n",
       "\n",
       "    .dataframe thead th {\n",
       "        text-align: right;\n",
       "    }\n",
       "</style>\n",
       "<table border=\"1\" class=\"dataframe\">\n",
       "  <thead>\n",
       "    <tr style=\"text-align: right;\">\n",
       "      <th></th>\n",
       "      <th>SEG</th>\n",
       "      <th>predicted_rs</th>\n",
       "    </tr>\n",
       "  </thead>\n",
       "  <tbody>\n",
       "    <tr>\n",
       "      <th>0</th>\n",
       "      <td>111</td>\n",
       "      <td>1.000000</td>\n",
       "    </tr>\n",
       "    <tr>\n",
       "      <th>1</th>\n",
       "      <td>24</td>\n",
       "      <td>0.714286</td>\n",
       "    </tr>\n",
       "    <tr>\n",
       "      <th>2</th>\n",
       "      <td>33</td>\n",
       "      <td>0.629630</td>\n",
       "    </tr>\n",
       "    <tr>\n",
       "      <th>3</th>\n",
       "      <td>40</td>\n",
       "      <td>1.000000</td>\n",
       "    </tr>\n",
       "    <tr>\n",
       "      <th>4</th>\n",
       "      <td>38</td>\n",
       "      <td>0.571429</td>\n",
       "    </tr>\n",
       "    <tr>\n",
       "      <th>...</th>\n",
       "      <td>...</td>\n",
       "      <td>...</td>\n",
       "    </tr>\n",
       "    <tr>\n",
       "      <th>161</th>\n",
       "      <td>106</td>\n",
       "      <td>1.000000</td>\n",
       "    </tr>\n",
       "    <tr>\n",
       "      <th>162</th>\n",
       "      <td>45</td>\n",
       "      <td>1.000000</td>\n",
       "    </tr>\n",
       "    <tr>\n",
       "      <th>163</th>\n",
       "      <td>4</td>\n",
       "      <td>1.000000</td>\n",
       "    </tr>\n",
       "    <tr>\n",
       "      <th>164</th>\n",
       "      <td>51</td>\n",
       "      <td>0.633333</td>\n",
       "    </tr>\n",
       "    <tr>\n",
       "      <th>165</th>\n",
       "      <td>56</td>\n",
       "      <td>1.000000</td>\n",
       "    </tr>\n",
       "  </tbody>\n",
       "</table>\n",
       "<p>166 rows × 2 columns</p>\n",
       "</div>"
      ],
      "text/plain": [
       "     SEG  predicted_rs\n",
       "0    111      1.000000\n",
       "1     24      0.714286\n",
       "2     33      0.629630\n",
       "3     40      1.000000\n",
       "4     38      0.571429\n",
       "..   ...           ...\n",
       "161  106      1.000000\n",
       "162   45      1.000000\n",
       "163    4      1.000000\n",
       "164   51      0.633333\n",
       "165   56      1.000000\n",
       "\n",
       "[166 rows x 2 columns]"
      ]
     },
     "execution_count": 37,
     "metadata": {},
     "output_type": "execute_result"
    }
   ],
   "source": [
    "batch_df"
   ]
  },
  {
   "cell_type": "code",
   "execution_count": 38,
   "metadata": {
    "execution": {
     "iopub.execute_input": "2024-11-20T10:11:44.381305Z",
     "iopub.status.busy": "2024-11-20T10:11:44.380834Z",
     "iopub.status.idle": "2024-11-20T10:11:49.859021Z",
     "shell.execute_reply": "2024-11-20T10:11:49.858383Z"
    }
   },
   "outputs": [],
   "source": [
    "# Get or create feature group\n",
    "monitor_fg = fs.get_or_create_feature_group(\n",
    "    name='rs_predictions',\n",
    "    description='Trafic prediction monitoring',\n",
    "    version=1,\n",
    "    primary_key=['SEG'],\n",
    ")"
   ]
  },
  {
   "cell_type": "code",
   "execution_count": 39,
   "metadata": {
    "execution": {
     "iopub.execute_input": "2024-11-20T10:11:44.381305Z",
     "iopub.status.busy": "2024-11-20T10:11:44.380834Z",
     "iopub.status.idle": "2024-11-20T10:11:49.859021Z",
     "shell.execute_reply": "2024-11-20T10:11:49.858383Z"
    }
   },
   "outputs": [
    {
     "name": "stdout",
     "output_type": "stream",
     "text": [
      "2024-12-29 15:29:09,886 WARNING: FeatureGroupWarning: The ingested dataframe contains upper case letters in feature names: `['SEG']`. Feature names are sanitized to lower case in the feature store.\n",
      "\n"
     ]
    },
    {
     "name": "stderr",
     "output_type": "stream",
     "text": [
      "Uploading Dataframe: 100.00% |██████████| Rows 166/166 | Elapsed Time: 00:01 | Remaining Time: 00:00\n"
     ]
    },
    {
     "name": "stdout",
     "output_type": "stream",
     "text": [
      "Launching job: rs_predictions_1_offline_fg_materialization\n",
      "Job started successfully, you can follow the progress at \n",
      "https://c.app.hopsworks.ai:443/p/1170582/jobs/named/rs_predictions_1_offline_fg_materialization/executions\n"
     ]
    },
    {
     "data": {
      "text/plain": [
       "(Job('rs_predictions_1_offline_fg_materialization', 'SPARK'), None)"
      ]
     },
     "execution_count": 39,
     "metadata": {},
     "output_type": "execute_result"
    }
   ],
   "source": [
    "monitor_fg.insert(batch_df)"
   ]
  },
  {
   "cell_type": "code",
   "execution_count": null,
   "metadata": {},
   "outputs": [],
   "source": []
  }
 ],
 "metadata": {
  "kernelspec": {
   "display_name": "3.9.5",
   "language": "python",
   "name": "python3"
  },
  "language_info": {
   "codemirror_mode": {
    "name": "ipython",
    "version": 3
   },
   "file_extension": ".py",
   "mimetype": "text/x-python",
   "name": "python",
   "nbconvert_exporter": "python",
   "pygments_lexer": "ipython3",
   "version": "3.9.5"
  },
  "widgets": {
   "application/vnd.jupyter.widget-state+json": {
    "state": {
     "1219607920044d24beb0b0f267749f12": {
      "model_module": "@jupyter-widgets/controls",
      "model_module_version": "2.0.0",
      "model_name": "HBoxModel",
      "state": {
       "_dom_classes": [],
       "_model_module": "@jupyter-widgets/controls",
       "_model_module_version": "2.0.0",
       "_model_name": "HBoxModel",
       "_view_count": null,
       "_view_module": "@jupyter-widgets/controls",
       "_view_module_version": "2.0.0",
       "_view_name": "HBoxView",
       "box_style": "",
       "children": [
        "IPY_MODEL_a17d80b30b844cee96aceb87fedbe2d3",
        "IPY_MODEL_e4ec703a5ef4459ead9cee07ba1f61c1",
        "IPY_MODEL_1a88e799d2f94cff9c55723cd2f52fd7"
       ],
       "layout": "IPY_MODEL_b1094013e7b240bb909f82ed45019c56",
       "tabbable": null,
       "tooltip": null
      }
     },
     "1a88e799d2f94cff9c55723cd2f52fd7": {
      "model_module": "@jupyter-widgets/controls",
      "model_module_version": "2.0.0",
      "model_name": "HTMLModel",
      "state": {
       "_dom_classes": [],
       "_model_module": "@jupyter-widgets/controls",
       "_model_module_version": "2.0.0",
       "_model_name": "HTMLModel",
       "_view_count": null,
       "_view_module": "@jupyter-widgets/controls",
       "_view_module_version": "2.0.0",
       "_view_name": "HTMLView",
       "description": "",
       "description_allow_html": false,
       "layout": "IPY_MODEL_305c9cfaa46d4072aec2862a7b222c28",
       "placeholder": "​",
       "style": "IPY_MODEL_1c566984924547b2bc27688b9cccb0d0",
       "tabbable": null,
       "tooltip": null,
       "value": " Rows 7/7 | Elapsed Time: 00:05 | Remaining Time: 00:00"
      }
     },
     "1c566984924547b2bc27688b9cccb0d0": {
      "model_module": "@jupyter-widgets/controls",
      "model_module_version": "2.0.0",
      "model_name": "HTMLStyleModel",
      "state": {
       "_model_module": "@jupyter-widgets/controls",
       "_model_module_version": "2.0.0",
       "_model_name": "HTMLStyleModel",
       "_view_count": null,
       "_view_module": "@jupyter-widgets/base",
       "_view_module_version": "2.0.0",
       "_view_name": "StyleView",
       "background": null,
       "description_width": "",
       "font_size": null,
       "text_color": null
      }
     },
     "305c9cfaa46d4072aec2862a7b222c28": {
      "model_module": "@jupyter-widgets/base",
      "model_module_version": "2.0.0",
      "model_name": "LayoutModel",
      "state": {
       "_model_module": "@jupyter-widgets/base",
       "_model_module_version": "2.0.0",
       "_model_name": "LayoutModel",
       "_view_count": null,
       "_view_module": "@jupyter-widgets/base",
       "_view_module_version": "2.0.0",
       "_view_name": "LayoutView",
       "align_content": null,
       "align_items": null,
       "align_self": null,
       "border_bottom": null,
       "border_left": null,
       "border_right": null,
       "border_top": null,
       "bottom": null,
       "display": null,
       "flex": null,
       "flex_flow": null,
       "grid_area": null,
       "grid_auto_columns": null,
       "grid_auto_flow": null,
       "grid_auto_rows": null,
       "grid_column": null,
       "grid_gap": null,
       "grid_row": null,
       "grid_template_areas": null,
       "grid_template_columns": null,
       "grid_template_rows": null,
       "height": null,
       "justify_content": null,
       "justify_items": null,
       "left": null,
       "margin": null,
       "max_height": null,
       "max_width": null,
       "min_height": null,
       "min_width": null,
       "object_fit": null,
       "object_position": null,
       "order": null,
       "overflow": null,
       "padding": null,
       "right": null,
       "top": null,
       "visibility": null,
       "width": null
      }
     },
     "453ae4486302438fb1419998a90023e5": {
      "model_module": "@jupyter-widgets/base",
      "model_module_version": "2.0.0",
      "model_name": "LayoutModel",
      "state": {
       "_model_module": "@jupyter-widgets/base",
       "_model_module_version": "2.0.0",
       "_model_name": "LayoutModel",
       "_view_count": null,
       "_view_module": "@jupyter-widgets/base",
       "_view_module_version": "2.0.0",
       "_view_name": "LayoutView",
       "align_content": null,
       "align_items": null,
       "align_self": null,
       "border_bottom": null,
       "border_left": null,
       "border_right": null,
       "border_top": null,
       "bottom": null,
       "display": null,
       "flex": null,
       "flex_flow": null,
       "grid_area": null,
       "grid_auto_columns": null,
       "grid_auto_flow": null,
       "grid_auto_rows": null,
       "grid_column": null,
       "grid_gap": null,
       "grid_row": null,
       "grid_template_areas": null,
       "grid_template_columns": null,
       "grid_template_rows": null,
       "height": null,
       "justify_content": null,
       "justify_items": null,
       "left": null,
       "margin": null,
       "max_height": null,
       "max_width": null,
       "min_height": null,
       "min_width": null,
       "object_fit": null,
       "object_position": null,
       "order": null,
       "overflow": null,
       "padding": null,
       "right": null,
       "top": null,
       "visibility": null,
       "width": null
      }
     },
     "5073ce83de3c4dfa979e4193d326cbef": {
      "model_module": "@jupyter-widgets/controls",
      "model_module_version": "2.0.0",
      "model_name": "HTMLStyleModel",
      "state": {
       "_model_module": "@jupyter-widgets/controls",
       "_model_module_version": "2.0.0",
       "_model_name": "HTMLStyleModel",
       "_view_count": null,
       "_view_module": "@jupyter-widgets/base",
       "_view_module_version": "2.0.0",
       "_view_name": "StyleView",
       "background": null,
       "description_width": "",
       "font_size": null,
       "text_color": null
      }
     },
     "889afec0260b4fdf886fd92d97027a35": {
      "model_module": "@jupyter-widgets/controls",
      "model_module_version": "2.0.0",
      "model_name": "ProgressStyleModel",
      "state": {
       "_model_module": "@jupyter-widgets/controls",
       "_model_module_version": "2.0.0",
       "_model_name": "ProgressStyleModel",
       "_view_count": null,
       "_view_module": "@jupyter-widgets/base",
       "_view_module_version": "2.0.0",
       "_view_name": "StyleView",
       "bar_color": null,
       "description_width": ""
      }
     },
     "9a3abea6996a4e3cbec9f685d31094b3": {
      "model_module": "@jupyter-widgets/base",
      "model_module_version": "2.0.0",
      "model_name": "LayoutModel",
      "state": {
       "_model_module": "@jupyter-widgets/base",
       "_model_module_version": "2.0.0",
       "_model_name": "LayoutModel",
       "_view_count": null,
       "_view_module": "@jupyter-widgets/base",
       "_view_module_version": "2.0.0",
       "_view_name": "LayoutView",
       "align_content": null,
       "align_items": null,
       "align_self": null,
       "border_bottom": null,
       "border_left": null,
       "border_right": null,
       "border_top": null,
       "bottom": null,
       "display": null,
       "flex": null,
       "flex_flow": null,
       "grid_area": null,
       "grid_auto_columns": null,
       "grid_auto_flow": null,
       "grid_auto_rows": null,
       "grid_column": null,
       "grid_gap": null,
       "grid_row": null,
       "grid_template_areas": null,
       "grid_template_columns": null,
       "grid_template_rows": null,
       "height": null,
       "justify_content": null,
       "justify_items": null,
       "left": null,
       "margin": null,
       "max_height": null,
       "max_width": null,
       "min_height": null,
       "min_width": null,
       "object_fit": null,
       "object_position": null,
       "order": null,
       "overflow": null,
       "padding": null,
       "right": null,
       "top": null,
       "visibility": null,
       "width": null
      }
     },
     "a17d80b30b844cee96aceb87fedbe2d3": {
      "model_module": "@jupyter-widgets/controls",
      "model_module_version": "2.0.0",
      "model_name": "HTMLModel",
      "state": {
       "_dom_classes": [],
       "_model_module": "@jupyter-widgets/controls",
       "_model_module_version": "2.0.0",
       "_model_name": "HTMLModel",
       "_view_count": null,
       "_view_module": "@jupyter-widgets/controls",
       "_view_module_version": "2.0.0",
       "_view_name": "HTMLView",
       "description": "",
       "description_allow_html": false,
       "layout": "IPY_MODEL_9a3abea6996a4e3cbec9f685d31094b3",
       "placeholder": "​",
       "style": "IPY_MODEL_5073ce83de3c4dfa979e4193d326cbef",
       "tabbable": null,
       "tooltip": null,
       "value": "Uploading Dataframe: 100.00% "
      }
     },
     "b1094013e7b240bb909f82ed45019c56": {
      "model_module": "@jupyter-widgets/base",
      "model_module_version": "2.0.0",
      "model_name": "LayoutModel",
      "state": {
       "_model_module": "@jupyter-widgets/base",
       "_model_module_version": "2.0.0",
       "_model_name": "LayoutModel",
       "_view_count": null,
       "_view_module": "@jupyter-widgets/base",
       "_view_module_version": "2.0.0",
       "_view_name": "LayoutView",
       "align_content": null,
       "align_items": null,
       "align_self": null,
       "border_bottom": null,
       "border_left": null,
       "border_right": null,
       "border_top": null,
       "bottom": null,
       "display": null,
       "flex": null,
       "flex_flow": null,
       "grid_area": null,
       "grid_auto_columns": null,
       "grid_auto_flow": null,
       "grid_auto_rows": null,
       "grid_column": null,
       "grid_gap": null,
       "grid_row": null,
       "grid_template_areas": null,
       "grid_template_columns": null,
       "grid_template_rows": null,
       "height": null,
       "justify_content": null,
       "justify_items": null,
       "left": null,
       "margin": null,
       "max_height": null,
       "max_width": null,
       "min_height": null,
       "min_width": null,
       "object_fit": null,
       "object_position": null,
       "order": null,
       "overflow": null,
       "padding": null,
       "right": null,
       "top": null,
       "visibility": null,
       "width": null
      }
     },
     "e4ec703a5ef4459ead9cee07ba1f61c1": {
      "model_module": "@jupyter-widgets/controls",
      "model_module_version": "2.0.0",
      "model_name": "FloatProgressModel",
      "state": {
       "_dom_classes": [],
       "_model_module": "@jupyter-widgets/controls",
       "_model_module_version": "2.0.0",
       "_model_name": "FloatProgressModel",
       "_view_count": null,
       "_view_module": "@jupyter-widgets/controls",
       "_view_module_version": "2.0.0",
       "_view_name": "ProgressView",
       "bar_style": "success",
       "description": "",
       "description_allow_html": false,
       "layout": "IPY_MODEL_453ae4486302438fb1419998a90023e5",
       "max": 7,
       "min": 0,
       "orientation": "horizontal",
       "style": "IPY_MODEL_889afec0260b4fdf886fd92d97027a35",
       "tabbable": null,
       "tooltip": null,
       "value": 7
      }
     }
    },
    "version_major": 2,
    "version_minor": 0
   }
  }
 },
 "nbformat": 4,
 "nbformat_minor": 2
}

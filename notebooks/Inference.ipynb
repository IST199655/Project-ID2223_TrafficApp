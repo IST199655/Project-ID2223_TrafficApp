{
 "cells": [
  {
   "cell_type": "markdown",
   "metadata": {},
   "source": [
    "### 0. Imports and Variable Setup"
   ]
  },
  {
   "cell_type": "code",
   "execution_count": 80,
   "metadata": {
    "execution": {
     "iopub.execute_input": "2024-11-20T10:11:34.576249Z",
     "iopub.status.busy": "2024-11-20T10:11:34.576018Z",
     "iopub.status.idle": "2024-11-20T10:11:37.842623Z",
     "shell.execute_reply": "2024-11-20T10:11:37.841804Z"
    }
   },
   "outputs": [],
   "source": [
    "\n",
    "import os\n",
    "import warnings\n",
    "import hopsworks\n",
    "import matplotlib.pyplot as plt\n",
    "import datetime\n",
    "import pandas as pd\n",
    "from joblib import dump, load\n",
    "from sklearn.preprocessing import LabelEncoder\n",
    "from sklearn.model_selection import train_test_split\n",
    "from sklearn.tree import DecisionTreeRegressor  # For regression tasks\n",
    "from sklearn.metrics import mean_squared_error, accuracy_score, r2_score\n"
   ]
  },
  {
   "cell_type": "code",
   "execution_count": 81,
   "metadata": {
    "execution": {
     "iopub.execute_input": "2024-11-20T10:11:37.845302Z",
     "iopub.status.busy": "2024-11-20T10:11:37.844918Z",
     "iopub.status.idle": "2024-11-20T10:11:37.848371Z",
     "shell.execute_reply": "2024-11-20T10:11:37.847686Z"
    }
   },
   "outputs": [],
   "source": [
    "\n",
    "# Get the API key from GitHub Secrets\n",
    "HOPSWORKS_API_KEY = os.getenv('HOPSWORKS_API_KEY')\n",
    "\n",
    "with open('hopsworks-api-key.txt', 'r') as file:\n",
    "    os.environ[\"HOPSWORKS_API_KEY\"] = file.read().rstrip()"
   ]
  },
  {
   "cell_type": "code",
   "execution_count": 82,
   "metadata": {
    "execution": {
     "iopub.execute_input": "2024-11-20T10:11:37.850789Z",
     "iopub.status.busy": "2024-11-20T10:11:37.850386Z",
     "iopub.status.idle": "2024-11-20T10:11:38.632624Z",
     "shell.execute_reply": "2024-11-20T10:11:38.631918Z"
    }
   },
   "outputs": [
    {
     "name": "stdout",
     "output_type": "stream",
     "text": [
      "2025-01-07 13:47:33,725 INFO: Closing external client and cleaning up certificates.\n",
      "Connection closed.\n",
      "2025-01-07 13:47:33,740 INFO: Initializing external client\n",
      "2025-01-07 13:47:33,743 INFO: Base URL: https://c.app.hopsworks.ai:443\n",
      "2025-01-07 13:47:34,807 INFO: Python Engine initialized.\n",
      "\n",
      "Logged in to project, explore it here https://c.app.hopsworks.ai:443/p/1170582\n"
     ]
    }
   ],
   "source": [
    "# Connect to Hopsworks Project and Features Store\n",
    "project = hopsworks.login(project=\"ScalableMLandDeepLcourse\")\n",
    "fs = project.get_feature_store()"
   ]
  },
  {
   "cell_type": "code",
   "execution_count": 83,
   "metadata": {
    "execution": {
     "iopub.execute_input": "2024-11-20T10:11:38.634919Z",
     "iopub.status.busy": "2024-11-20T10:11:38.634696Z",
     "iopub.status.idle": "2024-11-20T10:11:38.638561Z",
     "shell.execute_reply": "2024-11-20T10:11:38.637964Z"
    }
   },
   "outputs": [],
   "source": [
    "# Creating a directory for the model artifacts if it doesn't exist\n",
    "model_dir = \"trafic_pred_model\"\n",
    "if not os.path.exists(model_dir):\n",
    "    os.mkdir(model_dir)\n",
    "images_dir = model_dir + \"/images\"\n",
    "if not os.path.exists(images_dir):\n",
    "    os.mkdir(images_dir)"
   ]
  },
  {
   "cell_type": "markdown",
   "metadata": {},
   "source": [
    "## 4. Batch Inference"
   ]
  },
  {
   "cell_type": "code",
   "execution_count": 84,
   "metadata": {
    "execution": {
     "iopub.execute_input": "2024-11-20T10:11:39.899312Z",
     "iopub.status.busy": "2024-11-20T10:11:39.898908Z",
     "iopub.status.idle": "2024-11-20T10:11:41.757368Z",
     "shell.execute_reply": "2024-11-20T10:11:41.756635Z"
    }
   },
   "outputs": [
    {
     "name": "stdout",
     "output_type": "stream",
     "text": [
      "Downloading model artifact (1 dirs, 2 files)... DONE\r"
     ]
    }
   ],
   "source": [
    "mr = project.get_model_registry()\n",
    "\n",
    "retrieved_model = mr.get_model(\n",
    "    name=\"trafic_pred_xgboost\",\n",
    "    version=1,\n",
    ")\n",
    "\n",
    "# Download the saved model artifacts to a local directory\n",
    "saved_model_dir = retrieved_model.download()"
   ]
  },
  {
   "cell_type": "code",
   "execution_count": 85,
   "metadata": {
    "execution": {
     "iopub.execute_input": "2024-11-20T10:11:41.759461Z",
     "iopub.status.busy": "2024-11-20T10:11:41.759250Z",
     "iopub.status.idle": "2024-11-20T10:11:41.898785Z",
     "shell.execute_reply": "2024-11-20T10:11:41.898034Z"
    }
   },
   "outputs": [],
   "source": [
    "# Assuming the downloaded directory contains 'model.pkl'\n",
    "model_file_path = os.path.join(saved_model_dir, \"xgboost_model.joblib\")\n",
    "\n",
    "# Load the model\n",
    "trafic_pred_xgboost = load(model_file_path)"
   ]
  },
  {
   "cell_type": "code",
   "execution_count": 86,
   "metadata": {},
   "outputs": [
    {
     "data": {
      "text/plain": [
       "datetime.datetime(2025, 1, 7, 10, 0)"
      ]
     },
     "execution_count": 86,
     "metadata": {},
     "output_type": "execute_result"
    }
   ],
   "source": [
    "today = datetime.datetime.now() - datetime.timedelta(0)\n",
    "today = today.replace(minute=0, second=0, microsecond=0)\n",
    "today = today - datetime.timedelta(hours = 3)\n",
    "today"
   ]
  },
  {
   "cell_type": "code",
   "execution_count": 87,
   "metadata": {
    "execution": {
     "iopub.execute_input": "2024-11-20T10:11:41.901076Z",
     "iopub.status.busy": "2024-11-20T10:11:41.900846Z",
     "iopub.status.idle": "2024-11-20T10:11:43.483708Z",
     "shell.execute_reply": "2024-11-20T10:11:43.483096Z"
    }
   },
   "outputs": [
    {
     "name": "stdout",
     "output_type": "stream",
     "text": [
      "Finished: Reading data from Hopsworks, using Hopsworks Feature Query Service (1.36s) \n",
      "Finished: Reading data from Hopsworks, using Hopsworks Feature Query Service (0.65s) \n"
     ]
    }
   ],
   "source": [
    "trafic_fg = fs.get_feature_group(name='stockholm_traffic',version=1,)\n",
    "weather_fg = fs.get_feature_group(name=\"stockholm_weather_holiday\", version=1)\n",
    "\n",
    "trafic_df = trafic_fg.filter(trafic_fg.date == today).read()\n",
    "weather_df = weather_fg.filter(weather_fg.date == today).read()\n"
   ]
  },
  {
   "cell_type": "code",
   "execution_count": 88,
   "metadata": {},
   "outputs": [],
   "source": [
    "\n",
    "# Label Encoding\n",
    "label_encoder_FRC = LabelEncoder()\n",
    "\n",
    "trafic_df[\"FRC\"] = label_encoder_FRC.fit_transform(trafic_df[\"frc\"])\n",
    "\n",
    "\n",
    "# Supprimer l'ancienne colonne frc\n",
    "trafic_df = trafic_df.drop(columns=[\"frc\"])"
   ]
  },
  {
   "cell_type": "code",
   "execution_count": 89,
   "metadata": {},
   "outputs": [],
   "source": [
    "# Label Encoding\n",
    "label_encoder_coor = LabelEncoder()\n",
    "\n",
    "trafic_df[\"SEG\"] = label_encoder_coor.fit_transform(trafic_df[\"coordinates\"])"
   ]
  },
  {
   "cell_type": "code",
   "execution_count": 90,
   "metadata": {},
   "outputs": [],
   "source": [
    "merged_df = pd.merge(trafic_df, weather_df, on=\"date\", how=\"inner\")"
   ]
  },
  {
   "cell_type": "code",
   "execution_count": 91,
   "metadata": {},
   "outputs": [],
   "source": [
    "merged_df['hour'] = pd.to_datetime(merged_df['date']).dt.hour"
   ]
  },
  {
   "cell_type": "code",
   "execution_count": 92,
   "metadata": {},
   "outputs": [],
   "source": [
    "merged_df = merged_df.drop(columns=[\"date\"],axis=1)"
   ]
  },
  {
   "cell_type": "code",
   "execution_count": 93,
   "metadata": {},
   "outputs": [
    {
     "data": {
      "text/html": [
       "<div>\n",
       "<style scoped>\n",
       "    .dataframe tbody tr th:only-of-type {\n",
       "        vertical-align: middle;\n",
       "    }\n",
       "\n",
       "    .dataframe tbody tr th {\n",
       "        vertical-align: top;\n",
       "    }\n",
       "\n",
       "    .dataframe thead th {\n",
       "        text-align: right;\n",
       "    }\n",
       "</style>\n",
       "<table border=\"1\" class=\"dataframe\">\n",
       "  <thead>\n",
       "    <tr style=\"text-align: right;\">\n",
       "      <th></th>\n",
       "      <th>currentspeed</th>\n",
       "      <th>freeflowspeed</th>\n",
       "      <th>currenttraveltime</th>\n",
       "      <th>freeflowtraveltime</th>\n",
       "      <th>confidence</th>\n",
       "      <th>roadclosure</th>\n",
       "      <th>coordinates</th>\n",
       "      <th>relativespeed</th>\n",
       "      <th>FRC</th>\n",
       "      <th>SEG</th>\n",
       "      <th>temperature_2m_max</th>\n",
       "      <th>temperature_2m_min</th>\n",
       "      <th>precipitation_sum</th>\n",
       "      <th>wind_speed_10m_max</th>\n",
       "      <th>wind_direction_10m_dominant</th>\n",
       "      <th>holiday_status</th>\n",
       "      <th>heure</th>\n",
       "    </tr>\n",
       "  </thead>\n",
       "  <tbody>\n",
       "    <tr>\n",
       "      <th>0</th>\n",
       "      <td>16</td>\n",
       "      <td>16</td>\n",
       "      <td>83</td>\n",
       "      <td>83</td>\n",
       "      <td>1.00</td>\n",
       "      <td>False</td>\n",
       "      <td>LINESTRING (18.035570345361634 59.341354559504...</td>\n",
       "      <td>1.000000</td>\n",
       "      <td>6</td>\n",
       "      <td>10</td>\n",
       "      <td>4.026</td>\n",
       "      <td>0.676</td>\n",
       "      <td>2.7</td>\n",
       "      <td>31.68</td>\n",
       "      <td>176.159103</td>\n",
       "      <td>0</td>\n",
       "      <td>11</td>\n",
       "    </tr>\n",
       "    <tr>\n",
       "      <th>1</th>\n",
       "      <td>10</td>\n",
       "      <td>12</td>\n",
       "      <td>136</td>\n",
       "      <td>113</td>\n",
       "      <td>0.72</td>\n",
       "      <td>False</td>\n",
       "      <td>LINESTRING (18.030286393601045 59.340611581406...</td>\n",
       "      <td>0.833333</td>\n",
       "      <td>5</td>\n",
       "      <td>1</td>\n",
       "      <td>4.026</td>\n",
       "      <td>0.676</td>\n",
       "      <td>2.7</td>\n",
       "      <td>31.68</td>\n",
       "      <td>176.159103</td>\n",
       "      <td>0</td>\n",
       "      <td>11</td>\n",
       "    </tr>\n",
       "    <tr>\n",
       "      <th>2</th>\n",
       "      <td>10</td>\n",
       "      <td>18</td>\n",
       "      <td>139</td>\n",
       "      <td>77</td>\n",
       "      <td>0.70</td>\n",
       "      <td>False</td>\n",
       "      <td>LINESTRING (18.066489509788 59.34369878970523,...</td>\n",
       "      <td>0.555556</td>\n",
       "      <td>5</td>\n",
       "      <td>154</td>\n",
       "      <td>4.026</td>\n",
       "      <td>0.676</td>\n",
       "      <td>2.7</td>\n",
       "      <td>31.68</td>\n",
       "      <td>176.159103</td>\n",
       "      <td>0</td>\n",
       "      <td>11</td>\n",
       "    </tr>\n",
       "    <tr>\n",
       "      <th>3</th>\n",
       "      <td>17</td>\n",
       "      <td>17</td>\n",
       "      <td>29</td>\n",
       "      <td>29</td>\n",
       "      <td>1.00</td>\n",
       "      <td>False</td>\n",
       "      <td>LINESTRING (18.043447993240193 59.343878503496...</td>\n",
       "      <td>1.000000</td>\n",
       "      <td>5</td>\n",
       "      <td>42</td>\n",
       "      <td>4.026</td>\n",
       "      <td>0.676</td>\n",
       "      <td>2.7</td>\n",
       "      <td>31.68</td>\n",
       "      <td>176.159103</td>\n",
       "      <td>0</td>\n",
       "      <td>11</td>\n",
       "    </tr>\n",
       "    <tr>\n",
       "      <th>4</th>\n",
       "      <td>18</td>\n",
       "      <td>18</td>\n",
       "      <td>17</td>\n",
       "      <td>17</td>\n",
       "      <td>1.00</td>\n",
       "      <td>False</td>\n",
       "      <td>LINESTRING (18.060907832826672 59.345399301387...</td>\n",
       "      <td>1.000000</td>\n",
       "      <td>3</td>\n",
       "      <td>127</td>\n",
       "      <td>4.026</td>\n",
       "      <td>0.676</td>\n",
       "      <td>2.7</td>\n",
       "      <td>31.68</td>\n",
       "      <td>176.159103</td>\n",
       "      <td>0</td>\n",
       "      <td>11</td>\n",
       "    </tr>\n",
       "    <tr>\n",
       "      <th>...</th>\n",
       "      <td>...</td>\n",
       "      <td>...</td>\n",
       "      <td>...</td>\n",
       "      <td>...</td>\n",
       "      <td>...</td>\n",
       "      <td>...</td>\n",
       "      <td>...</td>\n",
       "      <td>...</td>\n",
       "      <td>...</td>\n",
       "      <td>...</td>\n",
       "      <td>...</td>\n",
       "      <td>...</td>\n",
       "      <td>...</td>\n",
       "      <td>...</td>\n",
       "      <td>...</td>\n",
       "      <td>...</td>\n",
       "      <td>...</td>\n",
       "    </tr>\n",
       "    <tr>\n",
       "      <th>160</th>\n",
       "      <td>13</td>\n",
       "      <td>22</td>\n",
       "      <td>153</td>\n",
       "      <td>90</td>\n",
       "      <td>0.99</td>\n",
       "      <td>False</td>\n",
       "      <td>LINESTRING (18.038586489399563 59.342495815378...</td>\n",
       "      <td>0.590909</td>\n",
       "      <td>3</td>\n",
       "      <td>24</td>\n",
       "      <td>4.026</td>\n",
       "      <td>0.676</td>\n",
       "      <td>2.7</td>\n",
       "      <td>31.68</td>\n",
       "      <td>176.159103</td>\n",
       "      <td>0</td>\n",
       "      <td>11</td>\n",
       "    </tr>\n",
       "    <tr>\n",
       "      <th>161</th>\n",
       "      <td>60</td>\n",
       "      <td>60</td>\n",
       "      <td>28</td>\n",
       "      <td>28</td>\n",
       "      <td>1.00</td>\n",
       "      <td>False</td>\n",
       "      <td>LINESTRING (18.056384287322032 59.351407464362...</td>\n",
       "      <td>1.000000</td>\n",
       "      <td>1</td>\n",
       "      <td>99</td>\n",
       "      <td>4.026</td>\n",
       "      <td>0.676</td>\n",
       "      <td>2.7</td>\n",
       "      <td>31.68</td>\n",
       "      <td>176.159103</td>\n",
       "      <td>0</td>\n",
       "      <td>11</td>\n",
       "    </tr>\n",
       "    <tr>\n",
       "      <th>162</th>\n",
       "      <td>75</td>\n",
       "      <td>75</td>\n",
       "      <td>97</td>\n",
       "      <td>97</td>\n",
       "      <td>1.00</td>\n",
       "      <td>False</td>\n",
       "      <td>LINESTRING (18.010798803998824 59.341308954632...</td>\n",
       "      <td>1.000000</td>\n",
       "      <td>0</td>\n",
       "      <td>0</td>\n",
       "      <td>4.026</td>\n",
       "      <td>0.676</td>\n",
       "      <td>2.7</td>\n",
       "      <td>31.68</td>\n",
       "      <td>176.159103</td>\n",
       "      <td>0</td>\n",
       "      <td>11</td>\n",
       "    </tr>\n",
       "    <tr>\n",
       "      <th>163</th>\n",
       "      <td>14</td>\n",
       "      <td>26</td>\n",
       "      <td>67</td>\n",
       "      <td>36</td>\n",
       "      <td>1.00</td>\n",
       "      <td>False</td>\n",
       "      <td>LINESTRING (18.063042871203066 59.345046598587...</td>\n",
       "      <td>0.538462</td>\n",
       "      <td>2</td>\n",
       "      <td>140</td>\n",
       "      <td>4.026</td>\n",
       "      <td>0.676</td>\n",
       "      <td>2.7</td>\n",
       "      <td>31.68</td>\n",
       "      <td>176.159103</td>\n",
       "      <td>0</td>\n",
       "      <td>11</td>\n",
       "    </tr>\n",
       "    <tr>\n",
       "      <th>164</th>\n",
       "      <td>16</td>\n",
       "      <td>23</td>\n",
       "      <td>78</td>\n",
       "      <td>54</td>\n",
       "      <td>1.00</td>\n",
       "      <td>False</td>\n",
       "      <td>LINESTRING (18.0656607072022 59.33266416555818...</td>\n",
       "      <td>0.695652</td>\n",
       "      <td>3</td>\n",
       "      <td>152</td>\n",
       "      <td>4.026</td>\n",
       "      <td>0.676</td>\n",
       "      <td>2.7</td>\n",
       "      <td>31.68</td>\n",
       "      <td>176.159103</td>\n",
       "      <td>0</td>\n",
       "      <td>11</td>\n",
       "    </tr>\n",
       "  </tbody>\n",
       "</table>\n",
       "<p>165 rows × 17 columns</p>\n",
       "</div>"
      ],
      "text/plain": [
       "     currentspeed  freeflowspeed  currenttraveltime  freeflowtraveltime  \\\n",
       "0              16             16                 83                  83   \n",
       "1              10             12                136                 113   \n",
       "2              10             18                139                  77   \n",
       "3              17             17                 29                  29   \n",
       "4              18             18                 17                  17   \n",
       "..            ...            ...                ...                 ...   \n",
       "160            13             22                153                  90   \n",
       "161            60             60                 28                  28   \n",
       "162            75             75                 97                  97   \n",
       "163            14             26                 67                  36   \n",
       "164            16             23                 78                  54   \n",
       "\n",
       "     confidence  roadclosure  \\\n",
       "0          1.00        False   \n",
       "1          0.72        False   \n",
       "2          0.70        False   \n",
       "3          1.00        False   \n",
       "4          1.00        False   \n",
       "..          ...          ...   \n",
       "160        0.99        False   \n",
       "161        1.00        False   \n",
       "162        1.00        False   \n",
       "163        1.00        False   \n",
       "164        1.00        False   \n",
       "\n",
       "                                           coordinates  relativespeed  FRC  \\\n",
       "0    LINESTRING (18.035570345361634 59.341354559504...       1.000000    6   \n",
       "1    LINESTRING (18.030286393601045 59.340611581406...       0.833333    5   \n",
       "2    LINESTRING (18.066489509788 59.34369878970523,...       0.555556    5   \n",
       "3    LINESTRING (18.043447993240193 59.343878503496...       1.000000    5   \n",
       "4    LINESTRING (18.060907832826672 59.345399301387...       1.000000    3   \n",
       "..                                                 ...            ...  ...   \n",
       "160  LINESTRING (18.038586489399563 59.342495815378...       0.590909    3   \n",
       "161  LINESTRING (18.056384287322032 59.351407464362...       1.000000    1   \n",
       "162  LINESTRING (18.010798803998824 59.341308954632...       1.000000    0   \n",
       "163  LINESTRING (18.063042871203066 59.345046598587...       0.538462    2   \n",
       "164  LINESTRING (18.0656607072022 59.33266416555818...       0.695652    3   \n",
       "\n",
       "     SEG  temperature_2m_max  temperature_2m_min  precipitation_sum  \\\n",
       "0     10               4.026               0.676                2.7   \n",
       "1      1               4.026               0.676                2.7   \n",
       "2    154               4.026               0.676                2.7   \n",
       "3     42               4.026               0.676                2.7   \n",
       "4    127               4.026               0.676                2.7   \n",
       "..   ...                 ...                 ...                ...   \n",
       "160   24               4.026               0.676                2.7   \n",
       "161   99               4.026               0.676                2.7   \n",
       "162    0               4.026               0.676                2.7   \n",
       "163  140               4.026               0.676                2.7   \n",
       "164  152               4.026               0.676                2.7   \n",
       "\n",
       "     wind_speed_10m_max  wind_direction_10m_dominant  holiday_status  heure  \n",
       "0                 31.68                   176.159103               0     11  \n",
       "1                 31.68                   176.159103               0     11  \n",
       "2                 31.68                   176.159103               0     11  \n",
       "3                 31.68                   176.159103               0     11  \n",
       "4                 31.68                   176.159103               0     11  \n",
       "..                  ...                          ...             ...    ...  \n",
       "160               31.68                   176.159103               0     11  \n",
       "161               31.68                   176.159103               0     11  \n",
       "162               31.68                   176.159103               0     11  \n",
       "163               31.68                   176.159103               0     11  \n",
       "164               31.68                   176.159103               0     11  \n",
       "\n",
       "[165 rows x 17 columns]"
      ]
     },
     "execution_count": 93,
     "metadata": {},
     "output_type": "execute_result"
    }
   ],
   "source": [
    "merged_df"
   ]
  },
  {
   "cell_type": "code",
   "execution_count": 94,
   "metadata": {
    "execution": {
     "iopub.execute_input": "2024-11-20T10:11:43.486010Z",
     "iopub.status.busy": "2024-11-20T10:11:43.485595Z",
     "iopub.status.idle": "2024-11-20T10:11:43.504653Z",
     "shell.execute_reply": "2024-11-20T10:11:43.504075Z"
    }
   },
   "outputs": [],
   "source": [
    "merged_df['predicted_rs'] = trafic_pred_xgboost.predict(merged_df.loc[:, merged_df.columns != 'coordinates'])"
   ]
  },
  {
   "cell_type": "code",
   "execution_count": 95,
   "metadata": {},
   "outputs": [],
   "source": [
    "batch_df = merged_df[['SEG','coordinates','predicted_rs','relativespeed']]"
   ]
  },
  {
   "cell_type": "code",
   "execution_count": 96,
   "metadata": {},
   "outputs": [
    {
     "data": {
      "text/html": [
       "<div>\n",
       "<style scoped>\n",
       "    .dataframe tbody tr th:only-of-type {\n",
       "        vertical-align: middle;\n",
       "    }\n",
       "\n",
       "    .dataframe tbody tr th {\n",
       "        vertical-align: top;\n",
       "    }\n",
       "\n",
       "    .dataframe thead th {\n",
       "        text-align: right;\n",
       "    }\n",
       "</style>\n",
       "<table border=\"1\" class=\"dataframe\">\n",
       "  <thead>\n",
       "    <tr style=\"text-align: right;\">\n",
       "      <th></th>\n",
       "      <th>SEG</th>\n",
       "      <th>coordinates</th>\n",
       "      <th>predicted_rs</th>\n",
       "      <th>relativespeed</th>\n",
       "    </tr>\n",
       "  </thead>\n",
       "  <tbody>\n",
       "    <tr>\n",
       "      <th>0</th>\n",
       "      <td>10</td>\n",
       "      <td>LINESTRING (18.035570345361634 59.341354559504...</td>\n",
       "      <td>0.923090</td>\n",
       "      <td>1.000000</td>\n",
       "    </tr>\n",
       "    <tr>\n",
       "      <th>1</th>\n",
       "      <td>1</td>\n",
       "      <td>LINESTRING (18.030286393601045 59.340611581406...</td>\n",
       "      <td>0.876741</td>\n",
       "      <td>0.833333</td>\n",
       "    </tr>\n",
       "    <tr>\n",
       "      <th>2</th>\n",
       "      <td>154</td>\n",
       "      <td>LINESTRING (18.066489509788 59.34369878970523,...</td>\n",
       "      <td>0.710897</td>\n",
       "      <td>0.555556</td>\n",
       "    </tr>\n",
       "    <tr>\n",
       "      <th>3</th>\n",
       "      <td>42</td>\n",
       "      <td>LINESTRING (18.043447993240193 59.343878503496...</td>\n",
       "      <td>0.764532</td>\n",
       "      <td>1.000000</td>\n",
       "    </tr>\n",
       "    <tr>\n",
       "      <th>4</th>\n",
       "      <td>127</td>\n",
       "      <td>LINESTRING (18.060907832826672 59.345399301387...</td>\n",
       "      <td>0.778615</td>\n",
       "      <td>1.000000</td>\n",
       "    </tr>\n",
       "    <tr>\n",
       "      <th>...</th>\n",
       "      <td>...</td>\n",
       "      <td>...</td>\n",
       "      <td>...</td>\n",
       "      <td>...</td>\n",
       "    </tr>\n",
       "    <tr>\n",
       "      <th>160</th>\n",
       "      <td>24</td>\n",
       "      <td>LINESTRING (18.038586489399563 59.342495815378...</td>\n",
       "      <td>0.672489</td>\n",
       "      <td>0.590909</td>\n",
       "    </tr>\n",
       "    <tr>\n",
       "      <th>161</th>\n",
       "      <td>99</td>\n",
       "      <td>LINESTRING (18.056384287322032 59.351407464362...</td>\n",
       "      <td>0.941734</td>\n",
       "      <td>1.000000</td>\n",
       "    </tr>\n",
       "    <tr>\n",
       "      <th>162</th>\n",
       "      <td>0</td>\n",
       "      <td>LINESTRING (18.010798803998824 59.341308954632...</td>\n",
       "      <td>0.967534</td>\n",
       "      <td>1.000000</td>\n",
       "    </tr>\n",
       "    <tr>\n",
       "      <th>163</th>\n",
       "      <td>140</td>\n",
       "      <td>LINESTRING (18.063042871203066 59.345046598587...</td>\n",
       "      <td>0.629251</td>\n",
       "      <td>0.538462</td>\n",
       "    </tr>\n",
       "    <tr>\n",
       "      <th>164</th>\n",
       "      <td>152</td>\n",
       "      <td>LINESTRING (18.0656607072022 59.33266416555818...</td>\n",
       "      <td>0.666639</td>\n",
       "      <td>0.695652</td>\n",
       "    </tr>\n",
       "  </tbody>\n",
       "</table>\n",
       "<p>165 rows × 4 columns</p>\n",
       "</div>"
      ],
      "text/plain": [
       "     SEG                                        coordinates  predicted_rs  \\\n",
       "0     10  LINESTRING (18.035570345361634 59.341354559504...      0.923090   \n",
       "1      1  LINESTRING (18.030286393601045 59.340611581406...      0.876741   \n",
       "2    154  LINESTRING (18.066489509788 59.34369878970523,...      0.710897   \n",
       "3     42  LINESTRING (18.043447993240193 59.343878503496...      0.764532   \n",
       "4    127  LINESTRING (18.060907832826672 59.345399301387...      0.778615   \n",
       "..   ...                                                ...           ...   \n",
       "160   24  LINESTRING (18.038586489399563 59.342495815378...      0.672489   \n",
       "161   99  LINESTRING (18.056384287322032 59.351407464362...      0.941734   \n",
       "162    0  LINESTRING (18.010798803998824 59.341308954632...      0.967534   \n",
       "163  140  LINESTRING (18.063042871203066 59.345046598587...      0.629251   \n",
       "164  152  LINESTRING (18.0656607072022 59.33266416555818...      0.666639   \n",
       "\n",
       "     relativespeed  \n",
       "0         1.000000  \n",
       "1         0.833333  \n",
       "2         0.555556  \n",
       "3         1.000000  \n",
       "4         1.000000  \n",
       "..             ...  \n",
       "160       0.590909  \n",
       "161       1.000000  \n",
       "162       1.000000  \n",
       "163       0.538462  \n",
       "164       0.695652  \n",
       "\n",
       "[165 rows x 4 columns]"
      ]
     },
     "execution_count": 96,
     "metadata": {},
     "output_type": "execute_result"
    }
   ],
   "source": [
    "batch_df"
   ]
  },
  {
   "cell_type": "code",
   "execution_count": 100,
   "metadata": {
    "execution": {
     "iopub.execute_input": "2024-11-20T10:11:44.381305Z",
     "iopub.status.busy": "2024-11-20T10:11:44.380834Z",
     "iopub.status.idle": "2024-11-20T10:11:49.859021Z",
     "shell.execute_reply": "2024-11-20T10:11:49.858383Z"
    }
   },
   "outputs": [],
   "source": [
    "# Get or create feature group\n",
    "monitor_fg = fs.get_or_create_feature_group(\n",
    "    name='rs_predictions',\n",
    "    description='Trafic prediction monitoring',\n",
    "    version=1,\n",
    "    primary_key=['SEG'],\n",
    ")"
   ]
  },
  {
   "cell_type": "code",
   "execution_count": 101,
   "metadata": {
    "execution": {
     "iopub.execute_input": "2024-11-20T10:11:44.381305Z",
     "iopub.status.busy": "2024-11-20T10:11:44.380834Z",
     "iopub.status.idle": "2024-11-20T10:11:49.859021Z",
     "shell.execute_reply": "2024-11-20T10:11:49.858383Z"
    }
   },
   "outputs": [
    {
     "name": "stdout",
     "output_type": "stream",
     "text": [
      "Feature Group created successfully, explore it at \n",
      "https://c.app.hopsworks.ai:443/p/1170582/fs/1161285/fg/1394717\n"
     ]
    },
    {
     "name": "stderr",
     "output_type": "stream",
     "text": [
      "Uploading Dataframe: 100.00% |██████████| Rows 165/165 | Elapsed Time: 00:01 | Remaining Time: 00:00\n"
     ]
    },
    {
     "name": "stdout",
     "output_type": "stream",
     "text": [
      "Launching job: rs_predictions_1_offline_fg_materialization\n",
      "Job started successfully, you can follow the progress at \n",
      "https://c.app.hopsworks.ai:443/p/1170582/jobs/named/rs_predictions_1_offline_fg_materialization/executions\n"
     ]
    },
    {
     "data": {
      "text/plain": [
       "(Job('rs_predictions_1_offline_fg_materialization', 'SPARK'), None)"
      ]
     },
     "execution_count": 101,
     "metadata": {},
     "output_type": "execute_result"
    }
   ],
   "source": [
    "monitor_fg.insert(batch_df)"
   ]
  },
  {
   "cell_type": "code",
   "execution_count": null,
   "metadata": {},
   "outputs": [],
   "source": []
  }
 ],
 "metadata": {
  "kernelspec": {
   "display_name": "3.9.5",
   "language": "python",
   "name": "python3"
  },
  "language_info": {
   "codemirror_mode": {
    "name": "ipython",
    "version": 3
   },
   "file_extension": ".py",
   "mimetype": "text/x-python",
   "name": "python",
   "nbconvert_exporter": "python",
   "pygments_lexer": "ipython3",
   "version": "3.9.5"
  },
  "widgets": {
   "application/vnd.jupyter.widget-state+json": {
    "state": {
     "1219607920044d24beb0b0f267749f12": {
      "model_module": "@jupyter-widgets/controls",
      "model_module_version": "2.0.0",
      "model_name": "HBoxModel",
      "state": {
       "_dom_classes": [],
       "_model_module": "@jupyter-widgets/controls",
       "_model_module_version": "2.0.0",
       "_model_name": "HBoxModel",
       "_view_count": null,
       "_view_module": "@jupyter-widgets/controls",
       "_view_module_version": "2.0.0",
       "_view_name": "HBoxView",
       "box_style": "",
       "children": [
        "IPY_MODEL_a17d80b30b844cee96aceb87fedbe2d3",
        "IPY_MODEL_e4ec703a5ef4459ead9cee07ba1f61c1",
        "IPY_MODEL_1a88e799d2f94cff9c55723cd2f52fd7"
       ],
       "layout": "IPY_MODEL_b1094013e7b240bb909f82ed45019c56",
       "tabbable": null,
       "tooltip": null
      }
     },
     "1a88e799d2f94cff9c55723cd2f52fd7": {
      "model_module": "@jupyter-widgets/controls",
      "model_module_version": "2.0.0",
      "model_name": "HTMLModel",
      "state": {
       "_dom_classes": [],
       "_model_module": "@jupyter-widgets/controls",
       "_model_module_version": "2.0.0",
       "_model_name": "HTMLModel",
       "_view_count": null,
       "_view_module": "@jupyter-widgets/controls",
       "_view_module_version": "2.0.0",
       "_view_name": "HTMLView",
       "description": "",
       "description_allow_html": false,
       "layout": "IPY_MODEL_305c9cfaa46d4072aec2862a7b222c28",
       "placeholder": "​",
       "style": "IPY_MODEL_1c566984924547b2bc27688b9cccb0d0",
       "tabbable": null,
       "tooltip": null,
       "value": " Rows 7/7 | Elapsed Time: 00:05 | Remaining Time: 00:00"
      }
     },
     "1c566984924547b2bc27688b9cccb0d0": {
      "model_module": "@jupyter-widgets/controls",
      "model_module_version": "2.0.0",
      "model_name": "HTMLStyleModel",
      "state": {
       "_model_module": "@jupyter-widgets/controls",
       "_model_module_version": "2.0.0",
       "_model_name": "HTMLStyleModel",
       "_view_count": null,
       "_view_module": "@jupyter-widgets/base",
       "_view_module_version": "2.0.0",
       "_view_name": "StyleView",
       "background": null,
       "description_width": "",
       "font_size": null,
       "text_color": null
      }
     },
     "305c9cfaa46d4072aec2862a7b222c28": {
      "model_module": "@jupyter-widgets/base",
      "model_module_version": "2.0.0",
      "model_name": "LayoutModel",
      "state": {
       "_model_module": "@jupyter-widgets/base",
       "_model_module_version": "2.0.0",
       "_model_name": "LayoutModel",
       "_view_count": null,
       "_view_module": "@jupyter-widgets/base",
       "_view_module_version": "2.0.0",
       "_view_name": "LayoutView",
       "align_content": null,
       "align_items": null,
       "align_self": null,
       "border_bottom": null,
       "border_left": null,
       "border_right": null,
       "border_top": null,
       "bottom": null,
       "display": null,
       "flex": null,
       "flex_flow": null,
       "grid_area": null,
       "grid_auto_columns": null,
       "grid_auto_flow": null,
       "grid_auto_rows": null,
       "grid_column": null,
       "grid_gap": null,
       "grid_row": null,
       "grid_template_areas": null,
       "grid_template_columns": null,
       "grid_template_rows": null,
       "height": null,
       "justify_content": null,
       "justify_items": null,
       "left": null,
       "margin": null,
       "max_height": null,
       "max_width": null,
       "min_height": null,
       "min_width": null,
       "object_fit": null,
       "object_position": null,
       "order": null,
       "overflow": null,
       "padding": null,
       "right": null,
       "top": null,
       "visibility": null,
       "width": null
      }
     },
     "453ae4486302438fb1419998a90023e5": {
      "model_module": "@jupyter-widgets/base",
      "model_module_version": "2.0.0",
      "model_name": "LayoutModel",
      "state": {
       "_model_module": "@jupyter-widgets/base",
       "_model_module_version": "2.0.0",
       "_model_name": "LayoutModel",
       "_view_count": null,
       "_view_module": "@jupyter-widgets/base",
       "_view_module_version": "2.0.0",
       "_view_name": "LayoutView",
       "align_content": null,
       "align_items": null,
       "align_self": null,
       "border_bottom": null,
       "border_left": null,
       "border_right": null,
       "border_top": null,
       "bottom": null,
       "display": null,
       "flex": null,
       "flex_flow": null,
       "grid_area": null,
       "grid_auto_columns": null,
       "grid_auto_flow": null,
       "grid_auto_rows": null,
       "grid_column": null,
       "grid_gap": null,
       "grid_row": null,
       "grid_template_areas": null,
       "grid_template_columns": null,
       "grid_template_rows": null,
       "height": null,
       "justify_content": null,
       "justify_items": null,
       "left": null,
       "margin": null,
       "max_height": null,
       "max_width": null,
       "min_height": null,
       "min_width": null,
       "object_fit": null,
       "object_position": null,
       "order": null,
       "overflow": null,
       "padding": null,
       "right": null,
       "top": null,
       "visibility": null,
       "width": null
      }
     },
     "5073ce83de3c4dfa979e4193d326cbef": {
      "model_module": "@jupyter-widgets/controls",
      "model_module_version": "2.0.0",
      "model_name": "HTMLStyleModel",
      "state": {
       "_model_module": "@jupyter-widgets/controls",
       "_model_module_version": "2.0.0",
       "_model_name": "HTMLStyleModel",
       "_view_count": null,
       "_view_module": "@jupyter-widgets/base",
       "_view_module_version": "2.0.0",
       "_view_name": "StyleView",
       "background": null,
       "description_width": "",
       "font_size": null,
       "text_color": null
      }
     },
     "889afec0260b4fdf886fd92d97027a35": {
      "model_module": "@jupyter-widgets/controls",
      "model_module_version": "2.0.0",
      "model_name": "ProgressStyleModel",
      "state": {
       "_model_module": "@jupyter-widgets/controls",
       "_model_module_version": "2.0.0",
       "_model_name": "ProgressStyleModel",
       "_view_count": null,
       "_view_module": "@jupyter-widgets/base",
       "_view_module_version": "2.0.0",
       "_view_name": "StyleView",
       "bar_color": null,
       "description_width": ""
      }
     },
     "9a3abea6996a4e3cbec9f685d31094b3": {
      "model_module": "@jupyter-widgets/base",
      "model_module_version": "2.0.0",
      "model_name": "LayoutModel",
      "state": {
       "_model_module": "@jupyter-widgets/base",
       "_model_module_version": "2.0.0",
       "_model_name": "LayoutModel",
       "_view_count": null,
       "_view_module": "@jupyter-widgets/base",
       "_view_module_version": "2.0.0",
       "_view_name": "LayoutView",
       "align_content": null,
       "align_items": null,
       "align_self": null,
       "border_bottom": null,
       "border_left": null,
       "border_right": null,
       "border_top": null,
       "bottom": null,
       "display": null,
       "flex": null,
       "flex_flow": null,
       "grid_area": null,
       "grid_auto_columns": null,
       "grid_auto_flow": null,
       "grid_auto_rows": null,
       "grid_column": null,
       "grid_gap": null,
       "grid_row": null,
       "grid_template_areas": null,
       "grid_template_columns": null,
       "grid_template_rows": null,
       "height": null,
       "justify_content": null,
       "justify_items": null,
       "left": null,
       "margin": null,
       "max_height": null,
       "max_width": null,
       "min_height": null,
       "min_width": null,
       "object_fit": null,
       "object_position": null,
       "order": null,
       "overflow": null,
       "padding": null,
       "right": null,
       "top": null,
       "visibility": null,
       "width": null
      }
     },
     "a17d80b30b844cee96aceb87fedbe2d3": {
      "model_module": "@jupyter-widgets/controls",
      "model_module_version": "2.0.0",
      "model_name": "HTMLModel",
      "state": {
       "_dom_classes": [],
       "_model_module": "@jupyter-widgets/controls",
       "_model_module_version": "2.0.0",
       "_model_name": "HTMLModel",
       "_view_count": null,
       "_view_module": "@jupyter-widgets/controls",
       "_view_module_version": "2.0.0",
       "_view_name": "HTMLView",
       "description": "",
       "description_allow_html": false,
       "layout": "IPY_MODEL_9a3abea6996a4e3cbec9f685d31094b3",
       "placeholder": "​",
       "style": "IPY_MODEL_5073ce83de3c4dfa979e4193d326cbef",
       "tabbable": null,
       "tooltip": null,
       "value": "Uploading Dataframe: 100.00% "
      }
     },
     "b1094013e7b240bb909f82ed45019c56": {
      "model_module": "@jupyter-widgets/base",
      "model_module_version": "2.0.0",
      "model_name": "LayoutModel",
      "state": {
       "_model_module": "@jupyter-widgets/base",
       "_model_module_version": "2.0.0",
       "_model_name": "LayoutModel",
       "_view_count": null,
       "_view_module": "@jupyter-widgets/base",
       "_view_module_version": "2.0.0",
       "_view_name": "LayoutView",
       "align_content": null,
       "align_items": null,
       "align_self": null,
       "border_bottom": null,
       "border_left": null,
       "border_right": null,
       "border_top": null,
       "bottom": null,
       "display": null,
       "flex": null,
       "flex_flow": null,
       "grid_area": null,
       "grid_auto_columns": null,
       "grid_auto_flow": null,
       "grid_auto_rows": null,
       "grid_column": null,
       "grid_gap": null,
       "grid_row": null,
       "grid_template_areas": null,
       "grid_template_columns": null,
       "grid_template_rows": null,
       "height": null,
       "justify_content": null,
       "justify_items": null,
       "left": null,
       "margin": null,
       "max_height": null,
       "max_width": null,
       "min_height": null,
       "min_width": null,
       "object_fit": null,
       "object_position": null,
       "order": null,
       "overflow": null,
       "padding": null,
       "right": null,
       "top": null,
       "visibility": null,
       "width": null
      }
     },
     "e4ec703a5ef4459ead9cee07ba1f61c1": {
      "model_module": "@jupyter-widgets/controls",
      "model_module_version": "2.0.0",
      "model_name": "FloatProgressModel",
      "state": {
       "_dom_classes": [],
       "_model_module": "@jupyter-widgets/controls",
       "_model_module_version": "2.0.0",
       "_model_name": "FloatProgressModel",
       "_view_count": null,
       "_view_module": "@jupyter-widgets/controls",
       "_view_module_version": "2.0.0",
       "_view_name": "ProgressView",
       "bar_style": "success",
       "description": "",
       "description_allow_html": false,
       "layout": "IPY_MODEL_453ae4486302438fb1419998a90023e5",
       "max": 7,
       "min": 0,
       "orientation": "horizontal",
       "style": "IPY_MODEL_889afec0260b4fdf886fd92d97027a35",
       "tabbable": null,
       "tooltip": null,
       "value": 7
      }
     }
    },
    "version_major": 2,
    "version_minor": 0
   }
  }
 },
 "nbformat": 4,
 "nbformat_minor": 2
}

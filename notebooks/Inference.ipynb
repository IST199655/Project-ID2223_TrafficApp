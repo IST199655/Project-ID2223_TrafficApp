{
 "cells": [
  {
   "cell_type": "markdown",
   "metadata": {},
   "source": [
    "### 0. Imports and Variable Setup"
   ]
  },
  {
   "cell_type": "code",
   "execution_count": 25,
   "metadata": {
    "execution": {
     "iopub.execute_input": "2024-11-20T10:11:34.576249Z",
     "iopub.status.busy": "2024-11-20T10:11:34.576018Z",
     "iopub.status.idle": "2024-11-20T10:11:37.842623Z",
     "shell.execute_reply": "2024-11-20T10:11:37.841804Z"
    }
   },
   "outputs": [],
   "source": [
    "\n",
    "import os\n",
    "import warnings\n",
    "import hopsworks\n",
    "import matplotlib.pyplot as plt\n",
    "import datetime\n",
    "import pandas as pd\n",
    "from joblib import dump, load\n",
    "from sklearn.preprocessing import LabelEncoder\n",
    "from sklearn.model_selection import train_test_split\n",
    "from sklearn.tree import DecisionTreeRegressor  # For regression tasks\n",
    "from sklearn.metrics import mean_squared_error, accuracy_score, r2_score\n"
   ]
  },
  {
   "cell_type": "code",
   "execution_count": 26,
   "metadata": {
    "execution": {
     "iopub.execute_input": "2024-11-20T10:11:37.845302Z",
     "iopub.status.busy": "2024-11-20T10:11:37.844918Z",
     "iopub.status.idle": "2024-11-20T10:11:37.848371Z",
     "shell.execute_reply": "2024-11-20T10:11:37.847686Z"
    }
   },
   "outputs": [],
   "source": [
    "\n",
    "# Get the API key from GitHub Secrets\n",
    "HOPSWORKS_API_KEY = os.getenv('HOPSWORKS_API_KEY')\n",
    "\n",
    "#with open('hopsworks-api-key.txt', 'r') as file:\n",
    "#    os.environ[\"HOPSWORKS_API_KEY\"] = file.read().rstrip()"
   ]
  },
  {
   "cell_type": "code",
   "execution_count": 27,
   "metadata": {
    "execution": {
     "iopub.execute_input": "2024-11-20T10:11:37.850789Z",
     "iopub.status.busy": "2024-11-20T10:11:37.850386Z",
     "iopub.status.idle": "2024-11-20T10:11:38.632624Z",
     "shell.execute_reply": "2024-11-20T10:11:38.631918Z"
    }
   },
   "outputs": [
    {
     "name": "stdout",
     "output_type": "stream",
     "text": [
      "2025-01-03 18:47:01,510 INFO: Closing external client and cleaning up certificates.\n",
      "Connection closed.\n",
      "2025-01-03 18:47:01,518 INFO: Initializing external client\n",
      "2025-01-03 18:47:01,520 INFO: Base URL: https://c.app.hopsworks.ai:443\n",
      "2025-01-03 18:47:02,629 INFO: Python Engine initialized.\n",
      "\n",
      "Logged in to project, explore it here https://c.app.hopsworks.ai:443/p/1170582\n"
     ]
    }
   ],
   "source": [
    "# Connect to Hopsworks Project and Features Store\n",
    "project = hopsworks.login(project=\"ScalableMLandDeepLcourse\")\n",
    "fs = project.get_feature_store()"
   ]
  },
  {
   "cell_type": "code",
   "execution_count": 28,
   "metadata": {
    "execution": {
     "iopub.execute_input": "2024-11-20T10:11:38.634919Z",
     "iopub.status.busy": "2024-11-20T10:11:38.634696Z",
     "iopub.status.idle": "2024-11-20T10:11:38.638561Z",
     "shell.execute_reply": "2024-11-20T10:11:38.637964Z"
    }
   },
   "outputs": [],
   "source": [
    "# Creating a directory for the model artifacts if it doesn't exist\n",
    "model_dir = \"trafic_pred_model\"\n",
    "if not os.path.exists(model_dir):\n",
    "    os.mkdir(model_dir)\n",
    "images_dir = model_dir + \"/images\"\n",
    "if not os.path.exists(images_dir):\n",
    "    os.mkdir(images_dir)"
   ]
  },
  {
   "cell_type": "markdown",
   "metadata": {},
   "source": [
    "## 4. Batch Inference"
   ]
  },
  {
   "cell_type": "code",
   "execution_count": 29,
   "metadata": {
    "execution": {
     "iopub.execute_input": "2024-11-20T10:11:39.899312Z",
     "iopub.status.busy": "2024-11-20T10:11:39.898908Z",
     "iopub.status.idle": "2024-11-20T10:11:41.757368Z",
     "shell.execute_reply": "2024-11-20T10:11:41.756635Z"
    }
   },
   "outputs": [
    {
     "name": "stdout",
     "output_type": "stream",
     "text": [
      "Downloading model artifact (1 dirs, 2 files)... DONE\r"
     ]
    }
   ],
   "source": [
    "mr = project.get_model_registry()\n",
    "\n",
    "retrieved_model = mr.get_model(\n",
    "    name=\"trafic_pred_xgboost\",\n",
    "    version=1,\n",
    ")\n",
    "\n",
    "# Download the saved model artifacts to a local directory\n",
    "saved_model_dir = retrieved_model.download()"
   ]
  },
  {
   "cell_type": "code",
   "execution_count": 31,
   "metadata": {
    "execution": {
     "iopub.execute_input": "2024-11-20T10:11:41.759461Z",
     "iopub.status.busy": "2024-11-20T10:11:41.759250Z",
     "iopub.status.idle": "2024-11-20T10:11:41.898785Z",
     "shell.execute_reply": "2024-11-20T10:11:41.898034Z"
    }
   },
   "outputs": [],
   "source": [
    "# Assuming the downloaded directory contains 'model.pkl'\n",
    "model_file_path = os.path.join(saved_model_dir, \"xgboost_model.joblib\")\n",
    "\n",
    "# Load the model\n",
    "trafic_pred_xgboost = load(model_file_path)"
   ]
  },
  {
   "cell_type": "code",
   "execution_count": 32,
   "metadata": {},
   "outputs": [
    {
     "data": {
      "text/plain": [
       "datetime.datetime(2025, 1, 3, 15, 0)"
      ]
     },
     "execution_count": 32,
     "metadata": {},
     "output_type": "execute_result"
    }
   ],
   "source": [
    "today = datetime.datetime.now() - datetime.timedelta(0)\n",
    "today = today.replace(minute=0, second=0, microsecond=0)\n",
    "today = today - datetime.timedelta(hours = 3)\n",
    "today"
   ]
  },
  {
   "cell_type": "code",
   "execution_count": 33,
   "metadata": {
    "execution": {
     "iopub.execute_input": "2024-11-20T10:11:41.901076Z",
     "iopub.status.busy": "2024-11-20T10:11:41.900846Z",
     "iopub.status.idle": "2024-11-20T10:11:43.483708Z",
     "shell.execute_reply": "2024-11-20T10:11:43.483096Z"
    }
   },
   "outputs": [
    {
     "name": "stdout",
     "output_type": "stream",
     "text": [
      "Finished: Reading data from Hopsworks, using Hopsworks Feature Query Service (1.20s) \n",
      "Finished: Reading data from Hopsworks, using Hopsworks Feature Query Service (0.52s) \n"
     ]
    }
   ],
   "source": [
    "trafic_fg = fs.get_feature_group(name='stockholm_traffic',version=1,)\n",
    "weather_fg = fs.get_feature_group(name=\"stockholm_weather_holiday\", version=1)\n",
    "\n",
    "trafic_df = trafic_fg.filter(trafic_fg.date == today).read()\n",
    "weather_df = weather_fg.filter(weather_fg.date == today).read()\n"
   ]
  },
  {
   "cell_type": "code",
   "execution_count": 34,
   "metadata": {},
   "outputs": [],
   "source": [
    "\n",
    "# Label Encoding\n",
    "label_encoder_FRC = LabelEncoder()\n",
    "\n",
    "trafic_df[\"FRC\"] = label_encoder_FRC.fit_transform(trafic_df[\"frc\"])\n",
    "\n",
    "\n",
    "# Supprimer l'ancienne colonne frc\n",
    "trafic_df = trafic_df.drop(columns=[\"frc\"])"
   ]
  },
  {
   "cell_type": "code",
   "execution_count": 35,
   "metadata": {},
   "outputs": [],
   "source": [
    "# Label Encoding\n",
    "label_encoder_coor = LabelEncoder()\n",
    "\n",
    "trafic_df[\"SEG\"] = label_encoder_coor.fit_transform(trafic_df[\"coordinates\"])"
   ]
  },
  {
   "cell_type": "code",
   "execution_count": 36,
   "metadata": {},
   "outputs": [],
   "source": [
    "merged_df = pd.merge(trafic_df, weather_df, on=\"date\", how=\"inner\")"
   ]
  },
  {
   "cell_type": "code",
   "execution_count": 37,
   "metadata": {},
   "outputs": [],
   "source": [
    "merged_df['heure'] = pd.to_datetime(merged_df['date']).dt.hour"
   ]
  },
  {
   "cell_type": "code",
   "execution_count": 38,
   "metadata": {},
   "outputs": [],
   "source": [
    "merged_df = merged_df.drop(columns=[\"date\"],axis=1)"
   ]
  },
  {
   "cell_type": "code",
   "execution_count": 39,
   "metadata": {},
   "outputs": [
    {
     "data": {
      "text/html": [
       "<div>\n",
       "<style scoped>\n",
       "    .dataframe tbody tr th:only-of-type {\n",
       "        vertical-align: middle;\n",
       "    }\n",
       "\n",
       "    .dataframe tbody tr th {\n",
       "        vertical-align: top;\n",
       "    }\n",
       "\n",
       "    .dataframe thead th {\n",
       "        text-align: right;\n",
       "    }\n",
       "</style>\n",
       "<table border=\"1\" class=\"dataframe\">\n",
       "  <thead>\n",
       "    <tr style=\"text-align: right;\">\n",
       "      <th></th>\n",
       "      <th>currentspeed</th>\n",
       "      <th>freeflowspeed</th>\n",
       "      <th>currenttraveltime</th>\n",
       "      <th>freeflowtraveltime</th>\n",
       "      <th>confidence</th>\n",
       "      <th>roadclosure</th>\n",
       "      <th>coordinates</th>\n",
       "      <th>relativespeed</th>\n",
       "      <th>FRC</th>\n",
       "      <th>SEG</th>\n",
       "      <th>temperature_2m_max</th>\n",
       "      <th>temperature_2m_min</th>\n",
       "      <th>precipitation_sum</th>\n",
       "      <th>wind_speed_10m_max</th>\n",
       "      <th>wind_direction_10m_dominant</th>\n",
       "      <th>holiday_status</th>\n",
       "      <th>heure</th>\n",
       "    </tr>\n",
       "  </thead>\n",
       "  <tbody>\n",
       "    <tr>\n",
       "      <th>0</th>\n",
       "      <td>72</td>\n",
       "      <td>72</td>\n",
       "      <td>31</td>\n",
       "      <td>31</td>\n",
       "      <td>1.00</td>\n",
       "      <td>False</td>\n",
       "      <td>LINESTRING (18.03548585577761 59.3491852516705...</td>\n",
       "      <td>1.000000</td>\n",
       "      <td>0</td>\n",
       "      <td>9</td>\n",
       "      <td>-4.724</td>\n",
       "      <td>-9.874</td>\n",
       "      <td>0.0</td>\n",
       "      <td>20.16</td>\n",
       "      <td>299.500122</td>\n",
       "      <td>0</td>\n",
       "      <td>16</td>\n",
       "    </tr>\n",
       "    <tr>\n",
       "      <th>1</th>\n",
       "      <td>12</td>\n",
       "      <td>12</td>\n",
       "      <td>86</td>\n",
       "      <td>86</td>\n",
       "      <td>1.00</td>\n",
       "      <td>False</td>\n",
       "      <td>LINESTRING (18.05543076201704 59.3469348599300...</td>\n",
       "      <td>1.000000</td>\n",
       "      <td>6</td>\n",
       "      <td>89</td>\n",
       "      <td>-4.724</td>\n",
       "      <td>-9.874</td>\n",
       "      <td>0.0</td>\n",
       "      <td>20.16</td>\n",
       "      <td>299.500122</td>\n",
       "      <td>0</td>\n",
       "      <td>16</td>\n",
       "    </tr>\n",
       "    <tr>\n",
       "      <th>2</th>\n",
       "      <td>22</td>\n",
       "      <td>27</td>\n",
       "      <td>88</td>\n",
       "      <td>72</td>\n",
       "      <td>1.00</td>\n",
       "      <td>False</td>\n",
       "      <td>LINESTRING (18.045435510120683 59.336678095802...</td>\n",
       "      <td>0.814815</td>\n",
       "      <td>3</td>\n",
       "      <td>48</td>\n",
       "      <td>-4.724</td>\n",
       "      <td>-9.874</td>\n",
       "      <td>0.0</td>\n",
       "      <td>20.16</td>\n",
       "      <td>299.500122</td>\n",
       "      <td>0</td>\n",
       "      <td>16</td>\n",
       "    </tr>\n",
       "    <tr>\n",
       "      <th>3</th>\n",
       "      <td>25</td>\n",
       "      <td>37</td>\n",
       "      <td>46</td>\n",
       "      <td>31</td>\n",
       "      <td>1.00</td>\n",
       "      <td>False</td>\n",
       "      <td>LINESTRING (18.0666464190154 59.34681285368509...</td>\n",
       "      <td>0.675676</td>\n",
       "      <td>1</td>\n",
       "      <td>157</td>\n",
       "      <td>-4.724</td>\n",
       "      <td>-9.874</td>\n",
       "      <td>0.0</td>\n",
       "      <td>20.16</td>\n",
       "      <td>299.500122</td>\n",
       "      <td>0</td>\n",
       "      <td>16</td>\n",
       "    </tr>\n",
       "    <tr>\n",
       "      <th>4</th>\n",
       "      <td>17</td>\n",
       "      <td>24</td>\n",
       "      <td>43</td>\n",
       "      <td>31</td>\n",
       "      <td>0.96</td>\n",
       "      <td>False</td>\n",
       "      <td>LINESTRING (18.06021984621421 59.3460940121944...</td>\n",
       "      <td>0.708333</td>\n",
       "      <td>5</td>\n",
       "      <td>123</td>\n",
       "      <td>-4.724</td>\n",
       "      <td>-9.874</td>\n",
       "      <td>0.0</td>\n",
       "      <td>20.16</td>\n",
       "      <td>299.500122</td>\n",
       "      <td>0</td>\n",
       "      <td>16</td>\n",
       "    </tr>\n",
       "    <tr>\n",
       "      <th>...</th>\n",
       "      <td>...</td>\n",
       "      <td>...</td>\n",
       "      <td>...</td>\n",
       "      <td>...</td>\n",
       "      <td>...</td>\n",
       "      <td>...</td>\n",
       "      <td>...</td>\n",
       "      <td>...</td>\n",
       "      <td>...</td>\n",
       "      <td>...</td>\n",
       "      <td>...</td>\n",
       "      <td>...</td>\n",
       "      <td>...</td>\n",
       "      <td>...</td>\n",
       "      <td>...</td>\n",
       "      <td>...</td>\n",
       "      <td>...</td>\n",
       "    </tr>\n",
       "    <tr>\n",
       "      <th>161</th>\n",
       "      <td>23</td>\n",
       "      <td>23</td>\n",
       "      <td>23</td>\n",
       "      <td>23</td>\n",
       "      <td>1.00</td>\n",
       "      <td>False</td>\n",
       "      <td>LINESTRING (18.057828656876865 59.344644274453...</td>\n",
       "      <td>1.000000</td>\n",
       "      <td>3</td>\n",
       "      <td>106</td>\n",
       "      <td>-4.724</td>\n",
       "      <td>-9.874</td>\n",
       "      <td>0.0</td>\n",
       "      <td>20.16</td>\n",
       "      <td>299.500122</td>\n",
       "      <td>0</td>\n",
       "      <td>16</td>\n",
       "    </tr>\n",
       "    <tr>\n",
       "      <th>162</th>\n",
       "      <td>21</td>\n",
       "      <td>34</td>\n",
       "      <td>25</td>\n",
       "      <td>15</td>\n",
       "      <td>1.00</td>\n",
       "      <td>False</td>\n",
       "      <td>LINESTRING (18.037363402088488 59.340838199356...</td>\n",
       "      <td>0.617647</td>\n",
       "      <td>2</td>\n",
       "      <td>17</td>\n",
       "      <td>-4.724</td>\n",
       "      <td>-9.874</td>\n",
       "      <td>0.0</td>\n",
       "      <td>20.16</td>\n",
       "      <td>299.500122</td>\n",
       "      <td>0</td>\n",
       "      <td>16</td>\n",
       "    </tr>\n",
       "    <tr>\n",
       "      <th>163</th>\n",
       "      <td>23</td>\n",
       "      <td>23</td>\n",
       "      <td>30</td>\n",
       "      <td>30</td>\n",
       "      <td>1.00</td>\n",
       "      <td>False</td>\n",
       "      <td>LINESTRING (18.055611811125573 59.338421532941...</td>\n",
       "      <td>1.000000</td>\n",
       "      <td>5</td>\n",
       "      <td>93</td>\n",
       "      <td>-4.724</td>\n",
       "      <td>-9.874</td>\n",
       "      <td>0.0</td>\n",
       "      <td>20.16</td>\n",
       "      <td>299.500122</td>\n",
       "      <td>0</td>\n",
       "      <td>16</td>\n",
       "    </tr>\n",
       "    <tr>\n",
       "      <th>164</th>\n",
       "      <td>15</td>\n",
       "      <td>19</td>\n",
       "      <td>273</td>\n",
       "      <td>216</td>\n",
       "      <td>1.00</td>\n",
       "      <td>False</td>\n",
       "      <td>LINESTRING (18.077163360565237 59.332712475417...</td>\n",
       "      <td>0.789474</td>\n",
       "      <td>2</td>\n",
       "      <td>165</td>\n",
       "      <td>-4.724</td>\n",
       "      <td>-9.874</td>\n",
       "      <td>0.0</td>\n",
       "      <td>20.16</td>\n",
       "      <td>299.500122</td>\n",
       "      <td>0</td>\n",
       "      <td>16</td>\n",
       "    </tr>\n",
       "    <tr>\n",
       "      <th>165</th>\n",
       "      <td>45</td>\n",
       "      <td>45</td>\n",
       "      <td>131</td>\n",
       "      <td>131</td>\n",
       "      <td>1.00</td>\n",
       "      <td>False</td>\n",
       "      <td>LINESTRING (18.055381141150207 59.351231764189...</td>\n",
       "      <td>1.000000</td>\n",
       "      <td>1</td>\n",
       "      <td>87</td>\n",
       "      <td>-4.724</td>\n",
       "      <td>-9.874</td>\n",
       "      <td>0.0</td>\n",
       "      <td>20.16</td>\n",
       "      <td>299.500122</td>\n",
       "      <td>0</td>\n",
       "      <td>16</td>\n",
       "    </tr>\n",
       "  </tbody>\n",
       "</table>\n",
       "<p>166 rows × 17 columns</p>\n",
       "</div>"
      ],
      "text/plain": [
       "     currentspeed  freeflowspeed  currenttraveltime  freeflowtraveltime  \\\n",
       "0              72             72                 31                  31   \n",
       "1              12             12                 86                  86   \n",
       "2              22             27                 88                  72   \n",
       "3              25             37                 46                  31   \n",
       "4              17             24                 43                  31   \n",
       "..            ...            ...                ...                 ...   \n",
       "161            23             23                 23                  23   \n",
       "162            21             34                 25                  15   \n",
       "163            23             23                 30                  30   \n",
       "164            15             19                273                 216   \n",
       "165            45             45                131                 131   \n",
       "\n",
       "     confidence  roadclosure  \\\n",
       "0          1.00        False   \n",
       "1          1.00        False   \n",
       "2          1.00        False   \n",
       "3          1.00        False   \n",
       "4          0.96        False   \n",
       "..          ...          ...   \n",
       "161        1.00        False   \n",
       "162        1.00        False   \n",
       "163        1.00        False   \n",
       "164        1.00        False   \n",
       "165        1.00        False   \n",
       "\n",
       "                                           coordinates  relativespeed  FRC  \\\n",
       "0    LINESTRING (18.03548585577761 59.3491852516705...       1.000000    0   \n",
       "1    LINESTRING (18.05543076201704 59.3469348599300...       1.000000    6   \n",
       "2    LINESTRING (18.045435510120683 59.336678095802...       0.814815    3   \n",
       "3    LINESTRING (18.0666464190154 59.34681285368509...       0.675676    1   \n",
       "4    LINESTRING (18.06021984621421 59.3460940121944...       0.708333    5   \n",
       "..                                                 ...            ...  ...   \n",
       "161  LINESTRING (18.057828656876865 59.344644274453...       1.000000    3   \n",
       "162  LINESTRING (18.037363402088488 59.340838199356...       0.617647    2   \n",
       "163  LINESTRING (18.055611811125573 59.338421532941...       1.000000    5   \n",
       "164  LINESTRING (18.077163360565237 59.332712475417...       0.789474    2   \n",
       "165  LINESTRING (18.055381141150207 59.351231764189...       1.000000    1   \n",
       "\n",
       "     SEG  temperature_2m_max  temperature_2m_min  precipitation_sum  \\\n",
       "0      9              -4.724              -9.874                0.0   \n",
       "1     89              -4.724              -9.874                0.0   \n",
       "2     48              -4.724              -9.874                0.0   \n",
       "3    157              -4.724              -9.874                0.0   \n",
       "4    123              -4.724              -9.874                0.0   \n",
       "..   ...                 ...                 ...                ...   \n",
       "161  106              -4.724              -9.874                0.0   \n",
       "162   17              -4.724              -9.874                0.0   \n",
       "163   93              -4.724              -9.874                0.0   \n",
       "164  165              -4.724              -9.874                0.0   \n",
       "165   87              -4.724              -9.874                0.0   \n",
       "\n",
       "     wind_speed_10m_max  wind_direction_10m_dominant  holiday_status  heure  \n",
       "0                 20.16                   299.500122               0     16  \n",
       "1                 20.16                   299.500122               0     16  \n",
       "2                 20.16                   299.500122               0     16  \n",
       "3                 20.16                   299.500122               0     16  \n",
       "4                 20.16                   299.500122               0     16  \n",
       "..                  ...                          ...             ...    ...  \n",
       "161               20.16                   299.500122               0     16  \n",
       "162               20.16                   299.500122               0     16  \n",
       "163               20.16                   299.500122               0     16  \n",
       "164               20.16                   299.500122               0     16  \n",
       "165               20.16                   299.500122               0     16  \n",
       "\n",
       "[166 rows x 17 columns]"
      ]
     },
     "execution_count": 39,
     "metadata": {},
     "output_type": "execute_result"
    }
   ],
   "source": [
    "merged_df"
   ]
  },
  {
   "cell_type": "code",
   "execution_count": 40,
   "metadata": {
    "execution": {
     "iopub.execute_input": "2024-11-20T10:11:43.486010Z",
     "iopub.status.busy": "2024-11-20T10:11:43.485595Z",
     "iopub.status.idle": "2024-11-20T10:11:43.504653Z",
     "shell.execute_reply": "2024-11-20T10:11:43.504075Z"
    }
   },
   "outputs": [],
   "source": [
    "merged_df['predicted_rs'] = trafic_pred_xgboost.predict(merged_df.loc[:, merged_df.columns != 'coordinates'])"
   ]
  },
  {
   "cell_type": "code",
   "execution_count": 41,
   "metadata": {},
   "outputs": [],
   "source": [
    "batch_df = merged_df[['SEG','coordinates','predicted_rs']]"
   ]
  },
  {
   "cell_type": "code",
   "execution_count": 43,
   "metadata": {},
   "outputs": [
    {
     "data": {
      "text/html": [
       "<div>\n",
       "<style scoped>\n",
       "    .dataframe tbody tr th:only-of-type {\n",
       "        vertical-align: middle;\n",
       "    }\n",
       "\n",
       "    .dataframe tbody tr th {\n",
       "        vertical-align: top;\n",
       "    }\n",
       "\n",
       "    .dataframe thead th {\n",
       "        text-align: right;\n",
       "    }\n",
       "</style>\n",
       "<table border=\"1\" class=\"dataframe\">\n",
       "  <thead>\n",
       "    <tr style=\"text-align: right;\">\n",
       "      <th></th>\n",
       "      <th>SEG</th>\n",
       "      <th>coordinates</th>\n",
       "      <th>predicted_rs</th>\n",
       "    </tr>\n",
       "  </thead>\n",
       "  <tbody>\n",
       "    <tr>\n",
       "      <th>0</th>\n",
       "      <td>9</td>\n",
       "      <td>LINESTRING (18.03548585577761 59.3491852516705...</td>\n",
       "      <td>0.922732</td>\n",
       "    </tr>\n",
       "    <tr>\n",
       "      <th>1</th>\n",
       "      <td>89</td>\n",
       "      <td>LINESTRING (18.05543076201704 59.3469348599300...</td>\n",
       "      <td>0.844444</td>\n",
       "    </tr>\n",
       "    <tr>\n",
       "      <th>2</th>\n",
       "      <td>48</td>\n",
       "      <td>LINESTRING (18.045435510120683 59.336678095802...</td>\n",
       "      <td>0.784221</td>\n",
       "    </tr>\n",
       "    <tr>\n",
       "      <th>3</th>\n",
       "      <td>157</td>\n",
       "      <td>LINESTRING (18.0666464190154 59.34681285368509...</td>\n",
       "      <td>0.685033</td>\n",
       "    </tr>\n",
       "    <tr>\n",
       "      <th>4</th>\n",
       "      <td>123</td>\n",
       "      <td>LINESTRING (18.06021984621421 59.3460940121944...</td>\n",
       "      <td>0.610479</td>\n",
       "    </tr>\n",
       "    <tr>\n",
       "      <th>...</th>\n",
       "      <td>...</td>\n",
       "      <td>...</td>\n",
       "      <td>...</td>\n",
       "    </tr>\n",
       "    <tr>\n",
       "      <th>161</th>\n",
       "      <td>106</td>\n",
       "      <td>LINESTRING (18.057828656876865 59.344644274453...</td>\n",
       "      <td>0.742221</td>\n",
       "    </tr>\n",
       "    <tr>\n",
       "      <th>162</th>\n",
       "      <td>17</td>\n",
       "      <td>LINESTRING (18.037363402088488 59.340838199356...</td>\n",
       "      <td>0.601197</td>\n",
       "    </tr>\n",
       "    <tr>\n",
       "      <th>163</th>\n",
       "      <td>93</td>\n",
       "      <td>LINESTRING (18.055611811125573 59.338421532941...</td>\n",
       "      <td>0.719355</td>\n",
       "    </tr>\n",
       "    <tr>\n",
       "      <th>164</th>\n",
       "      <td>165</td>\n",
       "      <td>LINESTRING (18.077163360565237 59.332712475417...</td>\n",
       "      <td>0.790020</td>\n",
       "    </tr>\n",
       "    <tr>\n",
       "      <th>165</th>\n",
       "      <td>87</td>\n",
       "      <td>LINESTRING (18.055381141150207 59.351231764189...</td>\n",
       "      <td>0.857953</td>\n",
       "    </tr>\n",
       "  </tbody>\n",
       "</table>\n",
       "<p>166 rows × 3 columns</p>\n",
       "</div>"
      ],
      "text/plain": [
       "     SEG                                        coordinates  predicted_rs\n",
       "0      9  LINESTRING (18.03548585577761 59.3491852516705...      0.922732\n",
       "1     89  LINESTRING (18.05543076201704 59.3469348599300...      0.844444\n",
       "2     48  LINESTRING (18.045435510120683 59.336678095802...      0.784221\n",
       "3    157  LINESTRING (18.0666464190154 59.34681285368509...      0.685033\n",
       "4    123  LINESTRING (18.06021984621421 59.3460940121944...      0.610479\n",
       "..   ...                                                ...           ...\n",
       "161  106  LINESTRING (18.057828656876865 59.344644274453...      0.742221\n",
       "162   17  LINESTRING (18.037363402088488 59.340838199356...      0.601197\n",
       "163   93  LINESTRING (18.055611811125573 59.338421532941...      0.719355\n",
       "164  165  LINESTRING (18.077163360565237 59.332712475417...      0.790020\n",
       "165   87  LINESTRING (18.055381141150207 59.351231764189...      0.857953\n",
       "\n",
       "[166 rows x 3 columns]"
      ]
     },
     "execution_count": 43,
     "metadata": {},
     "output_type": "execute_result"
    }
   ],
   "source": [
    "batch_df"
   ]
  },
  {
   "cell_type": "code",
   "execution_count": 44,
   "metadata": {
    "execution": {
     "iopub.execute_input": "2024-11-20T10:11:44.381305Z",
     "iopub.status.busy": "2024-11-20T10:11:44.380834Z",
     "iopub.status.idle": "2024-11-20T10:11:49.859021Z",
     "shell.execute_reply": "2024-11-20T10:11:49.858383Z"
    }
   },
   "outputs": [],
   "source": [
    "# Get or create feature group\n",
    "monitor_fg = fs.get_or_create_feature_group(\n",
    "    name='rs_predictions',\n",
    "    description='Trafic prediction monitoring',\n",
    "    version=1,\n",
    "    primary_key=['SEG'],\n",
    ")"
   ]
  },
  {
   "cell_type": "code",
   "execution_count": 45,
   "metadata": {
    "execution": {
     "iopub.execute_input": "2024-11-20T10:11:44.381305Z",
     "iopub.status.busy": "2024-11-20T10:11:44.380834Z",
     "iopub.status.idle": "2024-11-20T10:11:49.859021Z",
     "shell.execute_reply": "2024-11-20T10:11:49.858383Z"
    }
   },
   "outputs": [
    {
     "name": "stdout",
     "output_type": "stream",
     "text": [
      "2025-01-03 18:49:30,610 WARNING: FeatureGroupWarning: The ingested dataframe contains upper case letters in feature names: `['SEG']`. Feature names are sanitized to lower case in the feature store.\n",
      "\n",
      "Feature Group created successfully, explore it at \n",
      "https://c.app.hopsworks.ai:443/p/1170582/fs/1161285/fg/1394512\n"
     ]
    },
    {
     "name": "stderr",
     "output_type": "stream",
     "text": [
      "Uploading Dataframe: 100.00% |██████████| Rows 166/166 | Elapsed Time: 00:01 | Remaining Time: 00:00\n"
     ]
    },
    {
     "name": "stdout",
     "output_type": "stream",
     "text": [
      "Launching job: rs_predictions_1_offline_fg_materialization\n",
      "Job started successfully, you can follow the progress at \n",
      "https://c.app.hopsworks.ai:443/p/1170582/jobs/named/rs_predictions_1_offline_fg_materialization/executions\n"
     ]
    },
    {
     "data": {
      "text/plain": [
       "(Job('rs_predictions_1_offline_fg_materialization', 'SPARK'), None)"
      ]
     },
     "execution_count": 45,
     "metadata": {},
     "output_type": "execute_result"
    }
   ],
   "source": [
    "monitor_fg.insert(batch_df)"
   ]
  },
  {
   "cell_type": "code",
   "execution_count": null,
   "metadata": {},
   "outputs": [],
   "source": []
  }
 ],
 "metadata": {
  "kernelspec": {
   "display_name": "3.9.5",
   "language": "python",
   "name": "python3"
  },
  "language_info": {
   "codemirror_mode": {
    "name": "ipython",
    "version": 3
   },
   "file_extension": ".py",
   "mimetype": "text/x-python",
   "name": "python",
   "nbconvert_exporter": "python",
   "pygments_lexer": "ipython3",
   "version": "3.9.5"
  },
  "widgets": {
   "application/vnd.jupyter.widget-state+json": {
    "state": {
     "1219607920044d24beb0b0f267749f12": {
      "model_module": "@jupyter-widgets/controls",
      "model_module_version": "2.0.0",
      "model_name": "HBoxModel",
      "state": {
       "_dom_classes": [],
       "_model_module": "@jupyter-widgets/controls",
       "_model_module_version": "2.0.0",
       "_model_name": "HBoxModel",
       "_view_count": null,
       "_view_module": "@jupyter-widgets/controls",
       "_view_module_version": "2.0.0",
       "_view_name": "HBoxView",
       "box_style": "",
       "children": [
        "IPY_MODEL_a17d80b30b844cee96aceb87fedbe2d3",
        "IPY_MODEL_e4ec703a5ef4459ead9cee07ba1f61c1",
        "IPY_MODEL_1a88e799d2f94cff9c55723cd2f52fd7"
       ],
       "layout": "IPY_MODEL_b1094013e7b240bb909f82ed45019c56",
       "tabbable": null,
       "tooltip": null
      }
     },
     "1a88e799d2f94cff9c55723cd2f52fd7": {
      "model_module": "@jupyter-widgets/controls",
      "model_module_version": "2.0.0",
      "model_name": "HTMLModel",
      "state": {
       "_dom_classes": [],
       "_model_module": "@jupyter-widgets/controls",
       "_model_module_version": "2.0.0",
       "_model_name": "HTMLModel",
       "_view_count": null,
       "_view_module": "@jupyter-widgets/controls",
       "_view_module_version": "2.0.0",
       "_view_name": "HTMLView",
       "description": "",
       "description_allow_html": false,
       "layout": "IPY_MODEL_305c9cfaa46d4072aec2862a7b222c28",
       "placeholder": "​",
       "style": "IPY_MODEL_1c566984924547b2bc27688b9cccb0d0",
       "tabbable": null,
       "tooltip": null,
       "value": " Rows 7/7 | Elapsed Time: 00:05 | Remaining Time: 00:00"
      }
     },
     "1c566984924547b2bc27688b9cccb0d0": {
      "model_module": "@jupyter-widgets/controls",
      "model_module_version": "2.0.0",
      "model_name": "HTMLStyleModel",
      "state": {
       "_model_module": "@jupyter-widgets/controls",
       "_model_module_version": "2.0.0",
       "_model_name": "HTMLStyleModel",
       "_view_count": null,
       "_view_module": "@jupyter-widgets/base",
       "_view_module_version": "2.0.0",
       "_view_name": "StyleView",
       "background": null,
       "description_width": "",
       "font_size": null,
       "text_color": null
      }
     },
     "305c9cfaa46d4072aec2862a7b222c28": {
      "model_module": "@jupyter-widgets/base",
      "model_module_version": "2.0.0",
      "model_name": "LayoutModel",
      "state": {
       "_model_module": "@jupyter-widgets/base",
       "_model_module_version": "2.0.0",
       "_model_name": "LayoutModel",
       "_view_count": null,
       "_view_module": "@jupyter-widgets/base",
       "_view_module_version": "2.0.0",
       "_view_name": "LayoutView",
       "align_content": null,
       "align_items": null,
       "align_self": null,
       "border_bottom": null,
       "border_left": null,
       "border_right": null,
       "border_top": null,
       "bottom": null,
       "display": null,
       "flex": null,
       "flex_flow": null,
       "grid_area": null,
       "grid_auto_columns": null,
       "grid_auto_flow": null,
       "grid_auto_rows": null,
       "grid_column": null,
       "grid_gap": null,
       "grid_row": null,
       "grid_template_areas": null,
       "grid_template_columns": null,
       "grid_template_rows": null,
       "height": null,
       "justify_content": null,
       "justify_items": null,
       "left": null,
       "margin": null,
       "max_height": null,
       "max_width": null,
       "min_height": null,
       "min_width": null,
       "object_fit": null,
       "object_position": null,
       "order": null,
       "overflow": null,
       "padding": null,
       "right": null,
       "top": null,
       "visibility": null,
       "width": null
      }
     },
     "453ae4486302438fb1419998a90023e5": {
      "model_module": "@jupyter-widgets/base",
      "model_module_version": "2.0.0",
      "model_name": "LayoutModel",
      "state": {
       "_model_module": "@jupyter-widgets/base",
       "_model_module_version": "2.0.0",
       "_model_name": "LayoutModel",
       "_view_count": null,
       "_view_module": "@jupyter-widgets/base",
       "_view_module_version": "2.0.0",
       "_view_name": "LayoutView",
       "align_content": null,
       "align_items": null,
       "align_self": null,
       "border_bottom": null,
       "border_left": null,
       "border_right": null,
       "border_top": null,
       "bottom": null,
       "display": null,
       "flex": null,
       "flex_flow": null,
       "grid_area": null,
       "grid_auto_columns": null,
       "grid_auto_flow": null,
       "grid_auto_rows": null,
       "grid_column": null,
       "grid_gap": null,
       "grid_row": null,
       "grid_template_areas": null,
       "grid_template_columns": null,
       "grid_template_rows": null,
       "height": null,
       "justify_content": null,
       "justify_items": null,
       "left": null,
       "margin": null,
       "max_height": null,
       "max_width": null,
       "min_height": null,
       "min_width": null,
       "object_fit": null,
       "object_position": null,
       "order": null,
       "overflow": null,
       "padding": null,
       "right": null,
       "top": null,
       "visibility": null,
       "width": null
      }
     },
     "5073ce83de3c4dfa979e4193d326cbef": {
      "model_module": "@jupyter-widgets/controls",
      "model_module_version": "2.0.0",
      "model_name": "HTMLStyleModel",
      "state": {
       "_model_module": "@jupyter-widgets/controls",
       "_model_module_version": "2.0.0",
       "_model_name": "HTMLStyleModel",
       "_view_count": null,
       "_view_module": "@jupyter-widgets/base",
       "_view_module_version": "2.0.0",
       "_view_name": "StyleView",
       "background": null,
       "description_width": "",
       "font_size": null,
       "text_color": null
      }
     },
     "889afec0260b4fdf886fd92d97027a35": {
      "model_module": "@jupyter-widgets/controls",
      "model_module_version": "2.0.0",
      "model_name": "ProgressStyleModel",
      "state": {
       "_model_module": "@jupyter-widgets/controls",
       "_model_module_version": "2.0.0",
       "_model_name": "ProgressStyleModel",
       "_view_count": null,
       "_view_module": "@jupyter-widgets/base",
       "_view_module_version": "2.0.0",
       "_view_name": "StyleView",
       "bar_color": null,
       "description_width": ""
      }
     },
     "9a3abea6996a4e3cbec9f685d31094b3": {
      "model_module": "@jupyter-widgets/base",
      "model_module_version": "2.0.0",
      "model_name": "LayoutModel",
      "state": {
       "_model_module": "@jupyter-widgets/base",
       "_model_module_version": "2.0.0",
       "_model_name": "LayoutModel",
       "_view_count": null,
       "_view_module": "@jupyter-widgets/base",
       "_view_module_version": "2.0.0",
       "_view_name": "LayoutView",
       "align_content": null,
       "align_items": null,
       "align_self": null,
       "border_bottom": null,
       "border_left": null,
       "border_right": null,
       "border_top": null,
       "bottom": null,
       "display": null,
       "flex": null,
       "flex_flow": null,
       "grid_area": null,
       "grid_auto_columns": null,
       "grid_auto_flow": null,
       "grid_auto_rows": null,
       "grid_column": null,
       "grid_gap": null,
       "grid_row": null,
       "grid_template_areas": null,
       "grid_template_columns": null,
       "grid_template_rows": null,
       "height": null,
       "justify_content": null,
       "justify_items": null,
       "left": null,
       "margin": null,
       "max_height": null,
       "max_width": null,
       "min_height": null,
       "min_width": null,
       "object_fit": null,
       "object_position": null,
       "order": null,
       "overflow": null,
       "padding": null,
       "right": null,
       "top": null,
       "visibility": null,
       "width": null
      }
     },
     "a17d80b30b844cee96aceb87fedbe2d3": {
      "model_module": "@jupyter-widgets/controls",
      "model_module_version": "2.0.0",
      "model_name": "HTMLModel",
      "state": {
       "_dom_classes": [],
       "_model_module": "@jupyter-widgets/controls",
       "_model_module_version": "2.0.0",
       "_model_name": "HTMLModel",
       "_view_count": null,
       "_view_module": "@jupyter-widgets/controls",
       "_view_module_version": "2.0.0",
       "_view_name": "HTMLView",
       "description": "",
       "description_allow_html": false,
       "layout": "IPY_MODEL_9a3abea6996a4e3cbec9f685d31094b3",
       "placeholder": "​",
       "style": "IPY_MODEL_5073ce83de3c4dfa979e4193d326cbef",
       "tabbable": null,
       "tooltip": null,
       "value": "Uploading Dataframe: 100.00% "
      }
     },
     "b1094013e7b240bb909f82ed45019c56": {
      "model_module": "@jupyter-widgets/base",
      "model_module_version": "2.0.0",
      "model_name": "LayoutModel",
      "state": {
       "_model_module": "@jupyter-widgets/base",
       "_model_module_version": "2.0.0",
       "_model_name": "LayoutModel",
       "_view_count": null,
       "_view_module": "@jupyter-widgets/base",
       "_view_module_version": "2.0.0",
       "_view_name": "LayoutView",
       "align_content": null,
       "align_items": null,
       "align_self": null,
       "border_bottom": null,
       "border_left": null,
       "border_right": null,
       "border_top": null,
       "bottom": null,
       "display": null,
       "flex": null,
       "flex_flow": null,
       "grid_area": null,
       "grid_auto_columns": null,
       "grid_auto_flow": null,
       "grid_auto_rows": null,
       "grid_column": null,
       "grid_gap": null,
       "grid_row": null,
       "grid_template_areas": null,
       "grid_template_columns": null,
       "grid_template_rows": null,
       "height": null,
       "justify_content": null,
       "justify_items": null,
       "left": null,
       "margin": null,
       "max_height": null,
       "max_width": null,
       "min_height": null,
       "min_width": null,
       "object_fit": null,
       "object_position": null,
       "order": null,
       "overflow": null,
       "padding": null,
       "right": null,
       "top": null,
       "visibility": null,
       "width": null
      }
     },
     "e4ec703a5ef4459ead9cee07ba1f61c1": {
      "model_module": "@jupyter-widgets/controls",
      "model_module_version": "2.0.0",
      "model_name": "FloatProgressModel",
      "state": {
       "_dom_classes": [],
       "_model_module": "@jupyter-widgets/controls",
       "_model_module_version": "2.0.0",
       "_model_name": "FloatProgressModel",
       "_view_count": null,
       "_view_module": "@jupyter-widgets/controls",
       "_view_module_version": "2.0.0",
       "_view_name": "ProgressView",
       "bar_style": "success",
       "description": "",
       "description_allow_html": false,
       "layout": "IPY_MODEL_453ae4486302438fb1419998a90023e5",
       "max": 7,
       "min": 0,
       "orientation": "horizontal",
       "style": "IPY_MODEL_889afec0260b4fdf886fd92d97027a35",
       "tabbable": null,
       "tooltip": null,
       "value": 7
      }
     }
    },
    "version_major": 2,
    "version_minor": 0
   }
  }
 },
 "nbformat": 4,
 "nbformat_minor": 2
}

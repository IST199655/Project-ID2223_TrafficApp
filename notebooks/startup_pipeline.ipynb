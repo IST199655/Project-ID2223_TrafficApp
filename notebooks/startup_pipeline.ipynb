{
 "cells": [
  {
   "cell_type": "markdown",
   "metadata": {
    "vscode": {
     "languageId": "plaintext"
    }
   },
   "source": [
    "# 1. Startup Application and Internal Memory "
   ]
  },
  {
   "cell_type": "code",
   "execution_count": 1,
   "metadata": {},
   "outputs": [],
   "source": [
    "!pip install -r requirements.txt --quiet"
   ]
  },
  {
   "cell_type": "code",
   "execution_count": null,
   "metadata": {},
   "outputs": [],
   "source": [
    "import pickle\n",
    "import pandas as pd\n",
    "import hopsworks\n",
    "import os\n",
    "\n",
    "from keys import TOMTOM_API_KEY, TOMTOM_API_KEY2, TOMTOM_API_KEY3\n",
    "from functions.TomTomAPI import get_traffic_map, plot_traffic_map, get_grid_from_map, get_traffic_map_from_grid, get_grid_from_map_alt\n",
    "from functions.HolidaysnWeather import get_weather, is_holiday"
   ]
  },
  {
   "cell_type": "code",
   "execution_count": null,
   "metadata": {},
   "outputs": [],
   "source": [
    "coordinates = 59.34318, 18.05141 # Stockholm near Odenplan\n",
    "radius = 1000\n",
    "zoom = 20\n",
    "\n",
    "TOMTOM_keys = [TOMTOM_API_KEY, TOMTOM_API_KEY2, TOMTOM_API_KEY3]"
   ]
  },
  {
   "cell_type": "markdown",
   "metadata": {},
   "source": [
    "### 1.1. Create GRID for extracting traffic data"
   ]
  },
  {
   "cell_type": "code",
   "execution_count": null,
   "metadata": {},
   "outputs": [],
   "source": [
    "success = False\n",
    "i = 0\n",
    "while i < len(TOMTOM_keys) and not success:\n",
    "    try:\n",
    "        traffic_map = get_traffic_map(TOMTOM_keys[i], coordinates, radius, zoom = zoom)\n",
    "        success = True\n",
    "    except:\n",
    "        print('Failed with key:', i)\n",
    "        i += 1"
   ]
  },
  {
   "cell_type": "code",
   "execution_count": null,
   "metadata": {},
   "outputs": [],
   "source": [
    "print(len(traffic_map))\n",
    "traffic_map = set([str(s) for s in traffic_map])\n",
    "traffic_map = [eval(s) for s in list(traffic_map)]\n",
    "print(len(traffic_map))\n",
    "\n",
    "plot_traffic_map(traffic_map)"
   ]
  },
  {
   "cell_type": "code",
   "execution_count": null,
   "metadata": {},
   "outputs": [],
   "source": [
    "grid = get_grid_from_map_alt(traffic_map)\n",
    "\n",
    "with open('variables/grid.pickle', 'wb') as file:\n",
    "    # Serialize and write the variable to the file\n",
    "    pickle.dump(grid, file)"
   ]
  },
  {
   "cell_type": "markdown",
   "metadata": {},
   "source": [
    "### 1.2. Collect traffic data"
   ]
  },
  {
   "cell_type": "code",
   "execution_count": null,
   "metadata": {},
   "outputs": [],
   "source": [
    "success = False\n",
    "i = 0\n",
    "while i < len(TOMTOM_keys) and not success:\n",
    "    try:\n",
    "        traffic_map2 = get_traffic_map_from_grid(TOMTOM_keys[i],grid, zoom = zoom)\n",
    "        success = True\n",
    "    except:\n",
    "        print('Failed with key:', i)\n",
    "        i += 1\n",
    "\n",
    "print(len(traffic_map2))\n",
    "traffic_map2 = set([str(s) for s in traffic_map2])\n",
    "traffic_map2 = [eval(s) for s in list(traffic_map2)]\n",
    "print(len(traffic_map2))\n",
    "\n",
    "plot_traffic_map(traffic_map2, name = 'figures/traffic_map2.png')"
   ]
  },
  {
   "cell_type": "code",
   "execution_count": null,
   "metadata": {},
   "outputs": [],
   "source": [
    "from shapely.geometry import LineString\n",
    "import datetime\n",
    "\n",
    "traffic_df = pd.DataFrame(traffic_map)\n",
    "traffic_df['coordinates'] = traffic_df['coordinates'].apply(lambda x: LineString([(point['longitude'], point['latitude']) for point in x['coordinate']]))\n",
    "traffic_df = traffic_df.drop_duplicates()\n",
    "\n",
    "today = datetime.datetime.now()\n",
    "dates = [today for i in range(traffic_df.shape[0])]\n",
    "multi_index = pd.MultiIndex.from_arrays(\n",
    "    [dates,traffic_df['frc'], traffic_df['coordinates']],  # Pass as a list of arrays\n",
    "    names=['date','frc', 'coordinates']  # Assign level names\n",
    ")\n",
    "traffic_df.index = multi_index\n",
    "\n",
    "traffic_df = traffic_df.drop(columns = ['@version','frc', 'coordinates'])\n",
    "\n",
    "print(traffic_df.shape)\n",
    "traffic_df.head(1)"
   ]
  },
  {
   "cell_type": "markdown",
   "metadata": {},
   "source": [
    "### 1.3. Collect weather data"
   ]
  },
  {
   "cell_type": "code",
   "execution_count": null,
   "metadata": {},
   "outputs": [],
   "source": [
    "weather_df = get_weather(coordinates)\n",
    "weather_df"
   ]
  },
  {
   "cell_type": "markdown",
   "metadata": {},
   "source": [
    "### 1.4. Collect weather data"
   ]
  },
  {
   "cell_type": "code",
   "execution_count": null,
   "metadata": {},
   "outputs": [],
   "source": [
    "holiday_status = is_holiday()\n",
    "weather_df['holiday_status'] = holiday_status\n",
    "weather_df"
   ]
  },
  {
   "cell_type": "markdown",
   "metadata": {},
   "source": [
    "### 1.5. Joining data and uploading to Hopsworks"
   ]
  },
  {
   "cell_type": "code",
   "execution_count": null,
   "metadata": {},
   "outputs": [],
   "source": [
    "# Get the API key from GitHub Secrets\n",
    "# HOPSWORKS_API_KEY = os.getenv('HOPSWORKS_API_KEY')\n",
    "with open('hopsworks-api-key.txt','r') as file:\n",
    "    os.environ[\"HOPSWORKS_API_KEY\"] = file.read().rstrip()\n",
    "\n",
    "# Get AQI API KEY from secrets of hopsworks\n",
    "project = hopsworks.login(project=\"ID2223LAB1KTH\")"
   ]
  },
  {
   "cell_type": "code",
   "execution_count": null,
   "metadata": {},
   "outputs": [],
   "source": [
    "\n",
    "# Initialize the feature store\n",
    "\n",
    "fs = project.get_feature_store()\n",
    "\n",
    "# Define and insert the Air Quality Feature Group\n",
    "traffic_fg = fs.get_or_create_feature_group(\n",
    "    name=\"stockholm_traffic\",\n",
    "    version=1,\n",
    "    description=\"Traffic data of odenplan : coordinates currentSpeed\tfreeFlowSpeed\tcurrentTravelTime\tfreeFlowTravelTime\tconfidence\troadClosure\",\n",
    "    primary_key=[\"date\"],  \n",
    "    event_time=\"date\" \n",
    ")\n",
    "\n",
    "traffic_fg.insert(traffic_df)\n",
    "\n",
    "# Define and insert the Air Quality Feature Group\n",
    "weather_fg = fs.get_or_create_feature_group(\n",
    "    name=\"stockholm_weather&holiday\",\n",
    "    version=1,\n",
    "    description=\"Weather data for Stockholm including temperature, precipitation, wind speed and holiday\",\n",
    "    primary_key=[\"date\"],  \n",
    "    event_time=\"date\" \n",
    ")\n",
    "\n",
    "weather_fg.insert(weather_df)"
   ]
  }
 ],
 "metadata": {
  "kernelspec": {
   "display_name": ".venv",
   "language": "python",
   "name": "python3"
  },
  "language_info": {
   "codemirror_mode": {
    "name": "ipython",
    "version": 3
   },
   "file_extension": ".py",
   "mimetype": "text/x-python",
   "name": "python",
   "nbconvert_exporter": "python",
   "pygments_lexer": "ipython3",
   "version": "3.12.2"
  }
 },
 "nbformat": 4,
 "nbformat_minor": 2
}

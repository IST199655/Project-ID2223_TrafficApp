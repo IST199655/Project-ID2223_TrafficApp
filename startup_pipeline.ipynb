{
 "cells": [
  {
   "cell_type": "markdown",
   "metadata": {
    "vscode": {
     "languageId": "plaintext"
    }
   },
   "source": [
    "# 1. Startup Application and Internal Memory "
   ]
  },
  {
   "cell_type": "code",
   "execution_count": 1,
   "metadata": {},
   "outputs": [
    {
     "name": "stdout",
     "output_type": "stream",
     "text": [
      "Requirement already satisfied: numpy in /home/mathis-portable/.pyenv/versions/3.9.5/lib/python3.9/site-packages (from -r requirements.txt (line 1)) (1.26.4)\n",
      "Requirement already satisfied: osmnx in /home/mathis-portable/.pyenv/versions/3.9.5/lib/python3.9/site-packages (from -r requirements.txt (line 2)) (2.0.0)\n",
      "Requirement already satisfied: requests in /home/mathis-portable/.pyenv/versions/3.9.5/lib/python3.9/site-packages (from -r requirements.txt (line 3)) (2.32.3)\n",
      "Requirement already satisfied: matplotlib in /home/mathis-portable/.pyenv/versions/3.9.5/lib/python3.9/site-packages (from -r requirements.txt (line 4)) (3.8.3)\n",
      "Requirement already satisfied: openmeteo_requests in /home/mathis-portable/.pyenv/versions/3.9.5/lib/python3.9/site-packages (from -r requirements.txt (line 5)) (1.3.0)\n",
      "Requirement already satisfied: requests-cache in /home/mathis-portable/.pyenv/versions/3.9.5/lib/python3.9/site-packages (from -r requirements.txt (line 6)) (1.2.0)\n",
      "Requirement already satisfied: retry-requests in /home/mathis-portable/.pyenv/versions/3.9.5/lib/python3.9/site-packages (from -r requirements.txt (line 7)) (2.0.0)\n",
      "Requirement already satisfied: hopsworks in /home/mathis-portable/.pyenv/versions/3.9.5/lib/python3.9/site-packages (from -r requirements.txt (line 8)) (4.1.4)\n",
      "Requirement already satisfied: pandas in /home/mathis-portable/.pyenv/versions/3.9.5/lib/python3.9/site-packages (from -r requirements.txt (line 9)) (2.1.4)\n",
      "Requirement already satisfied: geopandas>=1.0 in /home/mathis-portable/.pyenv/versions/3.9.5/lib/python3.9/site-packages (from osmnx->-r requirements.txt (line 2)) (1.0.1)\n",
      "Requirement already satisfied: networkx>=2.5 in /home/mathis-portable/.pyenv/versions/3.9.5/lib/python3.9/site-packages (from osmnx->-r requirements.txt (line 2)) (3.2.1)\n",
      "Requirement already satisfied: shapely>=2.0 in /home/mathis-portable/.pyenv/versions/3.9.5/lib/python3.9/site-packages (from osmnx->-r requirements.txt (line 2)) (2.0.6)\n",
      "Requirement already satisfied: charset-normalizer<4,>=2 in /home/mathis-portable/.pyenv/versions/3.9.5/lib/python3.9/site-packages (from requests->-r requirements.txt (line 3)) (3.3.2)\n",
      "Requirement already satisfied: idna<4,>=2.5 in /home/mathis-portable/.pyenv/versions/3.9.5/lib/python3.9/site-packages (from requests->-r requirements.txt (line 3)) (3.10)\n",
      "Requirement already satisfied: urllib3<3,>=1.21.1 in /home/mathis-portable/.pyenv/versions/3.9.5/lib/python3.9/site-packages (from requests->-r requirements.txt (line 3)) (1.26.20)\n",
      "Requirement already satisfied: certifi>=2017.4.17 in /home/mathis-portable/.pyenv/versions/3.9.5/lib/python3.9/site-packages (from requests->-r requirements.txt (line 3)) (2024.8.30)\n",
      "Requirement already satisfied: contourpy>=1.0.1 in /home/mathis-portable/.pyenv/versions/3.9.5/lib/python3.9/site-packages (from matplotlib->-r requirements.txt (line 4)) (1.3.0)\n",
      "Requirement already satisfied: cycler>=0.10 in /home/mathis-portable/.pyenv/versions/3.9.5/lib/python3.9/site-packages (from matplotlib->-r requirements.txt (line 4)) (0.12.1)\n",
      "Requirement already satisfied: fonttools>=4.22.0 in /home/mathis-portable/.pyenv/versions/3.9.5/lib/python3.9/site-packages (from matplotlib->-r requirements.txt (line 4)) (4.53.1)\n",
      "Requirement already satisfied: kiwisolver>=1.3.1 in /home/mathis-portable/.pyenv/versions/3.9.5/lib/python3.9/site-packages (from matplotlib->-r requirements.txt (line 4)) (1.4.7)\n",
      "Requirement already satisfied: packaging>=20.0 in /home/mathis-portable/.pyenv/versions/3.9.5/lib/python3.9/site-packages (from matplotlib->-r requirements.txt (line 4)) (24.1)\n",
      "Requirement already satisfied: pillow>=8 in /home/mathis-portable/.pyenv/versions/3.9.5/lib/python3.9/site-packages (from matplotlib->-r requirements.txt (line 4)) (10.2.0)\n",
      "Requirement already satisfied: pyparsing>=2.3.1 in /home/mathis-portable/.pyenv/versions/3.9.5/lib/python3.9/site-packages (from matplotlib->-r requirements.txt (line 4)) (3.1.4)\n",
      "Requirement already satisfied: python-dateutil>=2.7 in /home/mathis-portable/.pyenv/versions/3.9.5/lib/python3.9/site-packages (from matplotlib->-r requirements.txt (line 4)) (2.9.0.post0)\n",
      "Requirement already satisfied: importlib-resources>=3.2.0 in /home/mathis-portable/.pyenv/versions/3.9.5/lib/python3.9/site-packages (from matplotlib->-r requirements.txt (line 4)) (6.4.5)\n",
      "Requirement already satisfied: openmeteo-sdk>=1.4.0 in /home/mathis-portable/.pyenv/versions/3.9.5/lib/python3.9/site-packages (from openmeteo_requests->-r requirements.txt (line 5)) (1.18.0)\n",
      "Requirement already satisfied: attrs>=21.2 in /home/mathis-portable/.pyenv/versions/3.9.5/lib/python3.9/site-packages (from requests-cache->-r requirements.txt (line 6)) (24.2.0)\n",
      "Requirement already satisfied: cattrs>=22.2 in /home/mathis-portable/.pyenv/versions/3.9.5/lib/python3.9/site-packages (from requests-cache->-r requirements.txt (line 6)) (24.1.2)\n",
      "Requirement already satisfied: platformdirs>=2.5 in /home/mathis-portable/.pyenv/versions/3.9.5/lib/python3.9/site-packages (from requests-cache->-r requirements.txt (line 6)) (4.3.3)\n",
      "Requirement already satisfied: url-normalize>=1.4 in /home/mathis-portable/.pyenv/versions/3.9.5/lib/python3.9/site-packages (from requests-cache->-r requirements.txt (line 6)) (1.4.3)\n",
      "Requirement already satisfied: pyhumps==1.6.1 in /home/mathis-portable/.pyenv/versions/3.9.5/lib/python3.9/site-packages (from hopsworks->-r requirements.txt (line 8)) (1.6.1)\n",
      "Requirement already satisfied: furl in /home/mathis-portable/.pyenv/versions/3.9.5/lib/python3.9/site-packages (from hopsworks->-r requirements.txt (line 8)) (2.1.3)\n",
      "Requirement already satisfied: boto3 in /home/mathis-portable/.pyenv/versions/3.9.5/lib/python3.9/site-packages (from hopsworks->-r requirements.txt (line 8)) (1.35.59)\n",
      "Requirement already satisfied: pyjks in /home/mathis-portable/.pyenv/versions/3.9.5/lib/python3.9/site-packages (from hopsworks->-r requirements.txt (line 8)) (20.0.0)\n",
      "Requirement already satisfied: mock in /home/mathis-portable/.pyenv/versions/3.9.5/lib/python3.9/site-packages (from hopsworks->-r requirements.txt (line 8)) (5.1.0)\n",
      "Requirement already satisfied: avro==1.11.3 in /home/mathis-portable/.pyenv/versions/3.9.5/lib/python3.9/site-packages (from hopsworks->-r requirements.txt (line 8)) (1.11.3)\n",
      "Requirement already satisfied: sqlalchemy in /home/mathis-portable/.pyenv/versions/3.9.5/lib/python3.9/site-packages (from hopsworks->-r requirements.txt (line 8)) (1.4.48)\n",
      "Requirement already satisfied: PyMySQL[rsa] in /home/mathis-portable/.pyenv/versions/3.9.5/lib/python3.9/site-packages (from hopsworks->-r requirements.txt (line 8)) (1.1.1)\n",
      "Requirement already satisfied: tzlocal in /home/mathis-portable/.pyenv/versions/3.9.5/lib/python3.9/site-packages (from hopsworks->-r requirements.txt (line 8)) (5.2)\n",
      "Requirement already satisfied: fsspec in /home/mathis-portable/.pyenv/versions/3.9.5/lib/python3.9/site-packages (from hopsworks->-r requirements.txt (line 8)) (2024.2.0)\n",
      "Requirement already satisfied: retrying in /home/mathis-portable/.pyenv/versions/3.9.5/lib/python3.9/site-packages (from hopsworks->-r requirements.txt (line 8)) (1.3.4)\n",
      "Requirement already satisfied: hopsworks_aiomysql==0.2.1 in /home/mathis-portable/.pyenv/versions/3.9.5/lib/python3.9/site-packages (from hopsworks_aiomysql[sa]==0.2.1->hopsworks->-r requirements.txt (line 8)) (0.2.1)\n",
      "Requirement already satisfied: opensearch-py<=2.4.2,>=1.1.0 in /home/mathis-portable/.pyenv/versions/3.9.5/lib/python3.9/site-packages (from hopsworks->-r requirements.txt (line 8)) (2.4.2)\n",
      "Requirement already satisfied: tqdm in /home/mathis-portable/.pyenv/versions/3.9.5/lib/python3.9/site-packages (from hopsworks->-r requirements.txt (line 8)) (4.66.5)\n",
      "Requirement already satisfied: grpcio<2.0.0,>=1.49.1 in /home/mathis-portable/.pyenv/versions/3.9.5/lib/python3.9/site-packages (from hopsworks->-r requirements.txt (line 8)) (1.68.1)\n",
      "Requirement already satisfied: protobuf<5.0.0,>=4.25.4 in /home/mathis-portable/.pyenv/versions/3.9.5/lib/python3.9/site-packages (from hopsworks->-r requirements.txt (line 8)) (4.25.5)\n",
      "Requirement already satisfied: pytz>=2020.1 in /home/mathis-portable/.pyenv/versions/3.9.5/lib/python3.9/site-packages (from pandas->-r requirements.txt (line 9)) (2024.2)\n",
      "Requirement already satisfied: tzdata>=2022.1 in /home/mathis-portable/.pyenv/versions/3.9.5/lib/python3.9/site-packages (from pandas->-r requirements.txt (line 9)) (2024.1)\n",
      "Requirement already satisfied: exceptiongroup>=1.1.1 in /home/mathis-portable/.pyenv/versions/3.9.5/lib/python3.9/site-packages (from cattrs>=22.2->requests-cache->-r requirements.txt (line 6)) (1.2.2)\n",
      "Requirement already satisfied: typing-extensions!=4.6.3,>=4.1.0 in /home/mathis-portable/.pyenv/versions/3.9.5/lib/python3.9/site-packages (from cattrs>=22.2->requests-cache->-r requirements.txt (line 6)) (4.9.0)\n",
      "Requirement already satisfied: pyogrio>=0.7.2 in /home/mathis-portable/.pyenv/versions/3.9.5/lib/python3.9/site-packages (from geopandas>=1.0->osmnx->-r requirements.txt (line 2)) (0.10.0)\n",
      "Requirement already satisfied: pyproj>=3.3.0 in /home/mathis-portable/.pyenv/versions/3.9.5/lib/python3.9/site-packages (from geopandas>=1.0->osmnx->-r requirements.txt (line 2)) (3.6.1)\n",
      "Requirement already satisfied: zipp>=3.1.0 in /home/mathis-portable/.pyenv/versions/3.9.5/lib/python3.9/site-packages (from importlib-resources>=3.2.0->matplotlib->-r requirements.txt (line 4)) (3.20.2)\n",
      "Requirement already satisfied: flatbuffers>=24.0.0 in /home/mathis-portable/.pyenv/versions/3.9.5/lib/python3.9/site-packages (from openmeteo-sdk>=1.4.0->openmeteo_requests->-r requirements.txt (line 5)) (24.3.25)\n",
      "Requirement already satisfied: six in /home/mathis-portable/.pyenv/versions/3.9.5/lib/python3.9/site-packages (from opensearch-py<=2.4.2,>=1.1.0->hopsworks->-r requirements.txt (line 8)) (1.16.0)\n",
      "Requirement already satisfied: greenlet!=0.4.17 in /home/mathis-portable/.pyenv/versions/3.9.5/lib/python3.9/site-packages (from sqlalchemy->hopsworks->-r requirements.txt (line 8)) (3.1.1)\n",
      "Requirement already satisfied: botocore<1.36.0,>=1.35.59 in /home/mathis-portable/.pyenv/versions/3.9.5/lib/python3.9/site-packages (from boto3->hopsworks->-r requirements.txt (line 8)) (1.35.59)\n",
      "Requirement already satisfied: jmespath<2.0.0,>=0.7.1 in /home/mathis-portable/.pyenv/versions/3.9.5/lib/python3.9/site-packages (from boto3->hopsworks->-r requirements.txt (line 8)) (1.0.1)\n",
      "Requirement already satisfied: s3transfer<0.11.0,>=0.10.0 in /home/mathis-portable/.pyenv/versions/3.9.5/lib/python3.9/site-packages (from boto3->hopsworks->-r requirements.txt (line 8)) (0.10.3)\n",
      "Requirement already satisfied: orderedmultidict>=1.0.1 in /home/mathis-portable/.pyenv/versions/3.9.5/lib/python3.9/site-packages (from furl->hopsworks->-r requirements.txt (line 8)) (1.0.1)\n",
      "Requirement already satisfied: javaobj-py3 in /home/mathis-portable/.pyenv/versions/3.9.5/lib/python3.9/site-packages (from pyjks->hopsworks->-r requirements.txt (line 8)) (0.4.4)\n",
      "Requirement already satisfied: pyasn1>=0.3.5 in /home/mathis-portable/.pyenv/versions/3.9.5/lib/python3.9/site-packages (from pyjks->hopsworks->-r requirements.txt (line 8)) (0.6.1)\n",
      "Requirement already satisfied: pyasn1-modules in /home/mathis-portable/.pyenv/versions/3.9.5/lib/python3.9/site-packages (from pyjks->hopsworks->-r requirements.txt (line 8)) (0.4.1)\n",
      "Requirement already satisfied: pycryptodomex in /home/mathis-portable/.pyenv/versions/3.9.5/lib/python3.9/site-packages (from pyjks->hopsworks->-r requirements.txt (line 8)) (3.21.0)\n",
      "Requirement already satisfied: twofish in /home/mathis-portable/.pyenv/versions/3.9.5/lib/python3.9/site-packages (from pyjks->hopsworks->-r requirements.txt (line 8)) (0.3.0)\n",
      "Requirement already satisfied: cryptography in /home/mathis-portable/.pyenv/versions/3.9.5/lib/python3.9/site-packages (from PyMySQL[rsa]->hopsworks->-r requirements.txt (line 8)) (43.0.3)\n",
      "Requirement already satisfied: cffi>=1.12 in /home/mathis-portable/.pyenv/versions/3.9.5/lib/python3.9/site-packages (from cryptography->PyMySQL[rsa]->hopsworks->-r requirements.txt (line 8)) (1.17.1)\n",
      "Requirement already satisfied: pycparser in /home/mathis-portable/.pyenv/versions/3.9.5/lib/python3.9/site-packages (from cffi>=1.12->cryptography->PyMySQL[rsa]->hopsworks->-r requirements.txt (line 8)) (2.22)\n"
     ]
    }
   ],
   "source": [
    "!pip install -r requirements.txt"
   ]
  },
  {
   "cell_type": "code",
   "execution_count": null,
   "metadata": {},
   "outputs": [],
   "source": [
    "import pickle\n",
    "import pandas as pd\n",
    "import hopsworks\n",
    "import os\n",
    "\n",
    "from keys import TOMTOM_API_KEY, TOMTOM_API_KEY2, TOMTOM_API_KEY3\n",
    "from TomTomAPI import get_traffic_map, plot_traffic_map, get_grid_from_map, get_traffic_map_from_grid, get_grid_from_map_alt\n",
    "from HolidaysnWeather import get_weather, is_holiday"
   ]
  },
  {
   "cell_type": "code",
   "execution_count": null,
   "metadata": {},
   "outputs": [],
   "source": [
    "coordinates = 59.34318, 18.05141 # Stockholm near Odenplan\n",
    "radius = 1000\n",
    "zoom = 20\n",
    "\n",
    "TOMTOM_keys = [TOMTOM_API_KEY, TOMTOM_API_KEY2, TOMTOM_API_KEY3]"
   ]
  },
  {
   "cell_type": "markdown",
   "metadata": {},
   "source": [
    "### 1.1. Create GRID for extracting traffic data"
   ]
  },
  {
   "cell_type": "code",
   "execution_count": null,
   "metadata": {},
   "outputs": [],
   "source": [
    "success = False\n",
    "i = 0\n",
    "while i < len(TOMTOM_keys) and not success:\n",
    "    try:\n",
    "        traffic_map = get_traffic_map(TOMTOM_keys[i], coordinates, radius, zoom = zoom)\n",
    "        success = True\n",
    "    except:\n",
    "        print('Failed with key:', i)\n",
    "        i += 1"
   ]
  },
  {
   "cell_type": "code",
   "execution_count": null,
   "metadata": {},
   "outputs": [],
   "source": [
    "print(len(traffic_map))\n",
    "traffic_map = set([str(s) for s in traffic_map])\n",
    "traffic_map = [eval(s) for s in list(traffic_map)]\n",
    "print(len(traffic_map))\n",
    "\n",
    "plot_traffic_map(traffic_map)"
   ]
  },
  {
   "cell_type": "code",
   "execution_count": null,
   "metadata": {},
   "outputs": [],
   "source": [
    "grid = get_grid_from_map_alt(traffic_map)\n",
    "\n",
    "with open('variables/grid.pickle', 'wb') as file:\n",
    "    # Serialize and write the variable to the file\n",
    "    pickle.dump(grid, file)"
   ]
  },
  {
   "cell_type": "markdown",
   "metadata": {},
   "source": [
    "### 1.2. Collect traffic data"
   ]
  },
  {
   "cell_type": "code",
   "execution_count": null,
   "metadata": {},
   "outputs": [],
   "source": [
    "success = False\n",
    "i = 0\n",
    "while i < len(TOMTOM_keys) and not success:\n",
    "    try:\n",
    "        traffic_map2 = get_traffic_map_from_grid(TOMTOM_keys[i],grid, zoom = zoom)\n",
    "        success = True\n",
    "    except:\n",
    "        print('Failed with key:', i)\n",
    "        i += 1\n",
    "\n",
    "print(len(traffic_map2))\n",
    "traffic_map2 = set([str(s) for s in traffic_map2])\n",
    "traffic_map2 = [eval(s) for s in list(traffic_map2)]\n",
    "print(len(traffic_map2))\n",
    "\n",
    "plot_traffic_map(traffic_map2, name = 'figures/traffic_map2.png')"
   ]
  },
  {
   "cell_type": "code",
   "execution_count": null,
   "metadata": {},
   "outputs": [],
   "source": [
    "from shapely.geometry import LineString\n",
    "import datetime\n",
    "\n",
    "traffic_df = pd.DataFrame(traffic_map)\n",
    "traffic_df['coordinates'] = traffic_df['coordinates'].apply(lambda x: LineString([(point['longitude'], point['latitude']) for point in x['coordinate']]))\n",
    "traffic_df = traffic_df.drop_duplicates()\n",
    "\n",
    "today = datetime.datetime.now()\n",
    "dates = [today for i in range(traffic_df.shape[0])]\n",
    "multi_index = pd.MultiIndex.from_arrays(\n",
    "    [dates,traffic_df['frc'], traffic_df['coordinates']],  # Pass as a list of arrays\n",
    "    names=['date','frc', 'coordinates']  # Assign level names\n",
    ")\n",
    "traffic_df.index = multi_index\n",
    "\n",
    "traffic_df = traffic_df.drop(columns = ['@version','frc', 'coordinates'])\n",
    "\n",
    "print(traffic_df.shape)\n",
    "traffic_df.head(1)"
   ]
  },
  {
   "cell_type": "markdown",
   "metadata": {},
   "source": [
    "### 1.3. Collect weather data"
   ]
  },
  {
   "cell_type": "code",
   "execution_count": null,
   "metadata": {},
   "outputs": [],
   "source": [
    "weather_df = get_weather(coordinates)\n",
    "weather_df"
   ]
  },
  {
   "cell_type": "markdown",
   "metadata": {},
   "source": [
    "### 1.4. Collect weather data"
   ]
  },
  {
   "cell_type": "code",
   "execution_count": null,
   "metadata": {},
   "outputs": [],
   "source": [
    "holiday_status = is_holiday()\n",
    "weather_df['holiday_status'] = holiday_status\n",
    "weather_df"
   ]
  },
  {
   "cell_type": "markdown",
   "metadata": {},
   "source": [
    "### 1.5. Joining data and uploading to Hopsworks"
   ]
  },
  {
   "cell_type": "code",
   "execution_count": null,
   "metadata": {},
   "outputs": [],
   "source": [
    "# Get the API key from GitHub Secrets\n",
    "# HOPSWORKS_API_KEY = os.getenv('HOPSWORKS_API_KEY')\n",
    "with open('hopsworks-api-key.txt','r') as file:\n",
    "    os.environ[\"HOPSWORKS_API_KEY\"] = file.read().rstrip()\n",
    "\n",
    "# Get AQI API KEY from secrets of hopsworks\n",
    "project = hopsworks.login(project=\"ID2223LAB1KTH\")"
   ]
  },
  {
   "cell_type": "code",
   "execution_count": null,
   "metadata": {},
   "outputs": [],
   "source": [
    "\n",
    "# Initialize the feature store\n",
    "\n",
    "fs = project.get_feature_store()\n",
    "\n",
    "# Define and insert the Air Quality Feature Group\n",
    "traffic_fg = fs.get_or_create_feature_group(\n",
    "    name=\"stockholm_traffic\",\n",
    "    version=1,\n",
    "    description=\"Traffic data of odenplan : coordinates currentSpeed\tfreeFlowSpeed\tcurrentTravelTime\tfreeFlowTravelTime\tconfidence\troadClosure\",\n",
    "    primary_key=[\"date\"],  \n",
    "    event_time=\"date\" \n",
    ")\n",
    "\n",
    "traffic_fg.insert(traffic_df)\n",
    "\n",
    "# Define and insert the Air Quality Feature Group\n",
    "weather_fg = fs.get_or_create_feature_group(\n",
    "    name=\"stockholm_weather&holiday\",\n",
    "    version=1,\n",
    "    description=\"Weather data for Stockholm including temperature, precipitation, wind speed and holiday\",\n",
    "    primary_key=[\"date\"],  \n",
    "    event_time=\"date\" \n",
    ")\n",
    "\n",
    "weather_fg.insert(weather_df)"
   ]
  }
 ],
 "metadata": {
  "kernelspec": {
   "display_name": "3.9.5",
   "language": "python",
   "name": "python3"
  },
  "language_info": {
   "codemirror_mode": {
    "name": "ipython",
    "version": 3
   },
   "file_extension": ".py",
   "mimetype": "text/x-python",
   "name": "python",
   "nbconvert_exporter": "python",
   "pygments_lexer": "ipython3",
   "version": "3.9.5"
  }
 },
 "nbformat": 4,
 "nbformat_minor": 2
}

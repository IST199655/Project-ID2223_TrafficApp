{
 "cells": [
  {
   "cell_type": "markdown",
   "metadata": {},
   "source": [
    "# 2. Update data daily"
   ]
  },
  {
   "cell_type": "code",
   "execution_count": 13,
   "metadata": {},
   "outputs": [],
   "source": [
    "from keys import TOMTOM_API_KEY, TOMTOM_API_KEY2, TOMTOM_API_KEY3\n",
    "from TomTomAPI import get_traffic_map_from_grid\n",
    "from HolidaysnWeather import get_weather, is_holiday\n",
    "import pickle\n",
    "import pandas as pd"
   ]
  },
  {
   "cell_type": "code",
   "execution_count": 2,
   "metadata": {},
   "outputs": [],
   "source": [
    "coordinates = 59.34318, 18.05141 # Stockholm near Odenplan\n",
    "zoom = 20\n",
    "\n",
    "TOMTOM_keys = [TOMTOM_API_KEY, TOMTOM_API_KEY2, TOMTOM_API_KEY3]"
   ]
  },
  {
   "cell_type": "markdown",
   "metadata": {},
   "source": [
    "### 2.1. Collect traffic data"
   ]
  },
  {
   "cell_type": "code",
   "execution_count": 3,
   "metadata": {},
   "outputs": [],
   "source": [
    "# Getting grid variable from memory\n",
    "with open('variables/grid.pickle', 'rb') as file:\n",
    "    # Deserialize and retrieve grid from pickle file\n",
    "    grid = pickle.load(file)"
   ]
  },
  {
   "cell_type": "code",
   "execution_count": null,
   "metadata": {},
   "outputs": [
    {
     "name": "stdout",
     "output_type": "stream",
     "text": [
      "Failed with key: zJT5UBCDtRKSWwsbGp6LWjcQcIi0IcdV\n",
      "num of requests: 294\n"
     ]
    }
   ],
   "source": [
    "# Collecting traffic flow from grid\n",
    "success = False\n",
    "i = 0\n",
    "while i < len(TOMTOM_keys) and not success:\n",
    "    try:\n",
    "        traffic_map = get_traffic_map_from_grid(TOMTOM_keys[i],grid, zoom = zoom)\n",
    "        success = True\n",
    "    except:\n",
    "        print('Failed with key:', TOMTOM_keys[i])\n",
    "        i += 1\n",
    "traffic_map = pd.DataFrame(traffic_map)\n",
    "traffic_map"
   ]
  },
  {
   "cell_type": "code",
   "execution_count": 11,
   "metadata": {},
   "outputs": [
    {
     "name": "stderr",
     "output_type": "stream",
     "text": [
      "/var/folders/wg/qn3bmnj948q_cdv4_z9r5xnh0000gn/T/ipykernel_71937/981005903.py:3: SettingWithCopyWarning: \n",
      "A value is trying to be set on a copy of a slice from a DataFrame.\n",
      "Try using .loc[row_indexer,col_indexer] = value instead\n",
      "\n",
      "See the caveats in the documentation: https://pandas.pydata.org/pandas-docs/stable/user_guide/indexing.html#returning-a-view-versus-a-copy\n",
      "  traffic_map.coordinates = traffic_map.coordinates.apply(lambda x: eval(x))\n"
     ]
    },
    {
     "data": {
      "text/html": [
       "<div>\n",
       "<style scoped>\n",
       "    .dataframe tbody tr th:only-of-type {\n",
       "        vertical-align: middle;\n",
       "    }\n",
       "\n",
       "    .dataframe tbody tr th {\n",
       "        vertical-align: top;\n",
       "    }\n",
       "\n",
       "    .dataframe thead th {\n",
       "        text-align: right;\n",
       "    }\n",
       "</style>\n",
       "<table border=\"1\" class=\"dataframe\">\n",
       "  <thead>\n",
       "    <tr style=\"text-align: right;\">\n",
       "      <th></th>\n",
       "      <th>frc</th>\n",
       "      <th>currentSpeed</th>\n",
       "      <th>freeFlowSpeed</th>\n",
       "      <th>currentTravelTime</th>\n",
       "      <th>freeFlowTravelTime</th>\n",
       "      <th>confidence</th>\n",
       "      <th>roadClosure</th>\n",
       "      <th>coordinates</th>\n",
       "      <th>@version</th>\n",
       "    </tr>\n",
       "  </thead>\n",
       "  <tbody>\n",
       "    <tr>\n",
       "      <th>0</th>\n",
       "      <td>FRC6</td>\n",
       "      <td>9</td>\n",
       "      <td>11</td>\n",
       "      <td>54</td>\n",
       "      <td>44</td>\n",
       "      <td>0.84</td>\n",
       "      <td>False</td>\n",
       "      <td>{'coordinate': [{'latitude': 59.34873597152101...</td>\n",
       "      <td>traffic-service-flow 1.0.120</td>\n",
       "    </tr>\n",
       "    <tr>\n",
       "      <th>1</th>\n",
       "      <td>FRC5</td>\n",
       "      <td>24</td>\n",
       "      <td>34</td>\n",
       "      <td>86</td>\n",
       "      <td>61</td>\n",
       "      <td>1.00</td>\n",
       "      <td>False</td>\n",
       "      <td>{'coordinate': [{'latitude': 59.33702143851012...</td>\n",
       "      <td>traffic-service-flow 1.0.120</td>\n",
       "    </tr>\n",
       "    <tr>\n",
       "      <th>2</th>\n",
       "      <td>FRC4</td>\n",
       "      <td>31</td>\n",
       "      <td>31</td>\n",
       "      <td>24</td>\n",
       "      <td>24</td>\n",
       "      <td>1.00</td>\n",
       "      <td>False</td>\n",
       "      <td>{'coordinate': [{'latitude': 59.34158925052537...</td>\n",
       "      <td>traffic-service-flow 1.0.120</td>\n",
       "    </tr>\n",
       "    <tr>\n",
       "      <th>3</th>\n",
       "      <td>FRC4</td>\n",
       "      <td>8</td>\n",
       "      <td>24</td>\n",
       "      <td>117</td>\n",
       "      <td>39</td>\n",
       "      <td>1.00</td>\n",
       "      <td>False</td>\n",
       "      <td>{'coordinate': [{'latitude': 59.34681285368509...</td>\n",
       "      <td>traffic-service-flow 1.0.120</td>\n",
       "    </tr>\n",
       "    <tr>\n",
       "      <th>4</th>\n",
       "      <td>FRC6</td>\n",
       "      <td>20</td>\n",
       "      <td>20</td>\n",
       "      <td>24</td>\n",
       "      <td>24</td>\n",
       "      <td>1.00</td>\n",
       "      <td>False</td>\n",
       "      <td>{'coordinate': [{'latitude': 59.34521959564415...</td>\n",
       "      <td>traffic-service-flow 1.0.120</td>\n",
       "    </tr>\n",
       "    <tr>\n",
       "      <th>...</th>\n",
       "      <td>...</td>\n",
       "      <td>...</td>\n",
       "      <td>...</td>\n",
       "      <td>...</td>\n",
       "      <td>...</td>\n",
       "      <td>...</td>\n",
       "      <td>...</td>\n",
       "      <td>...</td>\n",
       "      <td>...</td>\n",
       "    </tr>\n",
       "    <tr>\n",
       "      <th>287</th>\n",
       "      <td>FRC6</td>\n",
       "      <td>22</td>\n",
       "      <td>22</td>\n",
       "      <td>30</td>\n",
       "      <td>30</td>\n",
       "      <td>1.00</td>\n",
       "      <td>False</td>\n",
       "      <td>{'coordinate': [{'latitude': 59.34357407931478...</td>\n",
       "      <td>traffic-service-flow 1.0.120</td>\n",
       "    </tr>\n",
       "    <tr>\n",
       "      <th>288</th>\n",
       "      <td>FRC4</td>\n",
       "      <td>13</td>\n",
       "      <td>24</td>\n",
       "      <td>198</td>\n",
       "      <td>107</td>\n",
       "      <td>1.00</td>\n",
       "      <td>False</td>\n",
       "      <td>{'coordinate': [{'latitude': 59.33870852080807...</td>\n",
       "      <td>traffic-service-flow 1.0.120</td>\n",
       "    </tr>\n",
       "    <tr>\n",
       "      <th>290</th>\n",
       "      <td>FRC1</td>\n",
       "      <td>21</td>\n",
       "      <td>36</td>\n",
       "      <td>59</td>\n",
       "      <td>34</td>\n",
       "      <td>1.00</td>\n",
       "      <td>False</td>\n",
       "      <td>{'coordinate': [{'latitude': 59.34712665029686...</td>\n",
       "      <td>traffic-service-flow 1.0.120</td>\n",
       "    </tr>\n",
       "    <tr>\n",
       "      <th>291</th>\n",
       "      <td>FRC4</td>\n",
       "      <td>18</td>\n",
       "      <td>32</td>\n",
       "      <td>53</td>\n",
       "      <td>30</td>\n",
       "      <td>1.00</td>\n",
       "      <td>False</td>\n",
       "      <td>{'coordinate': [{'latitude': 59.35006097620218...</td>\n",
       "      <td>traffic-service-flow 1.0.120</td>\n",
       "    </tr>\n",
       "    <tr>\n",
       "      <th>292</th>\n",
       "      <td>FRC1</td>\n",
       "      <td>21</td>\n",
       "      <td>36</td>\n",
       "      <td>77</td>\n",
       "      <td>44</td>\n",
       "      <td>1.00</td>\n",
       "      <td>False</td>\n",
       "      <td>{'coordinate': [{'latitude': 59.35113656439689...</td>\n",
       "      <td>traffic-service-flow 1.0.120</td>\n",
       "    </tr>\n",
       "  </tbody>\n",
       "</table>\n",
       "<p>172 rows × 9 columns</p>\n",
       "</div>"
      ],
      "text/plain": [
       "      frc  currentSpeed  freeFlowSpeed  currentTravelTime  freeFlowTravelTime  \\\n",
       "0    FRC6             9             11                 54                  44   \n",
       "1    FRC5            24             34                 86                  61   \n",
       "2    FRC4            31             31                 24                  24   \n",
       "3    FRC4             8             24                117                  39   \n",
       "4    FRC6            20             20                 24                  24   \n",
       "..    ...           ...            ...                ...                 ...   \n",
       "287  FRC6            22             22                 30                  30   \n",
       "288  FRC4            13             24                198                 107   \n",
       "290  FRC1            21             36                 59                  34   \n",
       "291  FRC4            18             32                 53                  30   \n",
       "292  FRC1            21             36                 77                  44   \n",
       "\n",
       "     confidence  roadClosure  \\\n",
       "0          0.84        False   \n",
       "1          1.00        False   \n",
       "2          1.00        False   \n",
       "3          1.00        False   \n",
       "4          1.00        False   \n",
       "..          ...          ...   \n",
       "287        1.00        False   \n",
       "288        1.00        False   \n",
       "290        1.00        False   \n",
       "291        1.00        False   \n",
       "292        1.00        False   \n",
       "\n",
       "                                           coordinates  \\\n",
       "0    {'coordinate': [{'latitude': 59.34873597152101...   \n",
       "1    {'coordinate': [{'latitude': 59.33702143851012...   \n",
       "2    {'coordinate': [{'latitude': 59.34158925052537...   \n",
       "3    {'coordinate': [{'latitude': 59.34681285368509...   \n",
       "4    {'coordinate': [{'latitude': 59.34521959564415...   \n",
       "..                                                 ...   \n",
       "287  {'coordinate': [{'latitude': 59.34357407931478...   \n",
       "288  {'coordinate': [{'latitude': 59.33870852080807...   \n",
       "290  {'coordinate': [{'latitude': 59.34712665029686...   \n",
       "291  {'coordinate': [{'latitude': 59.35006097620218...   \n",
       "292  {'coordinate': [{'latitude': 59.35113656439689...   \n",
       "\n",
       "                         @version  \n",
       "0    traffic-service-flow 1.0.120  \n",
       "1    traffic-service-flow 1.0.120  \n",
       "2    traffic-service-flow 1.0.120  \n",
       "3    traffic-service-flow 1.0.120  \n",
       "4    traffic-service-flow 1.0.120  \n",
       "..                            ...  \n",
       "287  traffic-service-flow 1.0.120  \n",
       "288  traffic-service-flow 1.0.120  \n",
       "290  traffic-service-flow 1.0.120  \n",
       "291  traffic-service-flow 1.0.120  \n",
       "292  traffic-service-flow 1.0.120  \n",
       "\n",
       "[172 rows x 9 columns]"
      ]
     },
     "execution_count": 11,
     "metadata": {},
     "output_type": "execute_result"
    }
   ],
   "source": [
    "traffic_map.coordinates = traffic_map.coordinates.apply(lambda x: str(x))\n",
    "traffic_map = traffic_map.drop_duplicates()\n",
    "traffic_map.coordinates = traffic_map.coordinates.apply(lambda x: eval(x))\n",
    "traffic_map"
   ]
  },
  {
   "cell_type": "markdown",
   "metadata": {},
   "source": [
    "### 2.2. Collect weather data"
   ]
  },
  {
   "cell_type": "code",
   "execution_count": 14,
   "metadata": {},
   "outputs": [
    {
     "data": {
      "text/html": [
       "<div>\n",
       "<style scoped>\n",
       "    .dataframe tbody tr th:only-of-type {\n",
       "        vertical-align: middle;\n",
       "    }\n",
       "\n",
       "    .dataframe tbody tr th {\n",
       "        vertical-align: top;\n",
       "    }\n",
       "\n",
       "    .dataframe thead th {\n",
       "        text-align: right;\n",
       "    }\n",
       "</style>\n",
       "<table border=\"1\" class=\"dataframe\">\n",
       "  <thead>\n",
       "    <tr style=\"text-align: right;\">\n",
       "      <th></th>\n",
       "      <th>temperature_2m_max</th>\n",
       "      <th>temperature_2m_min</th>\n",
       "      <th>precipitation_sum</th>\n",
       "      <th>wind_speed_10m_max</th>\n",
       "      <th>wind_direction_10m_dominant</th>\n",
       "    </tr>\n",
       "  </thead>\n",
       "  <tbody>\n",
       "    <tr>\n",
       "      <th>2024-12-16</th>\n",
       "      <td>7.726</td>\n",
       "      <td>2.976</td>\n",
       "      <td>2.8</td>\n",
       "      <td>37.439999</td>\n",
       "      <td>273.435425</td>\n",
       "    </tr>\n",
       "  </tbody>\n",
       "</table>\n",
       "</div>"
      ],
      "text/plain": [
       "            temperature_2m_max  temperature_2m_min  precipitation_sum  \\\n",
       "2024-12-16               7.726               2.976                2.8   \n",
       "\n",
       "            wind_speed_10m_max  wind_direction_10m_dominant  \n",
       "2024-12-16           37.439999                   273.435425  "
      ]
     },
     "execution_count": 14,
     "metadata": {},
     "output_type": "execute_result"
    }
   ],
   "source": [
    "weather = get_weather(coordinates)\n",
    "weather"
   ]
  },
  {
   "cell_type": "markdown",
   "metadata": {},
   "source": [
    "### 2.3. Collect weather data"
   ]
  },
  {
   "cell_type": "code",
   "execution_count": 15,
   "metadata": {},
   "outputs": [
    {
     "data": {
      "text/plain": [
       "0"
      ]
     },
     "execution_count": 15,
     "metadata": {},
     "output_type": "execute_result"
    }
   ],
   "source": [
    "holiday_status = is_holiday()\n",
    "holiday_status"
   ]
  },
  {
   "cell_type": "markdown",
   "metadata": {},
   "source": [
    "### 2.4. Joining data and uploading to Hopsworks"
   ]
  },
  {
   "cell_type": "code",
   "execution_count": null,
   "metadata": {},
   "outputs": [],
   "source": []
  }
 ],
 "metadata": {
  "kernelspec": {
   "display_name": "Python 3",
   "language": "python",
   "name": "python3"
  },
  "language_info": {
   "codemirror_mode": {
    "name": "ipython",
    "version": 3
   },
   "file_extension": ".py",
   "mimetype": "text/x-python",
   "name": "python",
   "nbconvert_exporter": "python",
   "pygments_lexer": "ipython3",
   "version": "3.12.7"
  }
 },
 "nbformat": 4,
 "nbformat_minor": 2
}

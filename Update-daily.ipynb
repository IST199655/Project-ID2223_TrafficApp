{
 "cells": [
  {
   "cell_type": "markdown",
   "metadata": {},
   "source": [
    "# 2. Update data daily"
   ]
  },
  {
   "cell_type": "code",
   "execution_count": 1,
   "metadata": {},
   "outputs": [],
   "source": [
    "import pickle\n",
    "import pandas as pd\n",
    "import hopsworks\n",
    "import os\n",
    "\n",
    "from keys import TOMTOM_API_KEY, TOMTOM_API_KEY2, TOMTOM_API_KEY3\n",
    "from TomTomAPI import get_traffic_map_from_grid\n",
    "from HolidaysnWeather import get_weather, is_holiday"
   ]
  },
  {
   "cell_type": "code",
   "execution_count": 2,
   "metadata": {},
   "outputs": [],
   "source": [
    "coordinates = 59.34318, 18.05141 # Stockholm near Odenplan\n",
    "zoom = 20\n",
    "\n",
    "TOMTOM_keys = [TOMTOM_API_KEY, TOMTOM_API_KEY2, TOMTOM_API_KEY3]"
   ]
  },
  {
   "cell_type": "markdown",
   "metadata": {},
   "source": [
    "### 2.1. Collect traffic data"
   ]
  },
  {
   "cell_type": "code",
   "execution_count": 3,
   "metadata": {},
   "outputs": [],
   "source": [
    "# Getting grid variable from memory\n",
    "with open('variables/grid.pickle', 'rb') as file:\n",
    "    # Deserialize and retrieve grid from pickle file\n",
    "    grid = pickle.load(file)"
   ]
  },
  {
   "cell_type": "code",
   "execution_count": 32,
   "metadata": {},
   "outputs": [
    {
     "name": "stdout",
     "output_type": "stream",
     "text": [
      "Failed with key: zJT5UBCDtRKSWwsbGp6LWjcQcIi0IcdV\n",
      "num of requests: 298\n"
     ]
    }
   ],
   "source": [
    "# Collecting traffic flow from grid\n",
    "success = False\n",
    "i = 0\n",
    "while i < len(TOMTOM_keys) and not success:\n",
    "    try:\n",
    "        traffic_map = get_traffic_map_from_grid(TOMTOM_keys[i],grid, zoom = zoom)\n",
    "        success = True\n",
    "    except:\n",
    "        print('Failed with key:', TOMTOM_keys[i])\n",
    "        i += 1"
   ]
  },
  {
   "cell_type": "code",
   "execution_count": 71,
   "metadata": {},
   "outputs": [
    {
     "name": "stdout",
     "output_type": "stream",
     "text": [
      "(179, 6)\n"
     ]
    },
    {
     "data": {
      "text/html": [
       "<div>\n",
       "<style scoped>\n",
       "    .dataframe tbody tr th:only-of-type {\n",
       "        vertical-align: middle;\n",
       "    }\n",
       "\n",
       "    .dataframe tbody tr th {\n",
       "        vertical-align: top;\n",
       "    }\n",
       "\n",
       "    .dataframe thead th {\n",
       "        text-align: right;\n",
       "    }\n",
       "</style>\n",
       "<table border=\"1\" class=\"dataframe\">\n",
       "  <thead>\n",
       "    <tr style=\"text-align: right;\">\n",
       "      <th></th>\n",
       "      <th></th>\n",
       "      <th>currentSpeed</th>\n",
       "      <th>freeFlowSpeed</th>\n",
       "      <th>currentTravelTime</th>\n",
       "      <th>freeFlowTravelTime</th>\n",
       "      <th>confidence</th>\n",
       "      <th>roadClosure</th>\n",
       "    </tr>\n",
       "    <tr>\n",
       "      <th>frc</th>\n",
       "      <th>coordinates</th>\n",
       "      <th></th>\n",
       "      <th></th>\n",
       "      <th></th>\n",
       "      <th></th>\n",
       "      <th></th>\n",
       "      <th></th>\n",
       "    </tr>\n",
       "  </thead>\n",
       "  <tbody>\n",
       "    <tr>\n",
       "      <th>FRC6</th>\n",
       "      <th>LINESTRING (18.047361336193802 59.342010331133054, 18.047573230706064 59.34179577386307, 18.04913561745761 59.34021728308633, 18.049217424832563 59.34013278083443, 18.049815557443026 59.339518562397586, 18.04989736481798 59.3394354262025, 18.050928674184462 59.33839203896625, 18.05185805960835 59.33744924414018, 18.051886222803006 59.33741974932061, 18.05198948785008 59.33730442005571, 18.0520189921493 59.33727625024616, 18.05265199347693 59.336659329834355, 18.052741847478956 59.336566782256796, 18.05288936897483 59.33634150372781, 18.052956424200204 59.33624626218505, 18.05304761930674 59.33612019924765)</th>\n",
       "      <td>23</td>\n",
       "      <td>23</td>\n",
       "      <td>114</td>\n",
       "      <td>114</td>\n",
       "      <td>1.0</td>\n",
       "      <td>False</td>\n",
       "    </tr>\n",
       "  </tbody>\n",
       "</table>\n",
       "</div>"
      ],
      "text/plain": [
       "                                                         currentSpeed  \\\n",
       "frc  coordinates                                                        \n",
       "FRC6 LINESTRING (18.047361336193802 59.3420103311330...            23   \n",
       "\n",
       "                                                         freeFlowSpeed  \\\n",
       "frc  coordinates                                                         \n",
       "FRC6 LINESTRING (18.047361336193802 59.3420103311330...             23   \n",
       "\n",
       "                                                         currentTravelTime  \\\n",
       "frc  coordinates                                                             \n",
       "FRC6 LINESTRING (18.047361336193802 59.3420103311330...                114   \n",
       "\n",
       "                                                         freeFlowTravelTime  \\\n",
       "frc  coordinates                                                              \n",
       "FRC6 LINESTRING (18.047361336193802 59.3420103311330...                 114   \n",
       "\n",
       "                                                         confidence  \\\n",
       "frc  coordinates                                                      \n",
       "FRC6 LINESTRING (18.047361336193802 59.3420103311330...         1.0   \n",
       "\n",
       "                                                         roadClosure  \n",
       "frc  coordinates                                                      \n",
       "FRC6 LINESTRING (18.047361336193802 59.3420103311330...        False  "
      ]
     },
     "execution_count": 71,
     "metadata": {},
     "output_type": "execute_result"
    }
   ],
   "source": [
    "from shapely.geometry import LineString\n",
    "\n",
    "traffic_df = pd.DataFrame(traffic_map)\n",
    "traffic_df['coordinates'] = traffic_df['coordinates'].apply(lambda x: LineString([(point['longitude'], point['latitude']) for point in x['coordinate']]))\n",
    "traffic_df = traffic_df.drop_duplicates()\n",
    "\n",
    "multi_index = pd.MultiIndex.from_arrays(\n",
    "    [traffic_df['frc'], traffic_df['coordinates']],  # Pass as a list of arrays\n",
    "    names=['frc', 'coordinates']  # Assign level names\n",
    ")\n",
    "traffic_df.index = multi_index\n",
    "\n",
    "traffic_df = traffic_df.drop(columns = ['@version','frc', 'coordinates'])\n",
    "\n",
    "print(traffic_df.shape)\n",
    "traffic_df.head(1)"
   ]
  },
  {
   "cell_type": "markdown",
   "metadata": {},
   "source": [
    "### 2.2. Collect weather data"
   ]
  },
  {
   "cell_type": "code",
   "execution_count": 8,
   "metadata": {},
   "outputs": [
    {
     "data": {
      "text/html": [
       "<div>\n",
       "<style scoped>\n",
       "    .dataframe tbody tr th:only-of-type {\n",
       "        vertical-align: middle;\n",
       "    }\n",
       "\n",
       "    .dataframe tbody tr th {\n",
       "        vertical-align: top;\n",
       "    }\n",
       "\n",
       "    .dataframe thead th {\n",
       "        text-align: right;\n",
       "    }\n",
       "</style>\n",
       "<table border=\"1\" class=\"dataframe\">\n",
       "  <thead>\n",
       "    <tr style=\"text-align: right;\">\n",
       "      <th></th>\n",
       "      <th>temperature_2m_max</th>\n",
       "      <th>temperature_2m_min</th>\n",
       "      <th>precipitation_sum</th>\n",
       "      <th>wind_speed_10m_max</th>\n",
       "      <th>wind_direction_10m_dominant</th>\n",
       "    </tr>\n",
       "  </thead>\n",
       "  <tbody>\n",
       "    <tr>\n",
       "      <th>2024-12-17</th>\n",
       "      <td>3.876</td>\n",
       "      <td>-0.024</td>\n",
       "      <td>0.0</td>\n",
       "      <td>33.48</td>\n",
       "      <td>279.494843</td>\n",
       "    </tr>\n",
       "  </tbody>\n",
       "</table>\n",
       "</div>"
      ],
      "text/plain": [
       "            temperature_2m_max  temperature_2m_min  precipitation_sum  \\\n",
       "2024-12-17               3.876              -0.024                0.0   \n",
       "\n",
       "            wind_speed_10m_max  wind_direction_10m_dominant  \n",
       "2024-12-17               33.48                   279.494843  "
      ]
     },
     "execution_count": 8,
     "metadata": {},
     "output_type": "execute_result"
    }
   ],
   "source": [
    "weather_df = get_weather(coordinates)\n",
    "weather_df"
   ]
  },
  {
   "cell_type": "markdown",
   "metadata": {},
   "source": [
    "### 2.3. Collect weather data"
   ]
  },
  {
   "cell_type": "code",
   "execution_count": 9,
   "metadata": {},
   "outputs": [
    {
     "data": {
      "text/html": [
       "<div>\n",
       "<style scoped>\n",
       "    .dataframe tbody tr th:only-of-type {\n",
       "        vertical-align: middle;\n",
       "    }\n",
       "\n",
       "    .dataframe tbody tr th {\n",
       "        vertical-align: top;\n",
       "    }\n",
       "\n",
       "    .dataframe thead th {\n",
       "        text-align: right;\n",
       "    }\n",
       "</style>\n",
       "<table border=\"1\" class=\"dataframe\">\n",
       "  <thead>\n",
       "    <tr style=\"text-align: right;\">\n",
       "      <th></th>\n",
       "      <th>temperature_2m_max</th>\n",
       "      <th>temperature_2m_min</th>\n",
       "      <th>precipitation_sum</th>\n",
       "      <th>wind_speed_10m_max</th>\n",
       "      <th>wind_direction_10m_dominant</th>\n",
       "      <th>holiday_status</th>\n",
       "    </tr>\n",
       "  </thead>\n",
       "  <tbody>\n",
       "    <tr>\n",
       "      <th>2024-12-17</th>\n",
       "      <td>3.876</td>\n",
       "      <td>-0.024</td>\n",
       "      <td>0.0</td>\n",
       "      <td>33.48</td>\n",
       "      <td>279.494843</td>\n",
       "      <td>0</td>\n",
       "    </tr>\n",
       "  </tbody>\n",
       "</table>\n",
       "</div>"
      ],
      "text/plain": [
       "            temperature_2m_max  temperature_2m_min  precipitation_sum  \\\n",
       "2024-12-17               3.876              -0.024                0.0   \n",
       "\n",
       "            wind_speed_10m_max  wind_direction_10m_dominant  holiday_status  \n",
       "2024-12-17               33.48                   279.494843               0  "
      ]
     },
     "execution_count": 9,
     "metadata": {},
     "output_type": "execute_result"
    }
   ],
   "source": [
    "holiday_status = is_holiday()\n",
    "weather_df['holiday_status'] = holiday_status\n",
    "weather_df"
   ]
  },
  {
   "cell_type": "markdown",
   "metadata": {},
   "source": [
    "### 2.4. Joining data and uploading to Hopsworks"
   ]
  },
  {
   "cell_type": "code",
   "execution_count": null,
   "metadata": {},
   "outputs": [],
   "source": [
    "# Get the API key from GitHub Secrets\n",
    "HOPSWORKS_API_KEY = os.getenv('HOPSWORKS_API_KEY')\n",
    "\n",
    "# Get AQI API KEY from secrets of hopsworks\n",
    "proj = hopsworks.login(project=\"ID2223LAB1KTH\")\n",
    "conn = hopsworks.connection(host=\"c.app.hopsworks.ai\", project=proj, api_key_value=os.environ.get('HOPSWORKS_API_KEY'))\n",
    "secrets = conn.get_secrets_api()\n",
    "\n",
    "AQI_API_KEY = secrets.get_secret(\"AQI_API_KEY\").value"
   ]
  },
  {
   "cell_type": "code",
   "execution_count": null,
   "metadata": {},
   "outputs": [],
   "source": [
    "# Initialize the feature store\n",
    "fs = proj.get_feature_store()\n",
    "\n",
    "# Define and insert the Forecast Weather Feature Group\n",
    "feature_group_name = \"stockholm_weather\"\n",
    "version = 1\n",
    "fg = fs.get_feature_group(name=feature_group_name, version=version)\n",
    "fg.insert(df_forecast_weather)\n",
    "\n",
    "# Define and insert the Air Quality Feature Group\n",
    "feature_group_name = \"stockholm_air_quality\"\n",
    "version = 1\n",
    "fg = fs.get_feature_group(name=feature_group_name, version=version)\n",
    "fg.insert(df_forecast_aq)"
   ]
  }
 ],
 "metadata": {
  "kernelspec": {
   "display_name": ".venv",
   "language": "python",
   "name": "python3"
  },
  "language_info": {
   "codemirror_mode": {
    "name": "ipython",
    "version": 3
   },
   "file_extension": ".py",
   "mimetype": "text/x-python",
   "name": "python",
   "nbconvert_exporter": "python",
   "pygments_lexer": "ipython3",
   "version": "3.12.2"
  }
 },
 "nbformat": 4,
 "nbformat_minor": 2
}

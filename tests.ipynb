{
 "cells": [
  {
   "cell_type": "code",
   "execution_count": 167,
   "metadata": {},
   "outputs": [
    {
     "name": "stdout",
     "output_type": "stream",
     "text": [
      "Requirement already satisfied: osmnx in ./.conda/lib/python3.12/site-packages (from -r requirements.txt (line 1)) (2.0.0)\n",
      "Requirement already satisfied: requests in ./.conda/lib/python3.12/site-packages (from -r requirements.txt (line 2)) (2.32.3)\n",
      "Requirement already satisfied: matplotlib in ./.conda/lib/python3.12/site-packages (from -r requirements.txt (line 3)) (3.9.3)\n",
      "Requirement already satisfied: openmeteo_requests in ./.conda/lib/python3.12/site-packages (from -r requirements.txt (line 4)) (1.3.0)\n",
      "Requirement already satisfied: requests-cache in ./.conda/lib/python3.12/site-packages (from -r requirements.txt (line 5)) (1.2.1)\n",
      "Collecting retry-requests (from -r requirements.txt (line 6))\n",
      "  Using cached retry_requests-2.0.0-py3-none-any.whl.metadata (2.6 kB)\n",
      "Requirement already satisfied: geopandas>=1.0 in ./.conda/lib/python3.12/site-packages (from osmnx->-r requirements.txt (line 1)) (1.0.1)\n",
      "Requirement already satisfied: networkx>=2.5 in ./.conda/lib/python3.12/site-packages (from osmnx->-r requirements.txt (line 1)) (3.4.2)\n",
      "Requirement already satisfied: numpy>=1.22 in ./.conda/lib/python3.12/site-packages (from osmnx->-r requirements.txt (line 1)) (2.2.0)\n",
      "Requirement already satisfied: pandas>=1.4 in ./.conda/lib/python3.12/site-packages (from osmnx->-r requirements.txt (line 1)) (2.2.3)\n",
      "Requirement already satisfied: shapely>=2.0 in ./.conda/lib/python3.12/site-packages (from osmnx->-r requirements.txt (line 1)) (2.0.6)\n",
      "Requirement already satisfied: charset-normalizer<4,>=2 in ./.conda/lib/python3.12/site-packages (from requests->-r requirements.txt (line 2)) (3.4.0)\n",
      "Requirement already satisfied: idna<4,>=2.5 in ./.conda/lib/python3.12/site-packages (from requests->-r requirements.txt (line 2)) (3.10)\n",
      "Requirement already satisfied: urllib3<3,>=1.21.1 in ./.conda/lib/python3.12/site-packages (from requests->-r requirements.txt (line 2)) (2.2.3)\n",
      "Requirement already satisfied: certifi>=2017.4.17 in ./.conda/lib/python3.12/site-packages (from requests->-r requirements.txt (line 2)) (2024.8.30)\n",
      "Requirement already satisfied: contourpy>=1.0.1 in ./.conda/lib/python3.12/site-packages (from matplotlib->-r requirements.txt (line 3)) (1.3.1)\n",
      "Requirement already satisfied: cycler>=0.10 in ./.conda/lib/python3.12/site-packages (from matplotlib->-r requirements.txt (line 3)) (0.12.1)\n",
      "Requirement already satisfied: fonttools>=4.22.0 in ./.conda/lib/python3.12/site-packages (from matplotlib->-r requirements.txt (line 3)) (4.55.3)\n",
      "Requirement already satisfied: kiwisolver>=1.3.1 in ./.conda/lib/python3.12/site-packages (from matplotlib->-r requirements.txt (line 3)) (1.4.7)\n",
      "Requirement already satisfied: packaging>=20.0 in ./.conda/lib/python3.12/site-packages (from matplotlib->-r requirements.txt (line 3)) (24.1)\n",
      "Requirement already satisfied: pillow>=8 in ./.conda/lib/python3.12/site-packages (from matplotlib->-r requirements.txt (line 3)) (11.0.0)\n",
      "Requirement already satisfied: pyparsing>=2.3.1 in ./.conda/lib/python3.12/site-packages (from matplotlib->-r requirements.txt (line 3)) (3.2.0)\n",
      "Requirement already satisfied: python-dateutil>=2.7 in ./.conda/lib/python3.12/site-packages (from matplotlib->-r requirements.txt (line 3)) (2.9.0.post0)\n",
      "Requirement already satisfied: openmeteo-sdk>=1.4.0 in ./.conda/lib/python3.12/site-packages (from openmeteo_requests->-r requirements.txt (line 4)) (1.18.0)\n",
      "Requirement already satisfied: attrs>=21.2 in ./.conda/lib/python3.12/site-packages (from requests-cache->-r requirements.txt (line 5)) (24.2.0)\n",
      "Requirement already satisfied: cattrs>=22.2 in ./.conda/lib/python3.12/site-packages (from requests-cache->-r requirements.txt (line 5)) (24.1.2)\n",
      "Requirement already satisfied: platformdirs>=2.5 in ./.conda/lib/python3.12/site-packages (from requests-cache->-r requirements.txt (line 5)) (3.10.0)\n",
      "Requirement already satisfied: url-normalize>=1.4 in ./.conda/lib/python3.12/site-packages (from requests-cache->-r requirements.txt (line 5)) (1.4.3)\n",
      "Requirement already satisfied: pyogrio>=0.7.2 in ./.conda/lib/python3.12/site-packages (from geopandas>=1.0->osmnx->-r requirements.txt (line 1)) (0.10.0)\n",
      "Requirement already satisfied: pyproj>=3.3.0 in ./.conda/lib/python3.12/site-packages (from geopandas>=1.0->osmnx->-r requirements.txt (line 1)) (3.7.0)\n",
      "Requirement already satisfied: flatbuffers>=24.0.0 in ./.conda/lib/python3.12/site-packages (from openmeteo-sdk>=1.4.0->openmeteo_requests->-r requirements.txt (line 4)) (24.3.25)\n",
      "Requirement already satisfied: pytz>=2020.1 in ./.conda/lib/python3.12/site-packages (from pandas>=1.4->osmnx->-r requirements.txt (line 1)) (2024.2)\n",
      "Requirement already satisfied: tzdata>=2022.7 in ./.conda/lib/python3.12/site-packages (from pandas>=1.4->osmnx->-r requirements.txt (line 1)) (2024.2)\n",
      "Requirement already satisfied: six>=1.5 in ./.conda/lib/python3.12/site-packages (from python-dateutil>=2.7->matplotlib->-r requirements.txt (line 3)) (1.16.0)\n",
      "Using cached retry_requests-2.0.0-py3-none-any.whl (15 kB)\n",
      "Installing collected packages: retry-requests\n",
      "Successfully installed retry-requests-2.0.0\n"
     ]
    }
   ],
   "source": [
    "!pip install -r requirements.txt"
   ]
  },
  {
   "cell_type": "code",
   "execution_count": null,
   "metadata": {},
   "outputs": [],
   "source": [
    "import matplotlib.pyplot as plt\n",
    "import pickle\n",
    "\n",
    "from keys import TOMTOM_API_KEY, TOMTOM_API_KEY2, TOMTOM_API_KEY3\n",
    "from TomTomAPI import get_traffic_map, plot_traffic_map, get_grid_from_map, get_traffic_map_from_grid"
   ]
  },
  {
   "cell_type": "code",
   "execution_count": null,
   "metadata": {},
   "outputs": [],
   "source": [
    "coordinates = 59.34318, 18.05141 # Stockholm\n",
    "radius = 1000\n",
    "zoom = 20\n",
    "\n",
    "traffic_map = get_traffic_map(TOMTOM_API_KEY2, coordinates, radius, zoom = zoom)"
   ]
  },
  {
   "cell_type": "code",
   "execution_count": null,
   "metadata": {},
   "outputs": [],
   "source": [
    "print(len(traffic_map))\n",
    "traffic_map = set([str(s) for s in traffic_map])\n",
    "traffic_map = [eval(s) for s in list(traffic_map)]\n",
    "print(len(traffic_map))\n",
    "\n",
    "plot_traffic_map(traffic_map)"
   ]
  },
  {
   "cell_type": "code",
   "execution_count": null,
   "metadata": {},
   "outputs": [],
   "source": [
    "grid = get_grid_from_map(traffic_map)"
   ]
  },
  {
   "cell_type": "code",
   "execution_count": null,
   "metadata": {},
   "outputs": [],
   "source": [
    "traffic_map2 = get_traffic_map_from_grid(TOMTOM_API_KEY2,grid, zoom = zoom)\n",
    "\n",
    "print(len(traffic_map))\n",
    "traffic_map = set([str(s) for s in traffic_map])\n",
    "traffic_map = [eval(s) for s in list(traffic_map)]\n",
    "print(len(traffic_map))\n",
    "\n",
    "plot_traffic_map(traffic_map2, name = 'figures/traffic_map2.png')\n",
    "\n",
    "with open('variables/grid.pickle', 'wb') as file:\n",
    "    # Serialize and write the variable to the file\n",
    "    pickle.dump(grid, file)"
   ]
  }
 ],
 "metadata": {
  "kernelspec": {
   "display_name": "Python 3",
   "language": "python",
   "name": "python3"
  },
  "language_info": {
   "codemirror_mode": {
    "name": "ipython",
    "version": 3
   },
   "file_extension": ".py",
   "mimetype": "text/x-python",
   "name": "python",
   "nbconvert_exporter": "python",
   "pygments_lexer": "ipython3",
   "version": "3.12.7"
  }
 },
 "nbformat": 4,
 "nbformat_minor": 2
}

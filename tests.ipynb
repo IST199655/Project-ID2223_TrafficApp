{
 "cells": [
  {
   "cell_type": "code",
   "execution_count": null,
   "metadata": {},
   "outputs": [],
   "source": [
    "!pip install -r requirements.txt"
   ]
  },
  {
   "cell_type": "code",
   "execution_count": 2,
   "metadata": {},
   "outputs": [
    {
     "name": "stdout",
     "output_type": "stream",
     "text": [
      "Collecting osmnx (from -r requirements.txt (line 1))\n",
      "  Using cached osmnx-2.0.0-py3-none-any.whl.metadata (4.8 kB)\n",
      "Collecting geopandas>=1.0 (from osmnx->-r requirements.txt (line 1))\n",
      "  Using cached geopandas-1.0.1-py3-none-any.whl.metadata (2.2 kB)\n",
      "Collecting networkx>=2.5 (from osmnx->-r requirements.txt (line 1))\n",
      "  Using cached networkx-3.4.2-py3-none-any.whl.metadata (6.3 kB)\n",
      "Collecting numpy>=1.22 (from osmnx->-r requirements.txt (line 1))\n",
      "  Downloading numpy-2.2.0-cp312-cp312-macosx_14_0_x86_64.whl.metadata (62 kB)\n",
      "Collecting pandas>=1.4 (from osmnx->-r requirements.txt (line 1))\n",
      "  Using cached pandas-2.2.3-cp312-cp312-macosx_10_9_x86_64.whl.metadata (89 kB)\n",
      "Collecting requests>=2.27 (from osmnx->-r requirements.txt (line 1))\n",
      "  Using cached requests-2.32.3-py3-none-any.whl.metadata (4.6 kB)\n",
      "Collecting shapely>=2.0 (from osmnx->-r requirements.txt (line 1))\n",
      "  Using cached shapely-2.0.6-cp312-cp312-macosx_10_9_x86_64.whl.metadata (7.0 kB)\n",
      "Collecting pyogrio>=0.7.2 (from geopandas>=1.0->osmnx->-r requirements.txt (line 1))\n",
      "  Using cached pyogrio-0.10.0-cp312-cp312-macosx_12_0_x86_64.whl.metadata (5.5 kB)\n",
      "Requirement already satisfied: packaging in ./.conda/lib/python3.12/site-packages (from geopandas>=1.0->osmnx->-r requirements.txt (line 1)) (24.1)\n",
      "Collecting pyproj>=3.3.0 (from geopandas>=1.0->osmnx->-r requirements.txt (line 1))\n",
      "  Using cached pyproj-3.7.0-cp312-cp312-macosx_12_0_x86_64.whl.metadata (31 kB)\n",
      "Requirement already satisfied: python-dateutil>=2.8.2 in ./.conda/lib/python3.12/site-packages (from pandas>=1.4->osmnx->-r requirements.txt (line 1)) (2.9.0.post0)\n",
      "Collecting pytz>=2020.1 (from pandas>=1.4->osmnx->-r requirements.txt (line 1))\n",
      "  Using cached pytz-2024.2-py2.py3-none-any.whl.metadata (22 kB)\n",
      "Collecting tzdata>=2022.7 (from pandas>=1.4->osmnx->-r requirements.txt (line 1))\n",
      "  Using cached tzdata-2024.2-py2.py3-none-any.whl.metadata (1.4 kB)\n",
      "Collecting charset-normalizer<4,>=2 (from requests>=2.27->osmnx->-r requirements.txt (line 1))\n",
      "  Using cached charset_normalizer-3.4.0-cp312-cp312-macosx_10_13_x86_64.whl.metadata (34 kB)\n",
      "Collecting idna<4,>=2.5 (from requests>=2.27->osmnx->-r requirements.txt (line 1))\n",
      "  Using cached idna-3.10-py3-none-any.whl.metadata (10 kB)\n",
      "Collecting urllib3<3,>=1.21.1 (from requests>=2.27->osmnx->-r requirements.txt (line 1))\n",
      "  Using cached urllib3-2.2.3-py3-none-any.whl.metadata (6.5 kB)\n",
      "Collecting certifi>=2017.4.17 (from requests>=2.27->osmnx->-r requirements.txt (line 1))\n",
      "  Using cached certifi-2024.8.30-py3-none-any.whl.metadata (2.2 kB)\n",
      "Requirement already satisfied: six>=1.5 in ./.conda/lib/python3.12/site-packages (from python-dateutil>=2.8.2->pandas>=1.4->osmnx->-r requirements.txt (line 1)) (1.16.0)\n",
      "Using cached osmnx-2.0.0-py3-none-any.whl (99 kB)\n",
      "Using cached geopandas-1.0.1-py3-none-any.whl (323 kB)\n",
      "Using cached networkx-3.4.2-py3-none-any.whl (1.7 MB)\n",
      "Downloading numpy-2.2.0-cp312-cp312-macosx_14_0_x86_64.whl (6.7 MB)\n",
      "\u001b[2K   \u001b[90m━━━━━━━━━━━━━━━━━━━━━━━━━━━━━━━━━━━━━━━━\u001b[0m \u001b[32m6.7/6.7 MB\u001b[0m \u001b[31m4.1 MB/s\u001b[0m eta \u001b[36m0:00:00\u001b[0ma \u001b[36m0:00:01\u001b[0m\n",
      "\u001b[?25hUsing cached pandas-2.2.3-cp312-cp312-macosx_10_9_x86_64.whl (12.5 MB)\n",
      "Using cached requests-2.32.3-py3-none-any.whl (64 kB)\n",
      "Using cached shapely-2.0.6-cp312-cp312-macosx_10_9_x86_64.whl (1.5 MB)\n",
      "Using cached certifi-2024.8.30-py3-none-any.whl (167 kB)\n",
      "Using cached charset_normalizer-3.4.0-cp312-cp312-macosx_10_13_x86_64.whl (125 kB)\n",
      "Using cached idna-3.10-py3-none-any.whl (70 kB)\n",
      "Using cached pyogrio-0.10.0-cp312-cp312-macosx_12_0_x86_64.whl (16.4 MB)\n",
      "Using cached pyproj-3.7.0-cp312-cp312-macosx_12_0_x86_64.whl (6.3 MB)\n",
      "Using cached pytz-2024.2-py2.py3-none-any.whl (508 kB)\n",
      "Using cached tzdata-2024.2-py2.py3-none-any.whl (346 kB)\n",
      "Using cached urllib3-2.2.3-py3-none-any.whl (126 kB)\n",
      "Installing collected packages: pytz, urllib3, tzdata, numpy, networkx, idna, charset-normalizer, certifi, shapely, requests, pyproj, pyogrio, pandas, geopandas, osmnx\n",
      "Successfully installed certifi-2024.8.30 charset-normalizer-3.4.0 geopandas-1.0.1 idna-3.10 networkx-3.4.2 numpy-2.2.0 osmnx-2.0.0 pandas-2.2.3 pyogrio-0.10.0 pyproj-3.7.0 pytz-2024.2 requests-2.32.3 shapely-2.0.6 tzdata-2024.2 urllib3-2.2.3\n"
     ]
    }
   ],
   "source": [
    "import requests\n",
    "from keys import TOMTOM_API_KEY\n",
    "import json"
   ]
  },
  {
   "cell_type": "code",
   "execution_count": 14,
   "metadata": {},
   "outputs": [
    {
     "name": "stdout",
     "output_type": "stream",
     "text": [
      "Error fetching traffic flow data: <h1>596 Service Not Found</h1>\n"
     ]
    },
    {
     "ename": "TypeError",
     "evalue": "'NoneType' object is not subscriptable",
     "output_type": "error",
     "traceback": [
      "\u001b[0;31m---------------------------------------------------------------------------\u001b[0m",
      "\u001b[0;31mTypeError\u001b[0m                                 Traceback (most recent call last)",
      "Cell \u001b[0;32mIn[14], line 33\u001b[0m\n\u001b[1;32m     31\u001b[0m \u001b[38;5;66;03m# Extract road segments from traffic data\u001b[39;00m\n\u001b[1;32m     32\u001b[0m road_segments \u001b[38;5;241m=\u001b[39m []\n\u001b[0;32m---> 33\u001b[0m \u001b[38;5;28;01mfor\u001b[39;00m feature \u001b[38;5;129;01min\u001b[39;00m \u001b[43mtraffic_data\u001b[49m\u001b[43m[\u001b[49m\u001b[38;5;124;43m'\u001b[39;49m\u001b[38;5;124;43mflowFeatures\u001b[39;49m\u001b[38;5;124;43m'\u001b[39;49m\u001b[43m]\u001b[49m:\n\u001b[1;32m     34\u001b[0m     geometry \u001b[38;5;241m=\u001b[39m feature[\u001b[38;5;124m'\u001b[39m\u001b[38;5;124mgeometry\u001b[39m\u001b[38;5;124m'\u001b[39m]\n\u001b[1;32m     35\u001b[0m     coordinates \u001b[38;5;241m=\u001b[39m geometry[\u001b[38;5;124m'\u001b[39m\u001b[38;5;124mcoordinates\u001b[39m\u001b[38;5;124m'\u001b[39m]\n",
      "\u001b[0;31mTypeError\u001b[0m: 'NoneType' object is not subscriptable"
     ]
    }
   ],
   "source": [
    "# Define the bounding box coordinates\n",
    "bbox = \"12.34,56.78,89.10,12.34\"  # Replace with your desired coordinates\n",
    "\n",
    "# Base URL for the Traffic Flow API\n",
    "traffic_flow_url = \"https://api.tomtom.com/traffic/flow/1/flow/{bbox}?key={api_key}\"\n",
    "\n",
    "# Base URL for the Road Geometry API\n",
    "road_geometry_url = \"https://api.tomtom.com/routing/1/calculateRoute/{start},{end}?key={api_key}&routeType=fastest\"\n",
    "\n",
    "def get_traffic_flow_data(bbox, api_key):\n",
    "    url = traffic_flow_url.format(bbox=bbox, api_key=api_key)\n",
    "    response = requests.get(url)\n",
    "    if response.status_code == 200:\n",
    "        return response.json()\n",
    "    else:\n",
    "        print(f\"Error fetching traffic flow data: {response.text}\")\n",
    "        return None\n",
    "\n",
    "def get_road_geometry_data(start_point, end_point, api_key):\n",
    "    url = road_geometry_url.format(start=start_point, end=end_point, api_key=api_key)\n",
    "    response = requests.get(url)\n",
    "    if response.status_code == 200:\n",
    "        return response.json()\n",
    "    else:\n",
    "        print(f\"Error fetching road geometry data: {response.text}\")\n",
    "        return None\n",
    "\n",
    "# Get traffic flow data for the specified bounding box\n",
    "traffic_data = get_traffic_flow_data(bbox, TOMTOM_API_KEY)\n",
    "\n",
    "# Extract road segments from traffic data\n",
    "road_segments = []\n",
    "for feature in traffic_data['flowFeatures']:\n",
    "    geometry = feature['geometry']\n",
    "    coordinates = geometry['coordinates']\n",
    "    road_segments.append(coordinates)\n",
    "\n",
    "# For each road segment, get detailed road geometry\n",
    "for segment in road_segments:\n",
    "    start_point = f\"{segment[0][1]},{segment[0][0]}\"\n",
    "    end_point = f\"{segment[1][1]},{segment[1][0]}\"\n",
    "    geometry_data = get_road_geometry_data(start_point, end_point, TOMTOM_API_KEY)\n",
    "    # Process the geometry data as needed (e.g., extract road type, lane count, etc.)"
   ]
  },
  {
   "cell_type": "code",
   "execution_count": 5,
   "metadata": {},
   "outputs": [
    {
     "data": {
      "text/plain": [
       "[40.712200011529475, 40.7122, -74.04449999347214, -74.0445]"
      ]
     },
     "execution_count": 5,
     "metadata": {},
     "output_type": "execute_result"
    }
   ],
   "source": [
    "bbox = [40.71265107913669, 40.7122, -74.04424460431655, -74.0445]\n",
    "\n",
    "reduce = 39124\n",
    "\n",
    "reduced = [bbox[1] + (bbox[0]-bbox[1])/reduce, bbox[1], bbox[3] + (bbox[2]-bbox[3])/reduce, bbox[3]]\n",
    "reduced"
   ]
  }
 ],
 "metadata": {
  "kernelspec": {
   "display_name": "Python 3",
   "language": "python",
   "name": "python3"
  },
  "language_info": {
   "codemirror_mode": {
    "name": "ipython",
    "version": 3
   },
   "file_extension": ".py",
   "mimetype": "text/x-python",
   "name": "python",
   "nbconvert_exporter": "python",
   "pygments_lexer": "ipython3",
   "version": "3.12.7"
  }
 },
 "nbformat": 4,
 "nbformat_minor": 2
}

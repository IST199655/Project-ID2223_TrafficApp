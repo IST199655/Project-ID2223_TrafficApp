{
 "cells": [
  {
   "cell_type": "code",
   "execution_count": null,
   "metadata": {},
   "outputs": [],
   "source": [
    "import requests\n",
    "from keys import TOMTOM_API_KEY\n",
    "import json"
   ]
  },
  {
   "cell_type": "code",
   "execution_count": 14,
   "metadata": {},
   "outputs": [
    {
     "name": "stdout",
     "output_type": "stream",
     "text": [
      "Error fetching traffic flow data: <h1>596 Service Not Found</h1>\n"
     ]
    },
    {
     "ename": "TypeError",
     "evalue": "'NoneType' object is not subscriptable",
     "output_type": "error",
     "traceback": [
      "\u001b[0;31m---------------------------------------------------------------------------\u001b[0m",
      "\u001b[0;31mTypeError\u001b[0m                                 Traceback (most recent call last)",
      "Cell \u001b[0;32mIn[14], line 33\u001b[0m\n\u001b[1;32m     31\u001b[0m \u001b[38;5;66;03m# Extract road segments from traffic data\u001b[39;00m\n\u001b[1;32m     32\u001b[0m road_segments \u001b[38;5;241m=\u001b[39m []\n\u001b[0;32m---> 33\u001b[0m \u001b[38;5;28;01mfor\u001b[39;00m feature \u001b[38;5;129;01min\u001b[39;00m \u001b[43mtraffic_data\u001b[49m\u001b[43m[\u001b[49m\u001b[38;5;124;43m'\u001b[39;49m\u001b[38;5;124;43mflowFeatures\u001b[39;49m\u001b[38;5;124;43m'\u001b[39;49m\u001b[43m]\u001b[49m:\n\u001b[1;32m     34\u001b[0m     geometry \u001b[38;5;241m=\u001b[39m feature[\u001b[38;5;124m'\u001b[39m\u001b[38;5;124mgeometry\u001b[39m\u001b[38;5;124m'\u001b[39m]\n\u001b[1;32m     35\u001b[0m     coordinates \u001b[38;5;241m=\u001b[39m geometry[\u001b[38;5;124m'\u001b[39m\u001b[38;5;124mcoordinates\u001b[39m\u001b[38;5;124m'\u001b[39m]\n",
      "\u001b[0;31mTypeError\u001b[0m: 'NoneType' object is not subscriptable"
     ]
    }
   ],
   "source": [
    "# Define the bounding box coordinates\n",
    "bbox = \"12.34,56.78,89.10,12.34\"  # Replace with your desired coordinates\n",
    "\n",
    "# Base URL for the Traffic Flow API\n",
    "traffic_flow_url = \"https://api.tomtom.com/traffic/flow/1/flow/{bbox}?key={api_key}\"\n",
    "\n",
    "# Base URL for the Road Geometry API\n",
    "road_geometry_url = \"https://api.tomtom.com/routing/1/calculateRoute/{start},{end}?key={api_key}&routeType=fastest\"\n",
    "\n",
    "def get_traffic_flow_data(bbox, api_key):\n",
    "    url = traffic_flow_url.format(bbox=bbox, api_key=api_key)\n",
    "    response = requests.get(url)\n",
    "    if response.status_code == 200:\n",
    "        return response.json()\n",
    "    else:\n",
    "        print(f\"Error fetching traffic flow data: {response.text}\")\n",
    "        return None\n",
    "\n",
    "def get_road_geometry_data(start_point, end_point, api_key):\n",
    "    url = road_geometry_url.format(start=start_point, end=end_point, api_key=api_key)\n",
    "    response = requests.get(url)\n",
    "    if response.status_code == 200:\n",
    "        return response.json()\n",
    "    else:\n",
    "        print(f\"Error fetching road geometry data: {response.text}\")\n",
    "        return None\n",
    "\n",
    "# Get traffic flow data for the specified bounding box\n",
    "traffic_data = get_traffic_flow_data(bbox, TOMTOM_API_KEY)\n",
    "\n",
    "# Extract road segments from traffic data\n",
    "road_segments = []\n",
    "for feature in traffic_data['flowFeatures']:\n",
    "    geometry = feature['geometry']\n",
    "    coordinates = geometry['coordinates']\n",
    "    road_segments.append(coordinates)\n",
    "\n",
    "# For each road segment, get detailed road geometry\n",
    "for segment in road_segments:\n",
    "    start_point = f\"{segment[0][1]},{segment[0][0]}\"\n",
    "    end_point = f\"{segment[1][1]},{segment[1][0]}\"\n",
    "    geometry_data = get_road_geometry_data(start_point, end_point, TOMTOM_API_KEY)\n",
    "    # Process the geometry data as needed (e.g., extract road type, lane count, etc.)"
   ]
  }
 ],
 "metadata": {
  "kernelspec": {
   "display_name": "Python 3",
   "language": "python",
   "name": "python3"
  },
  "language_info": {
   "codemirror_mode": {
    "name": "ipython",
    "version": 3
   },
   "file_extension": ".py",
   "mimetype": "text/x-python",
   "name": "python",
   "nbconvert_exporter": "python",
   "pygments_lexer": "ipython3",
   "version": "3.12.2"
  }
 },
 "nbformat": 4,
 "nbformat_minor": 2
}
